{
 "cells": [
  {
   "cell_type": "markdown",
   "metadata": {},
   "source": [
    "# Определение перспективного тарифа для телеком компании"
   ]
  },
  {
   "cell_type": "markdown",
   "metadata": {},
   "source": [
    "Необходимо изучить ввыодные данные, подготовить их для удобных вычислений, посчитать метрики, проверить гипотезы, сделать выводу."
   ]
  },
  {
   "cell_type": "markdown",
   "metadata": {},
   "source": [
    "#### Откроем файлы с данными и изучим общую информацию"
   ]
  },
  {
   "cell_type": "code",
   "execution_count": 159,
   "metadata": {},
   "outputs": [
    {
     "data": {
      "text/html": [
       "<div>\n",
       "<style scoped>\n",
       "    .dataframe tbody tr th:only-of-type {\n",
       "        vertical-align: middle;\n",
       "    }\n",
       "\n",
       "    .dataframe tbody tr th {\n",
       "        vertical-align: top;\n",
       "    }\n",
       "\n",
       "    .dataframe thead th {\n",
       "        text-align: right;\n",
       "    }\n",
       "</style>\n",
       "<table border=\"1\" class=\"dataframe\">\n",
       "  <thead>\n",
       "    <tr style=\"text-align: right;\">\n",
       "      <th></th>\n",
       "      <th>id</th>\n",
       "      <th>call_date</th>\n",
       "      <th>duration</th>\n",
       "      <th>user_id</th>\n",
       "    </tr>\n",
       "  </thead>\n",
       "  <tbody>\n",
       "    <tr>\n",
       "      <td>0</td>\n",
       "      <td>1000_0</td>\n",
       "      <td>2018-07-25</td>\n",
       "      <td>0.00</td>\n",
       "      <td>1000</td>\n",
       "    </tr>\n",
       "    <tr>\n",
       "      <td>1</td>\n",
       "      <td>1000_1</td>\n",
       "      <td>2018-08-17</td>\n",
       "      <td>0.00</td>\n",
       "      <td>1000</td>\n",
       "    </tr>\n",
       "    <tr>\n",
       "      <td>2</td>\n",
       "      <td>1000_2</td>\n",
       "      <td>2018-06-11</td>\n",
       "      <td>2.85</td>\n",
       "      <td>1000</td>\n",
       "    </tr>\n",
       "    <tr>\n",
       "      <td>3</td>\n",
       "      <td>1000_3</td>\n",
       "      <td>2018-09-21</td>\n",
       "      <td>13.80</td>\n",
       "      <td>1000</td>\n",
       "    </tr>\n",
       "    <tr>\n",
       "      <td>4</td>\n",
       "      <td>1000_4</td>\n",
       "      <td>2018-12-15</td>\n",
       "      <td>5.18</td>\n",
       "      <td>1000</td>\n",
       "    </tr>\n",
       "    <tr>\n",
       "      <td>...</td>\n",
       "      <td>...</td>\n",
       "      <td>...</td>\n",
       "      <td>...</td>\n",
       "      <td>...</td>\n",
       "    </tr>\n",
       "    <tr>\n",
       "      <td>202602</td>\n",
       "      <td>1499_215</td>\n",
       "      <td>2018-12-26</td>\n",
       "      <td>0.76</td>\n",
       "      <td>1499</td>\n",
       "    </tr>\n",
       "    <tr>\n",
       "      <td>202603</td>\n",
       "      <td>1499_216</td>\n",
       "      <td>2018-10-18</td>\n",
       "      <td>18.83</td>\n",
       "      <td>1499</td>\n",
       "    </tr>\n",
       "    <tr>\n",
       "      <td>202604</td>\n",
       "      <td>1499_217</td>\n",
       "      <td>2018-11-10</td>\n",
       "      <td>10.81</td>\n",
       "      <td>1499</td>\n",
       "    </tr>\n",
       "    <tr>\n",
       "      <td>202605</td>\n",
       "      <td>1499_218</td>\n",
       "      <td>2018-10-06</td>\n",
       "      <td>4.27</td>\n",
       "      <td>1499</td>\n",
       "    </tr>\n",
       "    <tr>\n",
       "      <td>202606</td>\n",
       "      <td>1499_219</td>\n",
       "      <td>2018-12-14</td>\n",
       "      <td>19.62</td>\n",
       "      <td>1499</td>\n",
       "    </tr>\n",
       "  </tbody>\n",
       "</table>\n",
       "<p>202607 rows × 4 columns</p>\n",
       "</div>"
      ],
      "text/plain": [
       "              id   call_date  duration  user_id\n",
       "0         1000_0  2018-07-25      0.00     1000\n",
       "1         1000_1  2018-08-17      0.00     1000\n",
       "2         1000_2  2018-06-11      2.85     1000\n",
       "3         1000_3  2018-09-21     13.80     1000\n",
       "4         1000_4  2018-12-15      5.18     1000\n",
       "...          ...         ...       ...      ...\n",
       "202602  1499_215  2018-12-26      0.76     1499\n",
       "202603  1499_216  2018-10-18     18.83     1499\n",
       "202604  1499_217  2018-11-10     10.81     1499\n",
       "202605  1499_218  2018-10-06      4.27     1499\n",
       "202606  1499_219  2018-12-14     19.62     1499\n",
       "\n",
       "[202607 rows x 4 columns]"
      ]
     },
     "metadata": {},
     "output_type": "display_data"
    },
    {
     "name": "stdout",
     "output_type": "stream",
     "text": [
      "<class 'pandas.core.frame.DataFrame'>\n",
      "RangeIndex: 202607 entries, 0 to 202606\n",
      "Data columns (total 4 columns):\n",
      "id           202607 non-null object\n",
      "call_date    202607 non-null object\n",
      "duration     202607 non-null float64\n",
      "user_id      202607 non-null int64\n",
      "dtypes: float64(1), int64(1), object(2)\n",
      "memory usage: 6.2+ MB\n",
      "None None\n"
     ]
    },
    {
     "data": {
      "text/html": [
       "<div>\n",
       "<style scoped>\n",
       "    .dataframe tbody tr th:only-of-type {\n",
       "        vertical-align: middle;\n",
       "    }\n",
       "\n",
       "    .dataframe tbody tr th {\n",
       "        vertical-align: top;\n",
       "    }\n",
       "\n",
       "    .dataframe thead th {\n",
       "        text-align: right;\n",
       "    }\n",
       "</style>\n",
       "<table border=\"1\" class=\"dataframe\">\n",
       "  <thead>\n",
       "    <tr style=\"text-align: right;\">\n",
       "      <th></th>\n",
       "      <th>Unnamed: 0</th>\n",
       "      <th>id</th>\n",
       "      <th>mb_used</th>\n",
       "      <th>session_date</th>\n",
       "      <th>user_id</th>\n",
       "    </tr>\n",
       "  </thead>\n",
       "  <tbody>\n",
       "    <tr>\n",
       "      <td>0</td>\n",
       "      <td>0</td>\n",
       "      <td>1000_0</td>\n",
       "      <td>112.95</td>\n",
       "      <td>2018-11-25</td>\n",
       "      <td>1000</td>\n",
       "    </tr>\n",
       "    <tr>\n",
       "      <td>1</td>\n",
       "      <td>1</td>\n",
       "      <td>1000_1</td>\n",
       "      <td>1052.81</td>\n",
       "      <td>2018-09-07</td>\n",
       "      <td>1000</td>\n",
       "    </tr>\n",
       "    <tr>\n",
       "      <td>2</td>\n",
       "      <td>2</td>\n",
       "      <td>1000_2</td>\n",
       "      <td>1197.26</td>\n",
       "      <td>2018-06-25</td>\n",
       "      <td>1000</td>\n",
       "    </tr>\n",
       "    <tr>\n",
       "      <td>3</td>\n",
       "      <td>3</td>\n",
       "      <td>1000_3</td>\n",
       "      <td>550.27</td>\n",
       "      <td>2018-08-22</td>\n",
       "      <td>1000</td>\n",
       "    </tr>\n",
       "    <tr>\n",
       "      <td>4</td>\n",
       "      <td>4</td>\n",
       "      <td>1000_4</td>\n",
       "      <td>302.56</td>\n",
       "      <td>2018-09-24</td>\n",
       "      <td>1000</td>\n",
       "    </tr>\n",
       "    <tr>\n",
       "      <td>...</td>\n",
       "      <td>...</td>\n",
       "      <td>...</td>\n",
       "      <td>...</td>\n",
       "      <td>...</td>\n",
       "      <td>...</td>\n",
       "    </tr>\n",
       "    <tr>\n",
       "      <td>149391</td>\n",
       "      <td>149391</td>\n",
       "      <td>1499_152</td>\n",
       "      <td>318.90</td>\n",
       "      <td>2018-10-03</td>\n",
       "      <td>1499</td>\n",
       "    </tr>\n",
       "    <tr>\n",
       "      <td>149392</td>\n",
       "      <td>149392</td>\n",
       "      <td>1499_153</td>\n",
       "      <td>490.13</td>\n",
       "      <td>2018-12-14</td>\n",
       "      <td>1499</td>\n",
       "    </tr>\n",
       "    <tr>\n",
       "      <td>149393</td>\n",
       "      <td>149393</td>\n",
       "      <td>1499_154</td>\n",
       "      <td>0.00</td>\n",
       "      <td>2018-10-27</td>\n",
       "      <td>1499</td>\n",
       "    </tr>\n",
       "    <tr>\n",
       "      <td>149394</td>\n",
       "      <td>149394</td>\n",
       "      <td>1499_155</td>\n",
       "      <td>1246.32</td>\n",
       "      <td>2018-11-26</td>\n",
       "      <td>1499</td>\n",
       "    </tr>\n",
       "    <tr>\n",
       "      <td>149395</td>\n",
       "      <td>149395</td>\n",
       "      <td>1499_156</td>\n",
       "      <td>544.37</td>\n",
       "      <td>2018-10-26</td>\n",
       "      <td>1499</td>\n",
       "    </tr>\n",
       "  </tbody>\n",
       "</table>\n",
       "<p>149396 rows × 5 columns</p>\n",
       "</div>"
      ],
      "text/plain": [
       "        Unnamed: 0        id  mb_used session_date  user_id\n",
       "0                0    1000_0   112.95   2018-11-25     1000\n",
       "1                1    1000_1  1052.81   2018-09-07     1000\n",
       "2                2    1000_2  1197.26   2018-06-25     1000\n",
       "3                3    1000_3   550.27   2018-08-22     1000\n",
       "4                4    1000_4   302.56   2018-09-24     1000\n",
       "...            ...       ...      ...          ...      ...\n",
       "149391      149391  1499_152   318.90   2018-10-03     1499\n",
       "149392      149392  1499_153   490.13   2018-12-14     1499\n",
       "149393      149393  1499_154     0.00   2018-10-27     1499\n",
       "149394      149394  1499_155  1246.32   2018-11-26     1499\n",
       "149395      149395  1499_156   544.37   2018-10-26     1499\n",
       "\n",
       "[149396 rows x 5 columns]"
      ]
     },
     "metadata": {},
     "output_type": "display_data"
    },
    {
     "name": "stdout",
     "output_type": "stream",
     "text": [
      "<class 'pandas.core.frame.DataFrame'>\n",
      "RangeIndex: 149396 entries, 0 to 149395\n",
      "Data columns (total 5 columns):\n",
      "Unnamed: 0      149396 non-null int64\n",
      "id              149396 non-null object\n",
      "mb_used         149396 non-null float64\n",
      "session_date    149396 non-null object\n",
      "user_id         149396 non-null int64\n",
      "dtypes: float64(1), int64(2), object(2)\n",
      "memory usage: 5.7+ MB\n",
      "None None\n"
     ]
    },
    {
     "data": {
      "text/html": [
       "<div>\n",
       "<style scoped>\n",
       "    .dataframe tbody tr th:only-of-type {\n",
       "        vertical-align: middle;\n",
       "    }\n",
       "\n",
       "    .dataframe tbody tr th {\n",
       "        vertical-align: top;\n",
       "    }\n",
       "\n",
       "    .dataframe thead th {\n",
       "        text-align: right;\n",
       "    }\n",
       "</style>\n",
       "<table border=\"1\" class=\"dataframe\">\n",
       "  <thead>\n",
       "    <tr style=\"text-align: right;\">\n",
       "      <th></th>\n",
       "      <th>id</th>\n",
       "      <th>message_date</th>\n",
       "      <th>user_id</th>\n",
       "    </tr>\n",
       "  </thead>\n",
       "  <tbody>\n",
       "    <tr>\n",
       "      <td>0</td>\n",
       "      <td>1000_0</td>\n",
       "      <td>2018-06-27</td>\n",
       "      <td>1000</td>\n",
       "    </tr>\n",
       "    <tr>\n",
       "      <td>1</td>\n",
       "      <td>1000_1</td>\n",
       "      <td>2018-10-08</td>\n",
       "      <td>1000</td>\n",
       "    </tr>\n",
       "    <tr>\n",
       "      <td>2</td>\n",
       "      <td>1000_2</td>\n",
       "      <td>2018-08-04</td>\n",
       "      <td>1000</td>\n",
       "    </tr>\n",
       "    <tr>\n",
       "      <td>3</td>\n",
       "      <td>1000_3</td>\n",
       "      <td>2018-06-16</td>\n",
       "      <td>1000</td>\n",
       "    </tr>\n",
       "    <tr>\n",
       "      <td>4</td>\n",
       "      <td>1000_4</td>\n",
       "      <td>2018-12-05</td>\n",
       "      <td>1000</td>\n",
       "    </tr>\n",
       "    <tr>\n",
       "      <td>...</td>\n",
       "      <td>...</td>\n",
       "      <td>...</td>\n",
       "      <td>...</td>\n",
       "    </tr>\n",
       "    <tr>\n",
       "      <td>123031</td>\n",
       "      <td>1499_179</td>\n",
       "      <td>2018-12-12</td>\n",
       "      <td>1499</td>\n",
       "    </tr>\n",
       "    <tr>\n",
       "      <td>123032</td>\n",
       "      <td>1499_180</td>\n",
       "      <td>2018-09-28</td>\n",
       "      <td>1499</td>\n",
       "    </tr>\n",
       "    <tr>\n",
       "      <td>123033</td>\n",
       "      <td>1499_181</td>\n",
       "      <td>2018-09-27</td>\n",
       "      <td>1499</td>\n",
       "    </tr>\n",
       "    <tr>\n",
       "      <td>123034</td>\n",
       "      <td>1499_182</td>\n",
       "      <td>2018-11-15</td>\n",
       "      <td>1499</td>\n",
       "    </tr>\n",
       "    <tr>\n",
       "      <td>123035</td>\n",
       "      <td>1499_183</td>\n",
       "      <td>2018-11-16</td>\n",
       "      <td>1499</td>\n",
       "    </tr>\n",
       "  </tbody>\n",
       "</table>\n",
       "<p>123036 rows × 3 columns</p>\n",
       "</div>"
      ],
      "text/plain": [
       "              id message_date  user_id\n",
       "0         1000_0   2018-06-27     1000\n",
       "1         1000_1   2018-10-08     1000\n",
       "2         1000_2   2018-08-04     1000\n",
       "3         1000_3   2018-06-16     1000\n",
       "4         1000_4   2018-12-05     1000\n",
       "...          ...          ...      ...\n",
       "123031  1499_179   2018-12-12     1499\n",
       "123032  1499_180   2018-09-28     1499\n",
       "123033  1499_181   2018-09-27     1499\n",
       "123034  1499_182   2018-11-15     1499\n",
       "123035  1499_183   2018-11-16     1499\n",
       "\n",
       "[123036 rows x 3 columns]"
      ]
     },
     "metadata": {},
     "output_type": "display_data"
    },
    {
     "name": "stdout",
     "output_type": "stream",
     "text": [
      "<class 'pandas.core.frame.DataFrame'>\n",
      "RangeIndex: 123036 entries, 0 to 123035\n",
      "Data columns (total 3 columns):\n",
      "id              123036 non-null object\n",
      "message_date    123036 non-null object\n",
      "user_id         123036 non-null int64\n",
      "dtypes: int64(1), object(2)\n",
      "memory usage: 2.8+ MB\n",
      "None None\n"
     ]
    },
    {
     "data": {
      "text/html": [
       "<div>\n",
       "<style scoped>\n",
       "    .dataframe tbody tr th:only-of-type {\n",
       "        vertical-align: middle;\n",
       "    }\n",
       "\n",
       "    .dataframe tbody tr th {\n",
       "        vertical-align: top;\n",
       "    }\n",
       "\n",
       "    .dataframe thead th {\n",
       "        text-align: right;\n",
       "    }\n",
       "</style>\n",
       "<table border=\"1\" class=\"dataframe\">\n",
       "  <thead>\n",
       "    <tr style=\"text-align: right;\">\n",
       "      <th></th>\n",
       "      <th>messages_included</th>\n",
       "      <th>mb_per_month_included</th>\n",
       "      <th>minutes_included</th>\n",
       "      <th>rub_monthly_fee</th>\n",
       "      <th>rub_per_gb</th>\n",
       "      <th>rub_per_message</th>\n",
       "      <th>rub_per_minute</th>\n",
       "      <th>tariff_name</th>\n",
       "    </tr>\n",
       "  </thead>\n",
       "  <tbody>\n",
       "    <tr>\n",
       "      <td>0</td>\n",
       "      <td>50</td>\n",
       "      <td>15360</td>\n",
       "      <td>500</td>\n",
       "      <td>550</td>\n",
       "      <td>200</td>\n",
       "      <td>3</td>\n",
       "      <td>3</td>\n",
       "      <td>smart</td>\n",
       "    </tr>\n",
       "    <tr>\n",
       "      <td>1</td>\n",
       "      <td>1000</td>\n",
       "      <td>30720</td>\n",
       "      <td>3000</td>\n",
       "      <td>1950</td>\n",
       "      <td>150</td>\n",
       "      <td>1</td>\n",
       "      <td>1</td>\n",
       "      <td>ultra</td>\n",
       "    </tr>\n",
       "  </tbody>\n",
       "</table>\n",
       "</div>"
      ],
      "text/plain": [
       "   messages_included  mb_per_month_included  minutes_included  \\\n",
       "0                 50                  15360               500   \n",
       "1               1000                  30720              3000   \n",
       "\n",
       "   rub_monthly_fee  rub_per_gb  rub_per_message  rub_per_minute tariff_name  \n",
       "0              550         200                3               3       smart  \n",
       "1             1950         150                1               1       ultra  "
      ]
     },
     "metadata": {},
     "output_type": "display_data"
    },
    {
     "name": "stdout",
     "output_type": "stream",
     "text": [
      "<class 'pandas.core.frame.DataFrame'>\n",
      "RangeIndex: 2 entries, 0 to 1\n",
      "Data columns (total 8 columns):\n",
      "messages_included        2 non-null int64\n",
      "mb_per_month_included    2 non-null int64\n",
      "minutes_included         2 non-null int64\n",
      "rub_monthly_fee          2 non-null int64\n",
      "rub_per_gb               2 non-null int64\n",
      "rub_per_message          2 non-null int64\n",
      "rub_per_minute           2 non-null int64\n",
      "tariff_name              2 non-null object\n",
      "dtypes: int64(7), object(1)\n",
      "memory usage: 256.0+ bytes\n",
      "None None\n"
     ]
    },
    {
     "data": {
      "text/html": [
       "<div>\n",
       "<style scoped>\n",
       "    .dataframe tbody tr th:only-of-type {\n",
       "        vertical-align: middle;\n",
       "    }\n",
       "\n",
       "    .dataframe tbody tr th {\n",
       "        vertical-align: top;\n",
       "    }\n",
       "\n",
       "    .dataframe thead th {\n",
       "        text-align: right;\n",
       "    }\n",
       "</style>\n",
       "<table border=\"1\" class=\"dataframe\">\n",
       "  <thead>\n",
       "    <tr style=\"text-align: right;\">\n",
       "      <th></th>\n",
       "      <th>user_id</th>\n",
       "      <th>age</th>\n",
       "      <th>churn_date</th>\n",
       "      <th>city</th>\n",
       "      <th>first_name</th>\n",
       "      <th>last_name</th>\n",
       "      <th>reg_date</th>\n",
       "      <th>tariff</th>\n",
       "    </tr>\n",
       "  </thead>\n",
       "  <tbody>\n",
       "    <tr>\n",
       "      <td>0</td>\n",
       "      <td>1000</td>\n",
       "      <td>52</td>\n",
       "      <td>NaN</td>\n",
       "      <td>Краснодар</td>\n",
       "      <td>Рафаил</td>\n",
       "      <td>Верещагин</td>\n",
       "      <td>2018-05-25</td>\n",
       "      <td>ultra</td>\n",
       "    </tr>\n",
       "    <tr>\n",
       "      <td>1</td>\n",
       "      <td>1001</td>\n",
       "      <td>41</td>\n",
       "      <td>NaN</td>\n",
       "      <td>Москва</td>\n",
       "      <td>Иван</td>\n",
       "      <td>Ежов</td>\n",
       "      <td>2018-11-01</td>\n",
       "      <td>smart</td>\n",
       "    </tr>\n",
       "    <tr>\n",
       "      <td>2</td>\n",
       "      <td>1002</td>\n",
       "      <td>59</td>\n",
       "      <td>NaN</td>\n",
       "      <td>Стерлитамак</td>\n",
       "      <td>Евгений</td>\n",
       "      <td>Абрамович</td>\n",
       "      <td>2018-06-17</td>\n",
       "      <td>smart</td>\n",
       "    </tr>\n",
       "    <tr>\n",
       "      <td>3</td>\n",
       "      <td>1003</td>\n",
       "      <td>23</td>\n",
       "      <td>NaN</td>\n",
       "      <td>Москва</td>\n",
       "      <td>Белла</td>\n",
       "      <td>Белякова</td>\n",
       "      <td>2018-08-17</td>\n",
       "      <td>ultra</td>\n",
       "    </tr>\n",
       "    <tr>\n",
       "      <td>4</td>\n",
       "      <td>1004</td>\n",
       "      <td>68</td>\n",
       "      <td>NaN</td>\n",
       "      <td>Новокузнецк</td>\n",
       "      <td>Татьяна</td>\n",
       "      <td>Авдеенко</td>\n",
       "      <td>2018-05-14</td>\n",
       "      <td>ultra</td>\n",
       "    </tr>\n",
       "    <tr>\n",
       "      <td>...</td>\n",
       "      <td>...</td>\n",
       "      <td>...</td>\n",
       "      <td>...</td>\n",
       "      <td>...</td>\n",
       "      <td>...</td>\n",
       "      <td>...</td>\n",
       "      <td>...</td>\n",
       "      <td>...</td>\n",
       "    </tr>\n",
       "    <tr>\n",
       "      <td>495</td>\n",
       "      <td>1495</td>\n",
       "      <td>65</td>\n",
       "      <td>NaN</td>\n",
       "      <td>Иркутск</td>\n",
       "      <td>Авксентий</td>\n",
       "      <td>Фокин</td>\n",
       "      <td>2018-08-28</td>\n",
       "      <td>ultra</td>\n",
       "    </tr>\n",
       "    <tr>\n",
       "      <td>496</td>\n",
       "      <td>1496</td>\n",
       "      <td>36</td>\n",
       "      <td>NaN</td>\n",
       "      <td>Вологда</td>\n",
       "      <td>Трифон</td>\n",
       "      <td>Блохин</td>\n",
       "      <td>2018-01-27</td>\n",
       "      <td>smart</td>\n",
       "    </tr>\n",
       "    <tr>\n",
       "      <td>497</td>\n",
       "      <td>1497</td>\n",
       "      <td>32</td>\n",
       "      <td>NaN</td>\n",
       "      <td>Челябинск</td>\n",
       "      <td>Каролина</td>\n",
       "      <td>Агеева</td>\n",
       "      <td>2018-10-09</td>\n",
       "      <td>smart</td>\n",
       "    </tr>\n",
       "    <tr>\n",
       "      <td>498</td>\n",
       "      <td>1498</td>\n",
       "      <td>68</td>\n",
       "      <td>2018-10-25</td>\n",
       "      <td>Владикавказ</td>\n",
       "      <td>Всеволод</td>\n",
       "      <td>Акимчин</td>\n",
       "      <td>2018-07-19</td>\n",
       "      <td>smart</td>\n",
       "    </tr>\n",
       "    <tr>\n",
       "      <td>499</td>\n",
       "      <td>1499</td>\n",
       "      <td>35</td>\n",
       "      <td>NaN</td>\n",
       "      <td>Пермь</td>\n",
       "      <td>Гектор</td>\n",
       "      <td>Корнилов</td>\n",
       "      <td>2018-09-27</td>\n",
       "      <td>smart</td>\n",
       "    </tr>\n",
       "  </tbody>\n",
       "</table>\n",
       "<p>500 rows × 8 columns</p>\n",
       "</div>"
      ],
      "text/plain": [
       "     user_id  age  churn_date         city first_name  last_name    reg_date  \\\n",
       "0       1000   52         NaN    Краснодар     Рафаил  Верещагин  2018-05-25   \n",
       "1       1001   41         NaN       Москва       Иван       Ежов  2018-11-01   \n",
       "2       1002   59         NaN  Стерлитамак    Евгений  Абрамович  2018-06-17   \n",
       "3       1003   23         NaN       Москва      Белла   Белякова  2018-08-17   \n",
       "4       1004   68         NaN  Новокузнецк    Татьяна   Авдеенко  2018-05-14   \n",
       "..       ...  ...         ...          ...        ...        ...         ...   \n",
       "495     1495   65         NaN      Иркутск  Авксентий      Фокин  2018-08-28   \n",
       "496     1496   36         NaN      Вологда     Трифон     Блохин  2018-01-27   \n",
       "497     1497   32         NaN    Челябинск   Каролина     Агеева  2018-10-09   \n",
       "498     1498   68  2018-10-25  Владикавказ   Всеволод    Акимчин  2018-07-19   \n",
       "499     1499   35         NaN        Пермь     Гектор   Корнилов  2018-09-27   \n",
       "\n",
       "    tariff  \n",
       "0    ultra  \n",
       "1    smart  \n",
       "2    smart  \n",
       "3    ultra  \n",
       "4    ultra  \n",
       "..     ...  \n",
       "495  ultra  \n",
       "496  smart  \n",
       "497  smart  \n",
       "498  smart  \n",
       "499  smart  \n",
       "\n",
       "[500 rows x 8 columns]"
      ]
     },
     "metadata": {},
     "output_type": "display_data"
    },
    {
     "name": "stdout",
     "output_type": "stream",
     "text": [
      "<class 'pandas.core.frame.DataFrame'>\n",
      "RangeIndex: 500 entries, 0 to 499\n",
      "Data columns (total 8 columns):\n",
      "user_id       500 non-null int64\n",
      "age           500 non-null int64\n",
      "churn_date    38 non-null object\n",
      "city          500 non-null object\n",
      "first_name    500 non-null object\n",
      "last_name     500 non-null object\n",
      "reg_date      500 non-null object\n",
      "tariff        500 non-null object\n",
      "dtypes: int64(2), object(6)\n",
      "memory usage: 31.4+ KB\n",
      "None None\n"
     ]
    }
   ],
   "source": [
    "import pandas as pd\n",
    "from IPython.display import display\n",
    "import numpy as np\n",
    "import matplotlib.pyplot as plt\n",
    "import scipy.stats as st\n",
    "calls = pd.read_csv('/datasets/calls.csv')\n",
    "internet = pd.read_csv('/datasets/internet.csv')\n",
    "messages = pd.read_csv('/datasets/messages.csv')\n",
    "tariffs = pd.read_csv('/datasets/tariffs.csv')\n",
    "users = pd.read_csv('/datasets/users.csv')\n",
    "\n",
    "for data in [calls, internet, messages, tariffs, users]:\n",
    "    print(display(data),data.info())\n"
   ]
  },
  {
   "cell_type": "markdown",
   "metadata": {},
   "source": [
    "Загрузили 5 таблиц и посмотрели информацию по ним. В столбце churn_date много пропусков, это означает, что клиент еще не перестал пользоваться тарифом. Все столбцы с датами имеют тип объект, необходимо перевести их в дату. \n",
    "В таблице calls много звонков с продолжительностью 0.0 минут. Надо проверить, что с этими значаениями можно сделать:"
   ]
  },
  {
   "cell_type": "code",
   "execution_count": 160,
   "metadata": {},
   "outputs": [
    {
     "data": {
      "text/plain": [
       "<matplotlib.axes._subplots.AxesSubplot at 0x7f65d704ad10>"
      ]
     },
     "execution_count": 160,
     "metadata": {},
     "output_type": "execute_result"
    },
    {
     "data": {
      "image/png": "[encoded data removed]",
      "text/plain": [
       "<Figure size 432x288 with 1 Axes>"
      ]
     },
     "metadata": {
      "needs_background": "light"
     },
     "output_type": "display_data"
    }
   ],
   "source": [
    "calls['duration'].hist(bins=50) #строю гистрограмму продолжительности звонков"
   ]
  },
  {
   "cell_type": "markdown",
   "metadata": {},
   "source": [
    "Звонков продолжительностью 0.0 минут 40000. В условии сказано, что оператор округляет все значения до минут, но как можно заменить в info, там есть значения меньше минуты и дробные значения. Их надо округлить в большую сторону. "
   ]
  },
  {
   "cell_type": "code",
   "execution_count": 161,
   "metadata": {},
   "outputs": [],
   "source": [
    "calls['duration'] = calls['duration'].apply(np.ceil)"
   ]
  },
  {
   "cell_type": "code",
   "execution_count": 162,
   "metadata": {},
   "outputs": [
    {
     "data": {
      "text/plain": [
       "<matplotlib.axes._subplots.AxesSubplot at 0x7f65dea02d50>"
      ]
     },
     "execution_count": 162,
     "metadata": {},
     "output_type": "execute_result"
    },
    {
     "data": {
      "image/png": "[encoded data removed]",
      "text/plain": [
       "<Figure size 432x288 with 1 Axes>"
      ]
     },
     "metadata": {
      "needs_background": "light"
     },
     "output_type": "display_data"
    }
   ],
   "source": [
    "calls['duration'].hist(bins=50) #построим гистрограмму после окргуления."
   ]
  },
  {
   "cell_type": "markdown",
   "metadata": {},
   "source": [
    "Количество звонков продолжительностью 0 минут немного снизилось. Также пропали некоторые значения продолжительности.\n",
    "Нулевые значения могут говорить о том, что соединение между абонентами не было установленно, то есть фактически звонок не состоялся. Эти данные не должны повлиять на экономику тарифа. Можно их удалить."
   ]
  },
  {
   "cell_type": "code",
   "execution_count": 163,
   "metadata": {},
   "outputs": [],
   "source": [
    "calls['duration']=calls['duration'].replace(0.0,np.nan) #заменил нулевые значения на NaN\n",
    "calls['duration']=calls['duration'].dropna() #удалил строки с NaN"
   ]
  },
  {
   "cell_type": "markdown",
   "metadata": {},
   "source": [
    "Построим гистрограмму с новыми данными:"
   ]
  },
  {
   "cell_type": "code",
   "execution_count": 164,
   "metadata": {},
   "outputs": [
    {
     "data": {
      "text/plain": [
       "<matplotlib.axes._subplots.AxesSubplot at 0x7f65e36efb10>"
      ]
     },
     "execution_count": 164,
     "metadata": {},
     "output_type": "execute_result"
    },
    {
     "data": {
      "image/png": "[encoded data removed]",
      "text/plain": [
       "<Figure size 432x288 with 1 Axes>"
      ]
     },
     "metadata": {
      "needs_background": "light"
     },
     "output_type": "display_data"
    }
   ],
   "source": [
    "calls['duration'].hist(bins=50)"
   ]
  },
  {
   "cell_type": "markdown",
   "metadata": {},
   "source": [
    "В таблице internet в столбце mb_used тоже есть неокругленные значения. Видимо какая-то ошибка в сборе данных. Округлю их вправо:"
   ]
  },
  {
   "cell_type": "code",
   "execution_count": 165,
   "metadata": {},
   "outputs": [],
   "source": [
    "internet['mb_used']=internet['mb_used'].apply(np.ceil)"
   ]
  },
  {
   "cell_type": "code",
   "execution_count": 166,
   "metadata": {},
   "outputs": [
    {
     "data": {
      "text/plain": [
       "<matplotlib.axes._subplots.AxesSubplot at 0x7f65e355cc10>"
      ]
     },
     "execution_count": 166,
     "metadata": {},
     "output_type": "execute_result"
    },
    {
     "data": {
      "image/png": "[encoded data removed]",
      "text/plain": [
       "<Figure size 432x288 with 1 Axes>"
      ]
     },
     "metadata": {
      "needs_background": "light"
     },
     "output_type": "display_data"
    }
   ],
   "source": [
    "internet['mb_used'].hist(bins=50)"
   ]
  },
  {
   "cell_type": "markdown",
   "metadata": {},
   "source": [
    "Сессий с нулевым потреблением траффика больше 20000. Также как и в случае с продолжительностью звонка, это означает, что фактически абонент в интернет не выходил, эти данные не повлияют на экономику тарифа. Удалю строки с нулями таким же способом:"
   ]
  },
  {
   "cell_type": "code",
   "execution_count": 167,
   "metadata": {},
   "outputs": [],
   "source": [
    "internet['mb_used']=internet['mb_used'].replace(0, np.nan)\n",
    "internet['mb_used']=internet['mb_used'].dropna()"
   ]
  },
  {
   "cell_type": "code",
   "execution_count": 168,
   "metadata": {},
   "outputs": [
    {
     "data": {
      "text/plain": [
       "<matplotlib.axes._subplots.AxesSubplot at 0x7f65e331f210>"
      ]
     },
     "execution_count": 168,
     "metadata": {},
     "output_type": "execute_result"
    },
    {
     "data": {
      "image/png": "[encoded data removed]",
      "text/plain": [
       "<Figure size 432x288 with 1 Axes>"
      ]
     },
     "metadata": {
      "needs_background": "light"
     },
     "output_type": "display_data"
    }
   ],
   "source": [
    "internet['mb_used'].hist(bins=50)"
   ]
  },
  {
   "cell_type": "markdown",
   "metadata": {},
   "source": [
    "## Заменим тип данных в столбцах с датой"
   ]
  },
  {
   "cell_type": "markdown",
   "metadata": {},
   "source": [
    "Во всех таблицах кроме tariffs тип данных столбцов с датой указан как обьект. Необходимо заменить его не дату. Также надо добавить столбец месяц для дальнейших расчётов."
   ]
  },
  {
   "cell_type": "code",
   "execution_count": 169,
   "metadata": {},
   "outputs": [],
   "source": [
    "def change_date(dataframes): #функция для изменения типа данных и добавлении номера месяца\n",
    "    for df in dataframes:\n",
    "        for column in df.columns:\n",
    "            if 'date' in column and column != 'churn_date':\n",
    "                df[column] = pd.to_datetime(df[column], format='%Y-%m-%d')\n",
    "                df['month'] = df[column].apply(lambda x: x.month)  "
   ]
  },
  {
   "cell_type": "code",
   "execution_count": 170,
   "metadata": {},
   "outputs": [],
   "source": [
    "change_date([calls,internet,messages,users])"
   ]
  },
  {
   "cell_type": "code",
   "execution_count": 171,
   "metadata": {},
   "outputs": [
    {
     "name": "stdout",
     "output_type": "stream",
     "text": [
      "       id  call_date  duration  user_id  month\n",
      "0  1000_0 2018-07-25       NaN     1000      7\n",
      "1  1000_1 2018-08-17       NaN     1000      8\n",
      "2  1000_2 2018-06-11       3.0     1000      6\n",
      "3  1000_3 2018-09-21      14.0     1000      9\n",
      "4  1000_4 2018-12-15       6.0     1000     12\n",
      "   Unnamed: 0      id  mb_used session_date  user_id  month\n",
      "0           0  1000_0    113.0   2018-11-25     1000     11\n",
      "1           1  1000_1   1053.0   2018-09-07     1000      9\n",
      "2           2  1000_2   1198.0   2018-06-25     1000      6\n",
      "3           3  1000_3    551.0   2018-08-22     1000      8\n",
      "4           4  1000_4    303.0   2018-09-24     1000      9\n",
      "       id message_date  user_id  month\n",
      "0  1000_0   2018-06-27     1000      6\n",
      "1  1000_1   2018-10-08     1000     10\n",
      "2  1000_2   2018-08-04     1000      8\n",
      "3  1000_3   2018-06-16     1000      6\n",
      "4  1000_4   2018-12-05     1000     12\n",
      "   user_id  age churn_date         city first_name  last_name   reg_date  \\\n",
      "0     1000   52        NaN    Краснодар     Рафаил  Верещагин 2018-05-25   \n",
      "1     1001   41        NaN       Москва       Иван       Ежов 2018-11-01   \n",
      "2     1002   59        NaN  Стерлитамак    Евгений  Абрамович 2018-06-17   \n",
      "3     1003   23        NaN       Москва      Белла   Белякова 2018-08-17   \n",
      "4     1004   68        NaN  Новокузнецк    Татьяна   Авдеенко 2018-05-14   \n",
      "\n",
      "  tariff  month  \n",
      "0  ultra      5  \n",
      "1  smart     11  \n",
      "2  smart      6  \n",
      "3  ultra      8  \n",
      "4  ultra      5  \n"
     ]
    }
   ],
   "source": [
    "for data in [calls, internet, messages, users]: #проверяю, как отработала функция\n",
    "    print(data.head())"
   ]
  },
  {
   "cell_type": "markdown",
   "metadata": {},
   "source": [
    "# Посчитаем для каждого пользователя"
   ]
  },
  {
   "cell_type": "markdown",
   "metadata": {},
   "source": [
    "Количество звонков и израсходованных минут по месяцам"
   ]
  },
  {
   "cell_type": "code",
   "execution_count": 172,
   "metadata": {},
   "outputs": [
    {
     "data": {
      "text/html": [
       "<div>\n",
       "<style scoped>\n",
       "    .dataframe tbody tr th:only-of-type {\n",
       "        vertical-align: middle;\n",
       "    }\n",
       "\n",
       "    .dataframe tbody tr th {\n",
       "        vertical-align: top;\n",
       "    }\n",
       "\n",
       "    .dataframe thead th {\n",
       "        text-align: right;\n",
       "    }\n",
       "</style>\n",
       "<table border=\"1\" class=\"dataframe\">\n",
       "  <thead>\n",
       "    <tr style=\"text-align: right;\">\n",
       "      <th></th>\n",
       "      <th></th>\n",
       "      <th>count</th>\n",
       "      <th>sum</th>\n",
       "    </tr>\n",
       "    <tr>\n",
       "      <th>user_id</th>\n",
       "      <th>month</th>\n",
       "      <th></th>\n",
       "      <th></th>\n",
       "    </tr>\n",
       "  </thead>\n",
       "  <tbody>\n",
       "    <tr>\n",
       "      <td rowspan=\"5\" valign=\"top\">1000</td>\n",
       "      <td>5</td>\n",
       "      <td>17</td>\n",
       "      <td>159.0</td>\n",
       "    </tr>\n",
       "    <tr>\n",
       "      <td>6</td>\n",
       "      <td>28</td>\n",
       "      <td>172.0</td>\n",
       "    </tr>\n",
       "    <tr>\n",
       "      <td>7</td>\n",
       "      <td>41</td>\n",
       "      <td>340.0</td>\n",
       "    </tr>\n",
       "    <tr>\n",
       "      <td>8</td>\n",
       "      <td>42</td>\n",
       "      <td>408.0</td>\n",
       "    </tr>\n",
       "    <tr>\n",
       "      <td>9</td>\n",
       "      <td>46</td>\n",
       "      <td>466.0</td>\n",
       "    </tr>\n",
       "    <tr>\n",
       "      <td>...</td>\n",
       "      <td>...</td>\n",
       "      <td>...</td>\n",
       "      <td>...</td>\n",
       "    </tr>\n",
       "    <tr>\n",
       "      <td>1498</td>\n",
       "      <td>10</td>\n",
       "      <td>30</td>\n",
       "      <td>247.0</td>\n",
       "    </tr>\n",
       "    <tr>\n",
       "      <td rowspan=\"4\" valign=\"top\">1499</td>\n",
       "      <td>9</td>\n",
       "      <td>8</td>\n",
       "      <td>70.0</td>\n",
       "    </tr>\n",
       "    <tr>\n",
       "      <td>10</td>\n",
       "      <td>44</td>\n",
       "      <td>449.0</td>\n",
       "    </tr>\n",
       "    <tr>\n",
       "      <td>11</td>\n",
       "      <td>62</td>\n",
       "      <td>612.0</td>\n",
       "    </tr>\n",
       "    <tr>\n",
       "      <td>12</td>\n",
       "      <td>56</td>\n",
       "      <td>492.0</td>\n",
       "    </tr>\n",
       "  </tbody>\n",
       "</table>\n",
       "<p>3174 rows × 2 columns</p>\n",
       "</div>"
      ],
      "text/plain": [
       "               count    sum\n",
       "user_id month              \n",
       "1000    5         17  159.0\n",
       "        6         28  172.0\n",
       "        7         41  340.0\n",
       "        8         42  408.0\n",
       "        9         46  466.0\n",
       "...              ...    ...\n",
       "1498    10        30  247.0\n",
       "1499    9          8   70.0\n",
       "        10        44  449.0\n",
       "        11        62  612.0\n",
       "        12        56  492.0\n",
       "\n",
       "[3174 rows x 2 columns]"
      ]
     },
     "metadata": {},
     "output_type": "display_data"
    }
   ],
   "source": [
    "count_calls = calls.groupby(['user_id', 'month'])['duration'].agg(['count','sum'])\n",
    "display(count_calls)"
   ]
  },
  {
   "cell_type": "markdown",
   "metadata": {},
   "source": [
    "Количество отправленных сообщений по месяцам"
   ]
  },
  {
   "cell_type": "code",
   "execution_count": 173,
   "metadata": {},
   "outputs": [
    {
     "data": {
      "text/plain": [
       "user_id  month\n",
       "1000     5        22\n",
       "         6        60\n",
       "         7        75\n",
       "         8        81\n",
       "         9        57\n",
       "                  ..\n",
       "1498     10       42\n",
       "1499     9        11\n",
       "         10       48\n",
       "         11       59\n",
       "         12       66\n",
       "Name: message_date, Length: 2717, dtype: int64"
      ]
     },
     "metadata": {},
     "output_type": "display_data"
    }
   ],
   "source": [
    "count_messages=messages.groupby(['user_id','month'])['message_date'].count()\n",
    "display(count_messages)\n"
   ]
  },
  {
   "cell_type": "markdown",
   "metadata": {},
   "source": [
    "Oбъем израсходованного интернет-трафика по месяцам"
   ]
  },
  {
   "cell_type": "code",
   "execution_count": 174,
   "metadata": {},
   "outputs": [
    {
     "data": {
      "text/plain": [
       "user_id  month\n",
       "1000     5         2256.0\n",
       "         6        23257.0\n",
       "         7        14016.0\n",
       "         8        14070.0\n",
       "         9        14581.0\n",
       "                   ...   \n",
       "1498     10       20604.0\n",
       "1499     9         1848.0\n",
       "         10       17809.0\n",
       "         11       17984.0\n",
       "         12       13077.0\n",
       "Name: mb_used, Length: 3203, dtype: float64"
      ]
     },
     "metadata": {},
     "output_type": "display_data"
    }
   ],
   "source": [
    "count_internet=internet.groupby(['user_id','month'])['mb_used'].sum()\n",
    "display(count_internet)"
   ]
  },
  {
   "cell_type": "markdown",
   "metadata": {},
   "source": [
    "Соединю эти три таблицы в одну"
   ]
  },
  {
   "cell_type": "code",
   "execution_count": 175,
   "metadata": {},
   "outputs": [
    {
     "data": {
      "text/html": [
       "<div>\n",
       "<style scoped>\n",
       "    .dataframe tbody tr th:only-of-type {\n",
       "        vertical-align: middle;\n",
       "    }\n",
       "\n",
       "    .dataframe tbody tr th {\n",
       "        vertical-align: top;\n",
       "    }\n",
       "\n",
       "    .dataframe thead th {\n",
       "        text-align: right;\n",
       "    }\n",
       "</style>\n",
       "<table border=\"1\" class=\"dataframe\">\n",
       "  <thead>\n",
       "    <tr style=\"text-align: right;\">\n",
       "      <th></th>\n",
       "      <th></th>\n",
       "      <th>count</th>\n",
       "      <th>sum</th>\n",
       "      <th>message_date</th>\n",
       "    </tr>\n",
       "    <tr>\n",
       "      <th>user_id</th>\n",
       "      <th>month</th>\n",
       "      <th></th>\n",
       "      <th></th>\n",
       "      <th></th>\n",
       "    </tr>\n",
       "  </thead>\n",
       "  <tbody>\n",
       "    <tr>\n",
       "      <td rowspan=\"5\" valign=\"top\">1000</td>\n",
       "      <td>5</td>\n",
       "      <td>17</td>\n",
       "      <td>159.0</td>\n",
       "      <td>22</td>\n",
       "    </tr>\n",
       "    <tr>\n",
       "      <td>6</td>\n",
       "      <td>28</td>\n",
       "      <td>172.0</td>\n",
       "      <td>60</td>\n",
       "    </tr>\n",
       "    <tr>\n",
       "      <td>7</td>\n",
       "      <td>41</td>\n",
       "      <td>340.0</td>\n",
       "      <td>75</td>\n",
       "    </tr>\n",
       "    <tr>\n",
       "      <td>8</td>\n",
       "      <td>42</td>\n",
       "      <td>408.0</td>\n",
       "      <td>81</td>\n",
       "    </tr>\n",
       "    <tr>\n",
       "      <td>9</td>\n",
       "      <td>46</td>\n",
       "      <td>466.0</td>\n",
       "      <td>57</td>\n",
       "    </tr>\n",
       "    <tr>\n",
       "      <td>...</td>\n",
       "      <td>...</td>\n",
       "      <td>...</td>\n",
       "      <td>...</td>\n",
       "      <td>...</td>\n",
       "    </tr>\n",
       "    <tr>\n",
       "      <td>1498</td>\n",
       "      <td>10</td>\n",
       "      <td>30</td>\n",
       "      <td>247.0</td>\n",
       "      <td>42</td>\n",
       "    </tr>\n",
       "    <tr>\n",
       "      <td rowspan=\"4\" valign=\"top\">1499</td>\n",
       "      <td>9</td>\n",
       "      <td>8</td>\n",
       "      <td>70.0</td>\n",
       "      <td>11</td>\n",
       "    </tr>\n",
       "    <tr>\n",
       "      <td>10</td>\n",
       "      <td>44</td>\n",
       "      <td>449.0</td>\n",
       "      <td>48</td>\n",
       "    </tr>\n",
       "    <tr>\n",
       "      <td>11</td>\n",
       "      <td>62</td>\n",
       "      <td>612.0</td>\n",
       "      <td>59</td>\n",
       "    </tr>\n",
       "    <tr>\n",
       "      <td>12</td>\n",
       "      <td>56</td>\n",
       "      <td>492.0</td>\n",
       "      <td>66</td>\n",
       "    </tr>\n",
       "  </tbody>\n",
       "</table>\n",
       "<p>2678 rows × 3 columns</p>\n",
       "</div>"
      ],
      "text/plain": [
       "               count    sum  message_date\n",
       "user_id month                            \n",
       "1000    5         17  159.0            22\n",
       "        6         28  172.0            60\n",
       "        7         41  340.0            75\n",
       "        8         42  408.0            81\n",
       "        9         46  466.0            57\n",
       "...              ...    ...           ...\n",
       "1498    10        30  247.0            42\n",
       "1499    9          8   70.0            11\n",
       "        10        44  449.0            48\n",
       "        11        62  612.0            59\n",
       "        12        56  492.0            66\n",
       "\n",
       "[2678 rows x 3 columns]"
      ]
     },
     "metadata": {},
     "output_type": "display_data"
    }
   ],
   "source": [
    "new = count_calls.merge(count_messages, on=['user_id','month'])\n",
    "display(new)"
   ]
  },
  {
   "cell_type": "code",
   "execution_count": 176,
   "metadata": {},
   "outputs": [
    {
     "data": {
      "text/html": [
       "<div>\n",
       "<style scoped>\n",
       "    .dataframe tbody tr th:only-of-type {\n",
       "        vertical-align: middle;\n",
       "    }\n",
       "\n",
       "    .dataframe tbody tr th {\n",
       "        vertical-align: top;\n",
       "    }\n",
       "\n",
       "    .dataframe thead th {\n",
       "        text-align: right;\n",
       "    }\n",
       "</style>\n",
       "<table border=\"1\" class=\"dataframe\">\n",
       "  <thead>\n",
       "    <tr style=\"text-align: right;\">\n",
       "      <th></th>\n",
       "      <th></th>\n",
       "      <th>count</th>\n",
       "      <th>sum</th>\n",
       "      <th>message_date</th>\n",
       "      <th>mb_used</th>\n",
       "    </tr>\n",
       "    <tr>\n",
       "      <th>user_id</th>\n",
       "      <th>month</th>\n",
       "      <th></th>\n",
       "      <th></th>\n",
       "      <th></th>\n",
       "      <th></th>\n",
       "    </tr>\n",
       "  </thead>\n",
       "  <tbody>\n",
       "    <tr>\n",
       "      <td rowspan=\"5\" valign=\"top\">1000</td>\n",
       "      <td>5</td>\n",
       "      <td>17</td>\n",
       "      <td>159.0</td>\n",
       "      <td>22</td>\n",
       "      <td>2256.0</td>\n",
       "    </tr>\n",
       "    <tr>\n",
       "      <td>6</td>\n",
       "      <td>28</td>\n",
       "      <td>172.0</td>\n",
       "      <td>60</td>\n",
       "      <td>23257.0</td>\n",
       "    </tr>\n",
       "    <tr>\n",
       "      <td>7</td>\n",
       "      <td>41</td>\n",
       "      <td>340.0</td>\n",
       "      <td>75</td>\n",
       "      <td>14016.0</td>\n",
       "    </tr>\n",
       "    <tr>\n",
       "      <td>8</td>\n",
       "      <td>42</td>\n",
       "      <td>408.0</td>\n",
       "      <td>81</td>\n",
       "      <td>14070.0</td>\n",
       "    </tr>\n",
       "    <tr>\n",
       "      <td>9</td>\n",
       "      <td>46</td>\n",
       "      <td>466.0</td>\n",
       "      <td>57</td>\n",
       "      <td>14581.0</td>\n",
       "    </tr>\n",
       "    <tr>\n",
       "      <td>...</td>\n",
       "      <td>...</td>\n",
       "      <td>...</td>\n",
       "      <td>...</td>\n",
       "      <td>...</td>\n",
       "      <td>...</td>\n",
       "    </tr>\n",
       "    <tr>\n",
       "      <td>1498</td>\n",
       "      <td>10</td>\n",
       "      <td>30</td>\n",
       "      <td>247.0</td>\n",
       "      <td>42</td>\n",
       "      <td>20604.0</td>\n",
       "    </tr>\n",
       "    <tr>\n",
       "      <td rowspan=\"4\" valign=\"top\">1499</td>\n",
       "      <td>9</td>\n",
       "      <td>8</td>\n",
       "      <td>70.0</td>\n",
       "      <td>11</td>\n",
       "      <td>1848.0</td>\n",
       "    </tr>\n",
       "    <tr>\n",
       "      <td>10</td>\n",
       "      <td>44</td>\n",
       "      <td>449.0</td>\n",
       "      <td>48</td>\n",
       "      <td>17809.0</td>\n",
       "    </tr>\n",
       "    <tr>\n",
       "      <td>11</td>\n",
       "      <td>62</td>\n",
       "      <td>612.0</td>\n",
       "      <td>59</td>\n",
       "      <td>17984.0</td>\n",
       "    </tr>\n",
       "    <tr>\n",
       "      <td>12</td>\n",
       "      <td>56</td>\n",
       "      <td>492.0</td>\n",
       "      <td>66</td>\n",
       "      <td>13077.0</td>\n",
       "    </tr>\n",
       "  </tbody>\n",
       "</table>\n",
       "<p>2667 rows × 4 columns</p>\n",
       "</div>"
      ],
      "text/plain": [
       "               count    sum  message_date  mb_used\n",
       "user_id month                                     \n",
       "1000    5         17  159.0            22   2256.0\n",
       "        6         28  172.0            60  23257.0\n",
       "        7         41  340.0            75  14016.0\n",
       "        8         42  408.0            81  14070.0\n",
       "        9         46  466.0            57  14581.0\n",
       "...              ...    ...           ...      ...\n",
       "1498    10        30  247.0            42  20604.0\n",
       "1499    9          8   70.0            11   1848.0\n",
       "        10        44  449.0            48  17809.0\n",
       "        11        62  612.0            59  17984.0\n",
       "        12        56  492.0            66  13077.0\n",
       "\n",
       "[2667 rows x 4 columns]"
      ]
     },
     "metadata": {},
     "output_type": "display_data"
    }
   ],
   "source": [
    "new2 = new.merge(count_internet, on=['user_id','month'])\n",
    "display(new2)"
   ]
  },
  {
   "cell_type": "markdown",
   "metadata": {},
   "source": [
    "Добавляю столбец tariff из users"
   ]
  },
  {
   "cell_type": "code",
   "execution_count": 177,
   "metadata": {},
   "outputs": [
    {
     "data": {
      "text/html": [
       "<div>\n",
       "<style scoped>\n",
       "    .dataframe tbody tr th:only-of-type {\n",
       "        vertical-align: middle;\n",
       "    }\n",
       "\n",
       "    .dataframe tbody tr th {\n",
       "        vertical-align: top;\n",
       "    }\n",
       "\n",
       "    .dataframe thead th {\n",
       "        text-align: right;\n",
       "    }\n",
       "</style>\n",
       "<table border=\"1\" class=\"dataframe\">\n",
       "  <thead>\n",
       "    <tr style=\"text-align: right;\">\n",
       "      <th></th>\n",
       "      <th>User_id</th>\n",
       "      <th>Кол-во звонков</th>\n",
       "      <th>Время звонков,мин</th>\n",
       "      <th>смс</th>\n",
       "      <th>Интернет,мб</th>\n",
       "      <th>Город</th>\n",
       "      <th>Тариф</th>\n",
       "      <th>Месяц</th>\n",
       "    </tr>\n",
       "  </thead>\n",
       "  <tbody>\n",
       "    <tr>\n",
       "      <td>0</td>\n",
       "      <td>1000</td>\n",
       "      <td>17</td>\n",
       "      <td>159.0</td>\n",
       "      <td>22</td>\n",
       "      <td>2256.0</td>\n",
       "      <td>Краснодар</td>\n",
       "      <td>ultra</td>\n",
       "      <td>5</td>\n",
       "    </tr>\n",
       "    <tr>\n",
       "      <td>1</td>\n",
       "      <td>1000</td>\n",
       "      <td>28</td>\n",
       "      <td>172.0</td>\n",
       "      <td>60</td>\n",
       "      <td>23257.0</td>\n",
       "      <td>Краснодар</td>\n",
       "      <td>ultra</td>\n",
       "      <td>5</td>\n",
       "    </tr>\n",
       "    <tr>\n",
       "      <td>2</td>\n",
       "      <td>1000</td>\n",
       "      <td>41</td>\n",
       "      <td>340.0</td>\n",
       "      <td>75</td>\n",
       "      <td>14016.0</td>\n",
       "      <td>Краснодар</td>\n",
       "      <td>ultra</td>\n",
       "      <td>5</td>\n",
       "    </tr>\n",
       "    <tr>\n",
       "      <td>3</td>\n",
       "      <td>1000</td>\n",
       "      <td>42</td>\n",
       "      <td>408.0</td>\n",
       "      <td>81</td>\n",
       "      <td>14070.0</td>\n",
       "      <td>Краснодар</td>\n",
       "      <td>ultra</td>\n",
       "      <td>5</td>\n",
       "    </tr>\n",
       "    <tr>\n",
       "      <td>4</td>\n",
       "      <td>1000</td>\n",
       "      <td>46</td>\n",
       "      <td>466.0</td>\n",
       "      <td>57</td>\n",
       "      <td>14581.0</td>\n",
       "      <td>Краснодар</td>\n",
       "      <td>ultra</td>\n",
       "      <td>5</td>\n",
       "    </tr>\n",
       "    <tr>\n",
       "      <td>...</td>\n",
       "      <td>...</td>\n",
       "      <td>...</td>\n",
       "      <td>...</td>\n",
       "      <td>...</td>\n",
       "      <td>...</td>\n",
       "      <td>...</td>\n",
       "      <td>...</td>\n",
       "      <td>...</td>\n",
       "    </tr>\n",
       "    <tr>\n",
       "      <td>2662</td>\n",
       "      <td>1498</td>\n",
       "      <td>30</td>\n",
       "      <td>247.0</td>\n",
       "      <td>42</td>\n",
       "      <td>20604.0</td>\n",
       "      <td>Владикавказ</td>\n",
       "      <td>smart</td>\n",
       "      <td>7</td>\n",
       "    </tr>\n",
       "    <tr>\n",
       "      <td>2663</td>\n",
       "      <td>1499</td>\n",
       "      <td>8</td>\n",
       "      <td>70.0</td>\n",
       "      <td>11</td>\n",
       "      <td>1848.0</td>\n",
       "      <td>Пермь</td>\n",
       "      <td>smart</td>\n",
       "      <td>9</td>\n",
       "    </tr>\n",
       "    <tr>\n",
       "      <td>2664</td>\n",
       "      <td>1499</td>\n",
       "      <td>44</td>\n",
       "      <td>449.0</td>\n",
       "      <td>48</td>\n",
       "      <td>17809.0</td>\n",
       "      <td>Пермь</td>\n",
       "      <td>smart</td>\n",
       "      <td>9</td>\n",
       "    </tr>\n",
       "    <tr>\n",
       "      <td>2665</td>\n",
       "      <td>1499</td>\n",
       "      <td>62</td>\n",
       "      <td>612.0</td>\n",
       "      <td>59</td>\n",
       "      <td>17984.0</td>\n",
       "      <td>Пермь</td>\n",
       "      <td>smart</td>\n",
       "      <td>9</td>\n",
       "    </tr>\n",
       "    <tr>\n",
       "      <td>2666</td>\n",
       "      <td>1499</td>\n",
       "      <td>56</td>\n",
       "      <td>492.0</td>\n",
       "      <td>66</td>\n",
       "      <td>13077.0</td>\n",
       "      <td>Пермь</td>\n",
       "      <td>smart</td>\n",
       "      <td>9</td>\n",
       "    </tr>\n",
       "  </tbody>\n",
       "</table>\n",
       "<p>2667 rows × 8 columns</p>\n",
       "</div>"
      ],
      "text/plain": [
       "      User_id  Кол-во звонков  Время звонков,мин  смс  Интернет,мб  \\\n",
       "0        1000              17              159.0   22       2256.0   \n",
       "1        1000              28              172.0   60      23257.0   \n",
       "2        1000              41              340.0   75      14016.0   \n",
       "3        1000              42              408.0   81      14070.0   \n",
       "4        1000              46              466.0   57      14581.0   \n",
       "...       ...             ...                ...  ...          ...   \n",
       "2662     1498              30              247.0   42      20604.0   \n",
       "2663     1499               8               70.0   11       1848.0   \n",
       "2664     1499              44              449.0   48      17809.0   \n",
       "2665     1499              62              612.0   59      17984.0   \n",
       "2666     1499              56              492.0   66      13077.0   \n",
       "\n",
       "            Город  Тариф  Месяц  \n",
       "0       Краснодар  ultra      5  \n",
       "1       Краснодар  ultra      5  \n",
       "2       Краснодар  ultra      5  \n",
       "3       Краснодар  ultra      5  \n",
       "4       Краснодар  ultra      5  \n",
       "...           ...    ...    ...  \n",
       "2662  Владикавказ  smart      7  \n",
       "2663        Пермь  smart      9  \n",
       "2664        Пермь  smart      9  \n",
       "2665        Пермь  smart      9  \n",
       "2666        Пермь  smart      9  \n",
       "\n",
       "[2667 rows x 8 columns]"
      ]
     },
     "metadata": {},
     "output_type": "display_data"
    }
   ],
   "source": [
    "new3=new2.merge(users, on=['user_id']) \n",
    "new3.drop(['age', 'churn_date', 'first_name', 'last_name', 'reg_date'], axis='columns', inplace=True)\n",
    "new3.columns=['User_id', 'Кол-во звонков', 'Время звонков,мин', \n",
    "                            'смс', 'Интернет,мб', 'Город', 'Тариф','Месяц']\n",
    "display(new3)"
   ]
  },
  {
   "cell_type": "code",
   "execution_count": 178,
   "metadata": {},
   "outputs": [
    {
     "name": "stdout",
     "output_type": "stream",
     "text": [
      "<class 'pandas.core.frame.DataFrame'>\n",
      "Int64Index: 2667 entries, 0 to 2666\n",
      "Data columns (total 8 columns):\n",
      "User_id              2667 non-null int64\n",
      "Кол-во звонков       2667 non-null int64\n",
      "Время звонков,мин    2667 non-null float64\n",
      "смс                  2667 non-null int64\n",
      "Интернет,мб          2667 non-null float64\n",
      "Город                2667 non-null object\n",
      "Тариф                2667 non-null object\n",
      "Месяц                2667 non-null int64\n",
      "dtypes: float64(2), int64(4), object(2)\n",
      "memory usage: 187.5+ KB\n"
     ]
    }
   ],
   "source": [
    "new3.info()"
   ]
  },
  {
   "cell_type": "markdown",
   "metadata": {},
   "source": [
    "Помесячная выручка с каждого пользователя:"
   ]
  },
  {
   "cell_type": "markdown",
   "metadata": {},
   "source": [
    " Создаю словарь, чтобы добавить столбец Абонентская плата"
   ]
  },
  {
   "cell_type": "code",
   "execution_count": 179,
   "metadata": {},
   "outputs": [],
   "source": [
    "month_price = {'smart': 550, 'ultra': 1950}\n",
    "new3['Аб.плата,руб'] = new3['Тариф'].map(month_price)"
   ]
  },
  {
   "cell_type": "markdown",
   "metadata": {},
   "source": [
    "Функции, чтобы посчитать превышения тарифов"
   ]
  },
  {
   "cell_type": "code",
   "execution_count": 180,
   "metadata": {},
   "outputs": [],
   "source": [
    "def calls_over_tariff(row):\n",
    "    if row['Тариф'] == 'smart':\n",
    "        result = row['Время звонков,мин'] - 500\n",
    "        return np.where(result > 0, result, 0)\n",
    "    else:\n",
    "        result = row['Время звонков,мин'] - 3000\n",
    "        return np.where(result > 0, result, 0)\n",
    "    \n",
    "    \n",
    "def sms_over_tariff(row):\n",
    "    if row['Тариф'] == 'smart':\n",
    "        result = row['смс'] - 50\n",
    "        return np.where(result > 0, result, 0)\n",
    "    else:\n",
    "        result =  row['смс'] - 1000\n",
    "        return np.where(result > 0, result, 0)\n",
    "    \n",
    "\n",
    "def internet_over_tariff(row):\n",
    "    if row['Тариф'] == 'smart':\n",
    "        result = row['Интернет,мб'] - 15 * 1024\n",
    "        return np.where(result > 0, result, 0)\n",
    "    else:\n",
    "        result = row['Интернет,мб'] - 30 * 1024\n",
    "        return np.where(result > 0, result, 0)\n",
    "    \n",
    "    \n",
    "def month_profit(row):\n",
    "    sum_per_month = 0\n",
    "    if row['Тариф'] == 'smart':\n",
    "        sum_per_month += np.ceil(row['Минуты сверх']) * 3\n",
    "        sum_per_month += row['смс сверх'] * 3\n",
    "        sum_per_month += np.ceil(row['Мб сверх']/1024) * 200\n",
    "        return sum_per_month\n",
    "    \n",
    "    else:\n",
    "        sum_per_month += np.ceil(row['Минуты сверх']) * 1\n",
    "        sum_per_month += row['смс сверх'] * 1\n",
    "        sum_per_month += np.ceil(row['Мб сверх']/1024) * 150\n",
    "        return sum_per_month"
   ]
  },
  {
   "cell_type": "markdown",
   "metadata": {},
   "source": [
    "Cоздаю новые столбцы:"
   ]
  },
  {
   "cell_type": "code",
   "execution_count": 181,
   "metadata": {},
   "outputs": [],
   "source": [
    "new3['Минуты сверх'] = new3.apply(calls_over_tariff, axis=1)\n",
    "new3['смс сверх'] = new3.apply(sms_over_tariff, axis=1)\n",
    "new3['Мб сверх'] = new3.apply(internet_over_tariff, axis=1)\n",
    "\n",
    "new3['Плата сверх лимита,руб'] = new3.apply(month_profit, axis=1)\n",
    "\n",
    "for column in ['Минуты сверх', 'Мб сверх']:\n",
    "    new3[column] = new3[column].astype('float')\n",
    "\n",
    "for column in ['смс сверх', 'Плата сверх лимита,руб']:\n",
    "    new3[column] = new3[column].astype('int')"
   ]
  },
  {
   "cell_type": "code",
   "execution_count": 182,
   "metadata": {},
   "outputs": [
    {
     "data": {
      "text/html": [
       "<div>\n",
       "<style scoped>\n",
       "    .dataframe tbody tr th:only-of-type {\n",
       "        vertical-align: middle;\n",
       "    }\n",
       "\n",
       "    .dataframe tbody tr th {\n",
       "        vertical-align: top;\n",
       "    }\n",
       "\n",
       "    .dataframe thead th {\n",
       "        text-align: right;\n",
       "    }\n",
       "</style>\n",
       "<table border=\"1\" class=\"dataframe\">\n",
       "  <thead>\n",
       "    <tr style=\"text-align: right;\">\n",
       "      <th></th>\n",
       "      <th>User_id</th>\n",
       "      <th>Кол-во звонков</th>\n",
       "      <th>Время звонков,мин</th>\n",
       "      <th>смс</th>\n",
       "      <th>Интернет,мб</th>\n",
       "      <th>Город</th>\n",
       "      <th>Тариф</th>\n",
       "      <th>Месяц</th>\n",
       "      <th>Аб.плата,руб</th>\n",
       "      <th>Минуты сверх</th>\n",
       "      <th>смс сверх</th>\n",
       "      <th>Мб сверх</th>\n",
       "      <th>Плата сверх лимита,руб</th>\n",
       "    </tr>\n",
       "  </thead>\n",
       "  <tbody>\n",
       "    <tr>\n",
       "      <td>0</td>\n",
       "      <td>1000</td>\n",
       "      <td>17</td>\n",
       "      <td>159.0</td>\n",
       "      <td>22</td>\n",
       "      <td>2256.0</td>\n",
       "      <td>Краснодар</td>\n",
       "      <td>ultra</td>\n",
       "      <td>5</td>\n",
       "      <td>1950</td>\n",
       "      <td>0.0</td>\n",
       "      <td>0</td>\n",
       "      <td>0.0</td>\n",
       "      <td>0</td>\n",
       "    </tr>\n",
       "    <tr>\n",
       "      <td>1</td>\n",
       "      <td>1000</td>\n",
       "      <td>28</td>\n",
       "      <td>172.0</td>\n",
       "      <td>60</td>\n",
       "      <td>23257.0</td>\n",
       "      <td>Краснодар</td>\n",
       "      <td>ultra</td>\n",
       "      <td>5</td>\n",
       "      <td>1950</td>\n",
       "      <td>0.0</td>\n",
       "      <td>0</td>\n",
       "      <td>0.0</td>\n",
       "      <td>0</td>\n",
       "    </tr>\n",
       "    <tr>\n",
       "      <td>2</td>\n",
       "      <td>1000</td>\n",
       "      <td>41</td>\n",
       "      <td>340.0</td>\n",
       "      <td>75</td>\n",
       "      <td>14016.0</td>\n",
       "      <td>Краснодар</td>\n",
       "      <td>ultra</td>\n",
       "      <td>5</td>\n",
       "      <td>1950</td>\n",
       "      <td>0.0</td>\n",
       "      <td>0</td>\n",
       "      <td>0.0</td>\n",
       "      <td>0</td>\n",
       "    </tr>\n",
       "    <tr>\n",
       "      <td>3</td>\n",
       "      <td>1000</td>\n",
       "      <td>42</td>\n",
       "      <td>408.0</td>\n",
       "      <td>81</td>\n",
       "      <td>14070.0</td>\n",
       "      <td>Краснодар</td>\n",
       "      <td>ultra</td>\n",
       "      <td>5</td>\n",
       "      <td>1950</td>\n",
       "      <td>0.0</td>\n",
       "      <td>0</td>\n",
       "      <td>0.0</td>\n",
       "      <td>0</td>\n",
       "    </tr>\n",
       "    <tr>\n",
       "      <td>4</td>\n",
       "      <td>1000</td>\n",
       "      <td>46</td>\n",
       "      <td>466.0</td>\n",
       "      <td>57</td>\n",
       "      <td>14581.0</td>\n",
       "      <td>Краснодар</td>\n",
       "      <td>ultra</td>\n",
       "      <td>5</td>\n",
       "      <td>1950</td>\n",
       "      <td>0.0</td>\n",
       "      <td>0</td>\n",
       "      <td>0.0</td>\n",
       "      <td>0</td>\n",
       "    </tr>\n",
       "    <tr>\n",
       "      <td>...</td>\n",
       "      <td>...</td>\n",
       "      <td>...</td>\n",
       "      <td>...</td>\n",
       "      <td>...</td>\n",
       "      <td>...</td>\n",
       "      <td>...</td>\n",
       "      <td>...</td>\n",
       "      <td>...</td>\n",
       "      <td>...</td>\n",
       "      <td>...</td>\n",
       "      <td>...</td>\n",
       "      <td>...</td>\n",
       "      <td>...</td>\n",
       "    </tr>\n",
       "    <tr>\n",
       "      <td>2662</td>\n",
       "      <td>1498</td>\n",
       "      <td>30</td>\n",
       "      <td>247.0</td>\n",
       "      <td>42</td>\n",
       "      <td>20604.0</td>\n",
       "      <td>Владикавказ</td>\n",
       "      <td>smart</td>\n",
       "      <td>7</td>\n",
       "      <td>550</td>\n",
       "      <td>0.0</td>\n",
       "      <td>0</td>\n",
       "      <td>5244.0</td>\n",
       "      <td>1200</td>\n",
       "    </tr>\n",
       "    <tr>\n",
       "      <td>2663</td>\n",
       "      <td>1499</td>\n",
       "      <td>8</td>\n",
       "      <td>70.0</td>\n",
       "      <td>11</td>\n",
       "      <td>1848.0</td>\n",
       "      <td>Пермь</td>\n",
       "      <td>smart</td>\n",
       "      <td>9</td>\n",
       "      <td>550</td>\n",
       "      <td>0.0</td>\n",
       "      <td>0</td>\n",
       "      <td>0.0</td>\n",
       "      <td>0</td>\n",
       "    </tr>\n",
       "    <tr>\n",
       "      <td>2664</td>\n",
       "      <td>1499</td>\n",
       "      <td>44</td>\n",
       "      <td>449.0</td>\n",
       "      <td>48</td>\n",
       "      <td>17809.0</td>\n",
       "      <td>Пермь</td>\n",
       "      <td>smart</td>\n",
       "      <td>9</td>\n",
       "      <td>550</td>\n",
       "      <td>0.0</td>\n",
       "      <td>0</td>\n",
       "      <td>2449.0</td>\n",
       "      <td>600</td>\n",
       "    </tr>\n",
       "    <tr>\n",
       "      <td>2665</td>\n",
       "      <td>1499</td>\n",
       "      <td>62</td>\n",
       "      <td>612.0</td>\n",
       "      <td>59</td>\n",
       "      <td>17984.0</td>\n",
       "      <td>Пермь</td>\n",
       "      <td>smart</td>\n",
       "      <td>9</td>\n",
       "      <td>550</td>\n",
       "      <td>112.0</td>\n",
       "      <td>9</td>\n",
       "      <td>2624.0</td>\n",
       "      <td>963</td>\n",
       "    </tr>\n",
       "    <tr>\n",
       "      <td>2666</td>\n",
       "      <td>1499</td>\n",
       "      <td>56</td>\n",
       "      <td>492.0</td>\n",
       "      <td>66</td>\n",
       "      <td>13077.0</td>\n",
       "      <td>Пермь</td>\n",
       "      <td>smart</td>\n",
       "      <td>9</td>\n",
       "      <td>550</td>\n",
       "      <td>0.0</td>\n",
       "      <td>16</td>\n",
       "      <td>0.0</td>\n",
       "      <td>48</td>\n",
       "    </tr>\n",
       "  </tbody>\n",
       "</table>\n",
       "<p>2667 rows × 13 columns</p>\n",
       "</div>"
      ],
      "text/plain": [
       "      User_id  Кол-во звонков  Время звонков,мин  смс  Интернет,мб  \\\n",
       "0        1000              17              159.0   22       2256.0   \n",
       "1        1000              28              172.0   60      23257.0   \n",
       "2        1000              41              340.0   75      14016.0   \n",
       "3        1000              42              408.0   81      14070.0   \n",
       "4        1000              46              466.0   57      14581.0   \n",
       "...       ...             ...                ...  ...          ...   \n",
       "2662     1498              30              247.0   42      20604.0   \n",
       "2663     1499               8               70.0   11       1848.0   \n",
       "2664     1499              44              449.0   48      17809.0   \n",
       "2665     1499              62              612.0   59      17984.0   \n",
       "2666     1499              56              492.0   66      13077.0   \n",
       "\n",
       "            Город  Тариф  Месяц  Аб.плата,руб  Минуты сверх  смс сверх  \\\n",
       "0       Краснодар  ultra      5          1950           0.0          0   \n",
       "1       Краснодар  ultra      5          1950           0.0          0   \n",
       "2       Краснодар  ultra      5          1950           0.0          0   \n",
       "3       Краснодар  ultra      5          1950           0.0          0   \n",
       "4       Краснодар  ultra      5          1950           0.0          0   \n",
       "...           ...    ...    ...           ...           ...        ...   \n",
       "2662  Владикавказ  smart      7           550           0.0          0   \n",
       "2663        Пермь  smart      9           550           0.0          0   \n",
       "2664        Пермь  smart      9           550           0.0          0   \n",
       "2665        Пермь  smart      9           550         112.0          9   \n",
       "2666        Пермь  smart      9           550           0.0         16   \n",
       "\n",
       "      Мб сверх  Плата сверх лимита,руб  \n",
       "0          0.0                       0  \n",
       "1          0.0                       0  \n",
       "2          0.0                       0  \n",
       "3          0.0                       0  \n",
       "4          0.0                       0  \n",
       "...        ...                     ...  \n",
       "2662    5244.0                    1200  \n",
       "2663       0.0                       0  \n",
       "2664    2449.0                     600  \n",
       "2665    2624.0                     963  \n",
       "2666       0.0                      48  \n",
       "\n",
       "[2667 rows x 13 columns]"
      ]
     },
     "metadata": {},
     "output_type": "display_data"
    }
   ],
   "source": [
    "display(new3)"
   ]
  },
  {
   "cell_type": "markdown",
   "metadata": {},
   "source": [
    "Добавлю столбец Плата за месяц:"
   ]
  },
  {
   "cell_type": "code",
   "execution_count": 183,
   "metadata": {},
   "outputs": [
    {
     "data": {
      "text/html": [
       "<div>\n",
       "<style scoped>\n",
       "    .dataframe tbody tr th:only-of-type {\n",
       "        vertical-align: middle;\n",
       "    }\n",
       "\n",
       "    .dataframe tbody tr th {\n",
       "        vertical-align: top;\n",
       "    }\n",
       "\n",
       "    .dataframe thead th {\n",
       "        text-align: right;\n",
       "    }\n",
       "</style>\n",
       "<table border=\"1\" class=\"dataframe\">\n",
       "  <thead>\n",
       "    <tr style=\"text-align: right;\">\n",
       "      <th></th>\n",
       "      <th>User_id</th>\n",
       "      <th>Кол-во звонков</th>\n",
       "      <th>Время звонков,мин</th>\n",
       "      <th>смс</th>\n",
       "      <th>Интернет,мб</th>\n",
       "      <th>Город</th>\n",
       "      <th>Тариф</th>\n",
       "      <th>Месяц</th>\n",
       "      <th>Аб.плата,руб</th>\n",
       "      <th>Минуты сверх</th>\n",
       "      <th>смс сверх</th>\n",
       "      <th>Мб сверх</th>\n",
       "      <th>Плата сверх лимита,руб</th>\n",
       "      <th>Плата за месяц,руб</th>\n",
       "    </tr>\n",
       "  </thead>\n",
       "  <tbody>\n",
       "    <tr>\n",
       "      <td>0</td>\n",
       "      <td>1000</td>\n",
       "      <td>17</td>\n",
       "      <td>159.0</td>\n",
       "      <td>22</td>\n",
       "      <td>2256.0</td>\n",
       "      <td>Краснодар</td>\n",
       "      <td>ultra</td>\n",
       "      <td>5</td>\n",
       "      <td>1950</td>\n",
       "      <td>0.0</td>\n",
       "      <td>0</td>\n",
       "      <td>0.0</td>\n",
       "      <td>0</td>\n",
       "      <td>1950</td>\n",
       "    </tr>\n",
       "    <tr>\n",
       "      <td>1</td>\n",
       "      <td>1000</td>\n",
       "      <td>28</td>\n",
       "      <td>172.0</td>\n",
       "      <td>60</td>\n",
       "      <td>23257.0</td>\n",
       "      <td>Краснодар</td>\n",
       "      <td>ultra</td>\n",
       "      <td>5</td>\n",
       "      <td>1950</td>\n",
       "      <td>0.0</td>\n",
       "      <td>0</td>\n",
       "      <td>0.0</td>\n",
       "      <td>0</td>\n",
       "      <td>1950</td>\n",
       "    </tr>\n",
       "    <tr>\n",
       "      <td>2</td>\n",
       "      <td>1000</td>\n",
       "      <td>41</td>\n",
       "      <td>340.0</td>\n",
       "      <td>75</td>\n",
       "      <td>14016.0</td>\n",
       "      <td>Краснодар</td>\n",
       "      <td>ultra</td>\n",
       "      <td>5</td>\n",
       "      <td>1950</td>\n",
       "      <td>0.0</td>\n",
       "      <td>0</td>\n",
       "      <td>0.0</td>\n",
       "      <td>0</td>\n",
       "      <td>1950</td>\n",
       "    </tr>\n",
       "    <tr>\n",
       "      <td>3</td>\n",
       "      <td>1000</td>\n",
       "      <td>42</td>\n",
       "      <td>408.0</td>\n",
       "      <td>81</td>\n",
       "      <td>14070.0</td>\n",
       "      <td>Краснодар</td>\n",
       "      <td>ultra</td>\n",
       "      <td>5</td>\n",
       "      <td>1950</td>\n",
       "      <td>0.0</td>\n",
       "      <td>0</td>\n",
       "      <td>0.0</td>\n",
       "      <td>0</td>\n",
       "      <td>1950</td>\n",
       "    </tr>\n",
       "    <tr>\n",
       "      <td>4</td>\n",
       "      <td>1000</td>\n",
       "      <td>46</td>\n",
       "      <td>466.0</td>\n",
       "      <td>57</td>\n",
       "      <td>14581.0</td>\n",
       "      <td>Краснодар</td>\n",
       "      <td>ultra</td>\n",
       "      <td>5</td>\n",
       "      <td>1950</td>\n",
       "      <td>0.0</td>\n",
       "      <td>0</td>\n",
       "      <td>0.0</td>\n",
       "      <td>0</td>\n",
       "      <td>1950</td>\n",
       "    </tr>\n",
       "    <tr>\n",
       "      <td>...</td>\n",
       "      <td>...</td>\n",
       "      <td>...</td>\n",
       "      <td>...</td>\n",
       "      <td>...</td>\n",
       "      <td>...</td>\n",
       "      <td>...</td>\n",
       "      <td>...</td>\n",
       "      <td>...</td>\n",
       "      <td>...</td>\n",
       "      <td>...</td>\n",
       "      <td>...</td>\n",
       "      <td>...</td>\n",
       "      <td>...</td>\n",
       "      <td>...</td>\n",
       "    </tr>\n",
       "    <tr>\n",
       "      <td>2662</td>\n",
       "      <td>1498</td>\n",
       "      <td>30</td>\n",
       "      <td>247.0</td>\n",
       "      <td>42</td>\n",
       "      <td>20604.0</td>\n",
       "      <td>Владикавказ</td>\n",
       "      <td>smart</td>\n",
       "      <td>7</td>\n",
       "      <td>550</td>\n",
       "      <td>0.0</td>\n",
       "      <td>0</td>\n",
       "      <td>5244.0</td>\n",
       "      <td>1200</td>\n",
       "      <td>1750</td>\n",
       "    </tr>\n",
       "    <tr>\n",
       "      <td>2663</td>\n",
       "      <td>1499</td>\n",
       "      <td>8</td>\n",
       "      <td>70.0</td>\n",
       "      <td>11</td>\n",
       "      <td>1848.0</td>\n",
       "      <td>Пермь</td>\n",
       "      <td>smart</td>\n",
       "      <td>9</td>\n",
       "      <td>550</td>\n",
       "      <td>0.0</td>\n",
       "      <td>0</td>\n",
       "      <td>0.0</td>\n",
       "      <td>0</td>\n",
       "      <td>550</td>\n",
       "    </tr>\n",
       "    <tr>\n",
       "      <td>2664</td>\n",
       "      <td>1499</td>\n",
       "      <td>44</td>\n",
       "      <td>449.0</td>\n",
       "      <td>48</td>\n",
       "      <td>17809.0</td>\n",
       "      <td>Пермь</td>\n",
       "      <td>smart</td>\n",
       "      <td>9</td>\n",
       "      <td>550</td>\n",
       "      <td>0.0</td>\n",
       "      <td>0</td>\n",
       "      <td>2449.0</td>\n",
       "      <td>600</td>\n",
       "      <td>1150</td>\n",
       "    </tr>\n",
       "    <tr>\n",
       "      <td>2665</td>\n",
       "      <td>1499</td>\n",
       "      <td>62</td>\n",
       "      <td>612.0</td>\n",
       "      <td>59</td>\n",
       "      <td>17984.0</td>\n",
       "      <td>Пермь</td>\n",
       "      <td>smart</td>\n",
       "      <td>9</td>\n",
       "      <td>550</td>\n",
       "      <td>112.0</td>\n",
       "      <td>9</td>\n",
       "      <td>2624.0</td>\n",
       "      <td>963</td>\n",
       "      <td>1513</td>\n",
       "    </tr>\n",
       "    <tr>\n",
       "      <td>2666</td>\n",
       "      <td>1499</td>\n",
       "      <td>56</td>\n",
       "      <td>492.0</td>\n",
       "      <td>66</td>\n",
       "      <td>13077.0</td>\n",
       "      <td>Пермь</td>\n",
       "      <td>smart</td>\n",
       "      <td>9</td>\n",
       "      <td>550</td>\n",
       "      <td>0.0</td>\n",
       "      <td>16</td>\n",
       "      <td>0.0</td>\n",
       "      <td>48</td>\n",
       "      <td>598</td>\n",
       "    </tr>\n",
       "  </tbody>\n",
       "</table>\n",
       "<p>2667 rows × 14 columns</p>\n",
       "</div>"
      ],
      "text/plain": [
       "      User_id  Кол-во звонков  Время звонков,мин  смс  Интернет,мб  \\\n",
       "0        1000              17              159.0   22       2256.0   \n",
       "1        1000              28              172.0   60      23257.0   \n",
       "2        1000              41              340.0   75      14016.0   \n",
       "3        1000              42              408.0   81      14070.0   \n",
       "4        1000              46              466.0   57      14581.0   \n",
       "...       ...             ...                ...  ...          ...   \n",
       "2662     1498              30              247.0   42      20604.0   \n",
       "2663     1499               8               70.0   11       1848.0   \n",
       "2664     1499              44              449.0   48      17809.0   \n",
       "2665     1499              62              612.0   59      17984.0   \n",
       "2666     1499              56              492.0   66      13077.0   \n",
       "\n",
       "            Город  Тариф  Месяц  Аб.плата,руб  Минуты сверх  смс сверх  \\\n",
       "0       Краснодар  ultra      5          1950           0.0          0   \n",
       "1       Краснодар  ultra      5          1950           0.0          0   \n",
       "2       Краснодар  ultra      5          1950           0.0          0   \n",
       "3       Краснодар  ultra      5          1950           0.0          0   \n",
       "4       Краснодар  ultra      5          1950           0.0          0   \n",
       "...           ...    ...    ...           ...           ...        ...   \n",
       "2662  Владикавказ  smart      7           550           0.0          0   \n",
       "2663        Пермь  smart      9           550           0.0          0   \n",
       "2664        Пермь  smart      9           550           0.0          0   \n",
       "2665        Пермь  smart      9           550         112.0          9   \n",
       "2666        Пермь  smart      9           550           0.0         16   \n",
       "\n",
       "      Мб сверх  Плата сверх лимита,руб  Плата за месяц,руб  \n",
       "0          0.0                       0                1950  \n",
       "1          0.0                       0                1950  \n",
       "2          0.0                       0                1950  \n",
       "3          0.0                       0                1950  \n",
       "4          0.0                       0                1950  \n",
       "...        ...                     ...                 ...  \n",
       "2662    5244.0                    1200                1750  \n",
       "2663       0.0                       0                 550  \n",
       "2664    2449.0                     600                1150  \n",
       "2665    2624.0                     963                1513  \n",
       "2666       0.0                      48                 598  \n",
       "\n",
       "[2667 rows x 14 columns]"
      ]
     },
     "metadata": {},
     "output_type": "display_data"
    }
   ],
   "source": [
    "new3['Плата за месяц,руб'] = new3['Аб.плата,руб'] + new3['Плата сверх лимита,руб']\n",
    "display(new3)"
   ]
  },
  {
   "cell_type": "code",
   "execution_count": 184,
   "metadata": {},
   "outputs": [
    {
     "data": {
      "text/plain": [
       "301"
      ]
     },
     "execution_count": 184,
     "metadata": {},
     "output_type": "execute_result"
    }
   ],
   "source": [
    "tarif_smart = new3.query('Тариф == \"smart\"')\n",
    "len(tarif_smart.groupby('User_id'))\n",
    "\n"
   ]
  },
  {
   "cell_type": "code",
   "execution_count": 185,
   "metadata": {},
   "outputs": [
    {
     "data": {
      "text/plain": [
       "118"
      ]
     },
     "execution_count": 185,
     "metadata": {},
     "output_type": "execute_result"
    }
   ],
   "source": [
    "tarif_ultra = new3.query('Тариф == \"ultra\"')\n",
    "len(tarif_ultra.groupby('User_id'))\n"
   ]
  },
  {
   "cell_type": "markdown",
   "metadata": {},
   "source": [
    "После всех операций в таблице оказалось 118 абонентов тарима Ультра и 301 абонент тарифа Смарт"
   ]
  },
  {
   "cell_type": "markdown",
   "metadata": {},
   "source": [
    "# Анализ данных"
   ]
  },
  {
   "cell_type": "markdown",
   "metadata": {},
   "source": [
    "Для удобства дальнейших действий добавлю столбец \"Не хватило тарифа\""
   ]
  },
  {
   "cell_type": "code",
   "execution_count": 186,
   "metadata": {},
   "outputs": [
    {
     "name": "stdout",
     "output_type": "stream",
     "text": [
      "<class 'pandas.core.frame.DataFrame'>\n",
      "Int64Index: 2667 entries, 0 to 2666\n",
      "Data columns (total 15 columns):\n",
      "User_id                   2667 non-null int64\n",
      "Кол-во звонков            2667 non-null int64\n",
      "Время звонков,мин         2667 non-null float64\n",
      "смс                       2667 non-null int64\n",
      "Интернет,мб               2667 non-null float64\n",
      "Город                     2667 non-null object\n",
      "Тариф                     2667 non-null object\n",
      "Месяц                     2667 non-null int64\n",
      "Аб.плата,руб              2667 non-null int64\n",
      "Минуты сверх              2667 non-null float64\n",
      "смс сверх                 2667 non-null int64\n",
      "Мб сверх                  2667 non-null float64\n",
      "Плата сверх лимита,руб    2667 non-null int64\n",
      "Плата за месяц,руб        2667 non-null int64\n",
      "Не хватило тарифа         2667 non-null int64\n",
      "dtypes: float64(4), int64(9), object(2)\n",
      "memory usage: 333.4+ KB\n"
     ]
    }
   ],
   "source": [
    "new3['Не хватило тарифа'] = np.where(new3['Плата сверх лимита,руб'] > 0, 1, 0)\n",
    "new3.info()"
   ]
  },
  {
   "cell_type": "markdown",
   "metadata": {},
   "source": [
    "Cделаю круговые диаграммы для каждого тарифа:"
   ]
  },
  {
   "cell_type": "code",
   "execution_count": 187,
   "metadata": {},
   "outputs": [
    {
     "data": {
      "image/png": "[encoded data removed]",
      "text/plain": [
       "<Figure size 432x288 with 1 Axes>"
      ]
     },
     "metadata": {},
     "output_type": "display_data"
    }
   ],
   "source": [
    "tarif_smart = new3.query('Тариф == \"smart\"')\n",
    "tarif_smart['Не хватило тарифа'].value_counts().plot(kind='pie', subplots=True, autopct='%.1f')\n",
    "plt.title(\"Абоненты тарифа Смарт\")\n",
    "plt.legend(['Дозаказ услуг', 'В рамках тиарифа'], loc='upper left', bbox_to_anchor=(1.0, 0.7), fontsize=14, shadow=True, framealpha=1, edgecolor='b')\n",
    "plt.show()\n"
   ]
  },
  {
   "cell_type": "code",
   "execution_count": 188,
   "metadata": {},
   "outputs": [
    {
     "data": {
      "image/png": "[encoded data removed]",
      "text/plain": [
       "<Figure size 432x288 with 1 Axes>"
      ]
     },
     "metadata": {},
     "output_type": "display_data"
    }
   ],
   "source": [
    "tarif_ultra = new3.query('Тариф == \"ultra\"')\n",
    "tarif_ultra['Не хватило тарифа'].value_counts().plot(kind='pie', subplots=True, autopct='%.1f')\n",
    "plt.title(\"Аабоненты тарифа Ультра\")\n",
    "plt.legend(['В рамках тиарифа', 'Дозаказ услуг'], loc='upper left', bbox_to_anchor=(1.0, 0.7), fontsize=14, shadow=True, framealpha=1, edgecolor='b')\n",
    "plt.show()"
   ]
  },
  {
   "cell_type": "markdown",
   "metadata": {},
   "source": [
    "На диаграммах видно, что большинство абонентов тарифа Ультра (87.9%) остаются в рамках пакета и только 12.1% людей дозаказывают дополнительные минуты, мегабайты и смс. \n",
    "У тарифа Смарт ситуацию обратная - почти все пользователи (75,4%) дозаказывают сверх пакета и только 24.6% людей отсаются в рамках тарифа."
   ]
  },
  {
   "cell_type": "markdown",
   "metadata": {},
   "source": [
    "Построю гистограмму переплат:"
   ]
  },
  {
   "cell_type": "markdown",
   "metadata": {},
   "source": [
    "для тарифа Смарт:"
   ]
  },
  {
   "cell_type": "code",
   "execution_count": 189,
   "metadata": {},
   "outputs": [
    {
     "data": {
      "text/plain": [
       "<matplotlib.axes._subplots.AxesSubplot at 0x7f65df07f550>"
      ]
     },
     "execution_count": 189,
     "metadata": {},
     "output_type": "execute_result"
    },
    {
     "data": {
      "image/png": "[encoded data removed]",
      "text/plain": [
       "<Figure size 432x288 with 1 Axes>"
      ]
     },
     "metadata": {
      "needs_background": "light"
     },
     "output_type": "display_data"
    }
   ],
   "source": [
    "pereplata_smart = new3[(new3['Тариф'] == 'smart') & \n",
    "                                       (new3['Плата сверх лимита,руб'] > 0)]['Плата сверх лимита,руб']\n",
    "pereplata_smart.hist(bins=50)\n",
    "#tarif_smart.query('Плата сверх лимита,руб>0')['Плата сверх лимита,руб'].hist(bins=100)\n"
   ]
  },
  {
   "cell_type": "markdown",
   "metadata": {},
   "source": [
    "Из тех, кто переплавчивает, большинство переплачивает до 1500р. Посмотрю поближе:"
   ]
  },
  {
   "cell_type": "code",
   "execution_count": 190,
   "metadata": {},
   "outputs": [
    {
     "data": {
      "text/plain": [
       "<matplotlib.axes._subplots.AxesSubplot at 0x7f65d70fe950>"
      ]
     },
     "execution_count": 190,
     "metadata": {},
     "output_type": "execute_result"
    },
    {
     "data": {
      "image/png": "[encoded data removed]",
      "text/plain": [
       "<Figure size 432x288 with 1 Axes>"
      ]
     },
     "metadata": {
      "needs_background": "light"
     },
     "output_type": "display_data"
    }
   ],
   "source": [
    "pereplata_smart_do_1500 = new3[(new3['Тариф'] == 'smart') & \n",
    "                                        (new3['Плата сверх лимита,руб'] > 0) &\n",
    "                                        (new3['Плата сверх лимита,руб'] < 1500)]['Плата сверх лимита,руб']\n",
    "pereplata_smart_do_1500.hist(bins=50)"
   ]
  },
  {
   "cell_type": "markdown",
   "metadata": {},
   "source": [
    "Из тех, кто переплачивает, большинство переплачивают сумму кратную 200р. Это означает, что они докупают 1Гб разное количество раз."
   ]
  },
  {
   "cell_type": "markdown",
   "metadata": {},
   "source": [
    "Для тарифа Ультра:"
   ]
  },
  {
   "cell_type": "code",
   "execution_count": 191,
   "metadata": {},
   "outputs": [
    {
     "data": {
      "text/plain": [
       "<matplotlib.axes._subplots.AxesSubplot at 0x7f65d6fb09d0>"
      ]
     },
     "execution_count": 191,
     "metadata": {},
     "output_type": "execute_result"
    },
    {
     "data": {
      "image/png": "[encoded data removed]",
      "text/plain": [
       "<Figure size 432x288 with 1 Axes>"
      ]
     },
     "metadata": {
      "needs_background": "light"
     },
     "output_type": "display_data"
    }
   ],
   "source": [
    "pereplata_ultra = new3[(new3['Тариф'] == 'ultra') & \n",
    "                                       (new3['Плата сверх лимита,руб'] > 0)]['Плата сверх лимита,руб']\n",
    "pereplata_ultra.hist(bins=50)"
   ]
  },
  {
   "cell_type": "markdown",
   "metadata": {},
   "source": [
    "Из тех, кто переплавчивает, большинство переплачивает до 1500р. Посмотрю поближе:"
   ]
  },
  {
   "cell_type": "code",
   "execution_count": 192,
   "metadata": {},
   "outputs": [
    {
     "data": {
      "text/plain": [
       "<matplotlib.axes._subplots.AxesSubplot at 0x7f65d6f0fb10>"
      ]
     },
     "execution_count": 192,
     "metadata": {},
     "output_type": "execute_result"
    },
    {
     "data": {
      "image/png": "[encoded data removed]",
      "text/plain": [
       "<Figure size 432x288 with 1 Axes>"
      ]
     },
     "metadata": {
      "needs_background": "light"
     },
     "output_type": "display_data"
    }
   ],
   "source": [
    "pereplata_ultra_do_1500 = new3[(new3['Тариф'] == 'smart') & \n",
    "                                        (new3['Плата сверх лимита,руб'] > 0) &\n",
    "                                        (new3['Плата сверх лимита,руб'] < 1500)]['Плата сверх лимита,руб']\n",
    "pereplata_ultra_do_1500.hist(bins=100)"
   ]
  },
  {
   "cell_type": "markdown",
   "metadata": {},
   "source": [
    "Абоненты покупают 1Гб сверх тарифа"
   ]
  },
  {
   "cell_type": "markdown",
   "metadata": {},
   "source": [
    "Посмотрю какие опции чаще дозаказывают:"
   ]
  },
  {
   "cell_type": "code",
   "execution_count": 193,
   "metadata": {},
   "outputs": [
    {
     "data": {
      "text/html": [
       "<div>\n",
       "<style scoped>\n",
       "    .dataframe tbody tr th:only-of-type {\n",
       "        vertical-align: middle;\n",
       "    }\n",
       "\n",
       "    .dataframe tbody tr th {\n",
       "        vertical-align: top;\n",
       "    }\n",
       "\n",
       "    .dataframe thead th {\n",
       "        text-align: right;\n",
       "    }\n",
       "</style>\n",
       "<table border=\"1\" class=\"dataframe\">\n",
       "  <thead>\n",
       "    <tr style=\"text-align: right;\">\n",
       "      <th></th>\n",
       "      <th>Тариф</th>\n",
       "      <th>Минуты сверх</th>\n",
       "      <th>смс сверх</th>\n",
       "      <th>Мб сверх</th>\n",
       "    </tr>\n",
       "  </thead>\n",
       "  <tbody>\n",
       "    <tr>\n",
       "      <td>0</td>\n",
       "      <td>smart</td>\n",
       "      <td>79738.0</td>\n",
       "      <td>12928</td>\n",
       "      <td>5286268.0</td>\n",
       "    </tr>\n",
       "    <tr>\n",
       "      <td>1</td>\n",
       "      <td>ultra</td>\n",
       "      <td>0.0</td>\n",
       "      <td>0</td>\n",
       "      <td>466125.0</td>\n",
       "    </tr>\n",
       "  </tbody>\n",
       "</table>\n",
       "</div>"
      ],
      "text/plain": [
       "   Тариф  Минуты сверх  смс сверх   Мб сверх\n",
       "0  smart       79738.0      12928  5286268.0\n",
       "1  ultra           0.0          0   466125.0"
      ]
     },
     "execution_count": 193,
     "metadata": {},
     "output_type": "execute_result"
    }
   ],
   "source": [
    "new3.groupby('Тариф').sum()[['Минуты сверх','смс сверх','Мб сверх']].reset_index()"
   ]
  },
  {
   "cell_type": "markdown",
   "metadata": {},
   "source": [
    "Абоненты Смарта дозаказывают все имеющиеся опции, абоненты Ультра дозаказывают только гигабайты."
   ]
  },
  {
   "cell_type": "markdown",
   "metadata": {},
   "source": [
    "Построю диаграмму выручки по каждому тарифу:"
   ]
  },
  {
   "cell_type": "code",
   "execution_count": 194,
   "metadata": {},
   "outputs": [
    {
     "data": {
      "text/plain": [
       "array([<matplotlib.axes._subplots.AxesSubplot object at 0x7f65e1199850>],\n",
       "      dtype=object)"
      ]
     },
     "execution_count": 194,
     "metadata": {},
     "output_type": "execute_result"
    },
    {
     "data": {
      "image/png": "[encoded data removed]",
      "text/plain": [
       "<Figure size 432x288 with 1 Axes>"
      ]
     },
     "metadata": {},
     "output_type": "display_data"
    }
   ],
   "source": [
    "revenue=new3.groupby('Тариф')['Плата за месяц,руб'].sum()\n",
    "revenue.plot(kind='pie', subplots=True, autopct='%.1f')"
   ]
  },
  {
   "cell_type": "markdown",
   "metadata": {},
   "source": [
    "Тариф Смарт приносит 61.7% выручки, а Ультра 38.3%"
   ]
  },
  {
   "cell_type": "markdown",
   "metadata": {},
   "source": [
    "Построю сводную таблицу по тарифам:"
   ]
  },
  {
   "cell_type": "code",
   "execution_count": 195,
   "metadata": {},
   "outputs": [
    {
     "data": {
      "text/html": [
       "<div>\n",
       "<style scoped>\n",
       "    .dataframe tbody tr th:only-of-type {\n",
       "        vertical-align: middle;\n",
       "    }\n",
       "\n",
       "    .dataframe tbody tr th {\n",
       "        vertical-align: top;\n",
       "    }\n",
       "\n",
       "    .dataframe thead th {\n",
       "        text-align: right;\n",
       "    }\n",
       "</style>\n",
       "<table border=\"1\" class=\"dataframe\">\n",
       "  <thead>\n",
       "    <tr style=\"text-align: right;\">\n",
       "      <th></th>\n",
       "      <th>Аб.плата,руб</th>\n",
       "      <th>Время звонков,мин</th>\n",
       "      <th>Интернет,мб</th>\n",
       "      <th>Плата за месяц,руб</th>\n",
       "      <th>смс</th>\n",
       "    </tr>\n",
       "    <tr>\n",
       "      <th>Тариф</th>\n",
       "      <th></th>\n",
       "      <th></th>\n",
       "      <th></th>\n",
       "      <th></th>\n",
       "      <th></th>\n",
       "    </tr>\n",
       "  </thead>\n",
       "  <tbody>\n",
       "    <tr>\n",
       "      <td>smart</td>\n",
       "      <td>1053250</td>\n",
       "      <td>806282.0</td>\n",
       "      <td>31149607.0</td>\n",
       "      <td>2480648</td>\n",
       "      <td>74239</td>\n",
       "    </tr>\n",
       "    <tr>\n",
       "      <td>ultra</td>\n",
       "      <td>1466400</td>\n",
       "      <td>418757.0</td>\n",
       "      <td>14750172.0</td>\n",
       "      <td>1541400</td>\n",
       "      <td>46354</td>\n",
       "    </tr>\n",
       "  </tbody>\n",
       "</table>\n",
       "</div>"
      ],
      "text/plain": [
       "       Аб.плата,руб  Время звонков,мин  Интернет,мб  Плата за месяц,руб    смс\n",
       "Тариф                                                                         \n",
       "smart       1053250           806282.0   31149607.0             2480648  74239\n",
       "ultra       1466400           418757.0   14750172.0             1541400  46354"
      ]
     },
     "metadata": {},
     "output_type": "display_data"
    }
   ],
   "source": [
    "display(new3.pivot_table(index='Тариф', values=('Аб.плата,руб', 'Время звонков,мин', 'Интернет,мб', 'смс', 'Плата за месяц,руб'), aggfunc='sum'))"
   ]
  },
  {
   "cell_type": "markdown",
   "metadata": {},
   "source": [
    "# Вывод"
   ]
  },
  {
   "cell_type": "markdown",
   "metadata": {},
   "source": [
    "# Дисперсия и стандартное отклонение"
   ]
  },
  {
   "cell_type": "markdown",
   "metadata": {},
   "source": [
    "### Минуты разговора:"
   ]
  },
  {
   "cell_type": "code",
   "execution_count": 196,
   "metadata": {},
   "outputs": [
    {
     "data": {
      "text/plain": [
       "count    1915.000000\n",
       "mean      421.034987\n",
       "std       187.712806\n",
       "min         0.000000\n",
       "25%       287.500000\n",
       "50%       427.000000\n",
       "75%       547.000000\n",
       "max      1435.000000\n",
       "Name: Время звонков,мин, dtype: float64"
      ]
     },
     "execution_count": 196,
     "metadata": {},
     "output_type": "execute_result"
    }
   ],
   "source": [
    "tarif_smart['Время звонков,мин'].describe()"
   ]
  },
  {
   "cell_type": "code",
   "execution_count": 197,
   "metadata": {},
   "outputs": [
    {
     "data": {
      "text/plain": [
       "count     752.000000\n",
       "mean      556.857713\n",
       "std       311.862810\n",
       "min         0.000000\n",
       "25%       331.750000\n",
       "50%       537.500000\n",
       "75%       760.250000\n",
       "max      1673.000000\n",
       "Name: Время звонков,мин, dtype: float64"
      ]
     },
     "execution_count": 197,
     "metadata": {},
     "output_type": "execute_result"
    }
   ],
   "source": [
    "tarif_ultra['Время звонков,мин'].describe()"
   ]
  },
  {
   "cell_type": "code",
   "execution_count": 198,
   "metadata": {},
   "outputs": [
    {
     "data": {
      "image/png": "[encoded data removed]",
      "text/plain": [
       "<Figure size 432x288 with 1 Axes>"
      ]
     },
     "metadata": {
      "needs_background": "light"
     },
     "output_type": "display_data"
    }
   ],
   "source": [
    "plt.hist(tarif_smart['Время звонков,мин'], bins=50, label='smart')\n",
    "plt.hist(tarif_ultra['Время звонков,мин'], bins=50, label='ultra', alpha=0.7)\n",
    "plt.legend(loc='upper right')\n",
    "plt.show()"
   ]
  },
  {
   "cell_type": "code",
   "execution_count": 199,
   "metadata": {},
   "outputs": [
    {
     "data": {
      "text/plain": [
       "35236.09752135563"
      ]
     },
     "execution_count": 199,
     "metadata": {},
     "output_type": "execute_result"
    }
   ],
   "source": [
    "smart_var = np.var(tarif_smart['Время звонков,мин'], ddof=1) #дисперсия тарифа Смарт\n",
    "smart_var"
   ]
  },
  {
   "cell_type": "code",
   "execution_count": 200,
   "metadata": {},
   "outputs": [
    {
     "data": {
      "text/plain": [
       "97258.41248370968"
      ]
     },
     "execution_count": 200,
     "metadata": {},
     "output_type": "execute_result"
    }
   ],
   "source": [
    "ultra_var = np.var(tarif_ultra['Время звонков,мин'], ddof=1) #дисперсия тарифа Ультра\n",
    "ultra_var"
   ]
  },
  {
   "cell_type": "code",
   "execution_count": 201,
   "metadata": {},
   "outputs": [
    {
     "data": {
      "text/html": [
       "<div>\n",
       "<style scoped>\n",
       "    .dataframe tbody tr th:only-of-type {\n",
       "        vertical-align: middle;\n",
       "    }\n",
       "\n",
       "    .dataframe tbody tr th {\n",
       "        vertical-align: top;\n",
       "    }\n",
       "\n",
       "    .dataframe thead th {\n",
       "        text-align: right;\n",
       "    }\n",
       "</style>\n",
       "<table border=\"1\" class=\"dataframe\">\n",
       "  <thead>\n",
       "    <tr style=\"text-align: right;\">\n",
       "      <th></th>\n",
       "      <th>Метрика</th>\n",
       "      <th>Смарт</th>\n",
       "      <th>Ультра</th>\n",
       "    </tr>\n",
       "  </thead>\n",
       "  <tbody>\n",
       "    <tr>\n",
       "      <td>0</td>\n",
       "      <td>Дисперсия</td>\n",
       "      <td>35236.1</td>\n",
       "      <td>97258.4</td>\n",
       "    </tr>\n",
       "    <tr>\n",
       "      <td>1</td>\n",
       "      <td>Стандартное отклонение</td>\n",
       "      <td>187.713</td>\n",
       "      <td>311.863</td>\n",
       "    </tr>\n",
       "  </tbody>\n",
       "</table>\n",
       "</div>"
      ],
      "text/plain": [
       "                  Метрика    Смарт   Ультра\n",
       "0               Дисперсия  35236.1  97258.4\n",
       "1  Стандартное отклонение  187.713  311.863"
      ]
     },
     "execution_count": 201,
     "metadata": {},
     "output_type": "execute_result"
    }
   ],
   "source": [
    "s=smart_var**0.5 #считаю стандартное отклонение\n",
    "u=ultra_var**0.5\n",
    "data={'Метрика':['Дисперсия','Стандартное отклонение'],'Смарт':['35236.1',s],'Ультра':['97258.4',u]}\n",
    "df = pd.DataFrame(data)\n",
    "df"
   ]
  },
  {
   "cell_type": "markdown",
   "metadata": {},
   "source": [
    "На тарифе смарт люди  основном разгоавривают 250-550 минут. В среднем 421 минуту, то есть почти полностью проговаривают отведенные минуты. На тарифе Ультра гораздо реже разговаривают по сотовой связи, возможно используют звонки через интернет."
   ]
  },
  {
   "cell_type": "markdown",
   "metadata": {},
   "source": [
    "### Сообщения:"
   ]
  },
  {
   "cell_type": "code",
   "execution_count": 202,
   "metadata": {},
   "outputs": [
    {
     "data": {
      "image/png": "[encoded data removed]",
      "text/plain": [
       "<Figure size 432x288 with 1 Axes>"
      ]
     },
     "metadata": {
      "needs_background": "light"
     },
     "output_type": "display_data"
    }
   ],
   "source": [
    "plt.hist(tarif_smart['смс'], bins=50, label='smart')\n",
    "plt.hist(tarif_ultra['смс'], bins=50, label='ultra', alpha=0.7)\n",
    "plt.legend(loc='upper right')\n",
    "plt.show()"
   ]
  },
  {
   "cell_type": "code",
   "execution_count": 203,
   "metadata": {},
   "outputs": [
    {
     "data": {
      "text/plain": [
       "718.8036193391555"
      ]
     },
     "execution_count": 203,
     "metadata": {},
     "output_type": "execute_result"
    }
   ],
   "source": [
    "smart_var1 = np.var(tarif_smart['смс'], ddof=1) #дисперсия тарифа Смарт\n",
    "smart_var1"
   ]
  },
  {
   "cell_type": "code",
   "execution_count": 204,
   "metadata": {},
   "outputs": [
    {
     "data": {
      "text/plain": [
       "2008.5500113324078"
      ]
     },
     "execution_count": 204,
     "metadata": {},
     "output_type": "execute_result"
    }
   ],
   "source": [
    "ultra_var1 = np.var(tarif_ultra['смс'], ddof=1) #дисперсия тарифа Ультра\n",
    "ultra_var1"
   ]
  },
  {
   "cell_type": "code",
   "execution_count": 205,
   "metadata": {},
   "outputs": [
    {
     "data": {
      "text/html": [
       "<div>\n",
       "<style scoped>\n",
       "    .dataframe tbody tr th:only-of-type {\n",
       "        vertical-align: middle;\n",
       "    }\n",
       "\n",
       "    .dataframe tbody tr th {\n",
       "        vertical-align: top;\n",
       "    }\n",
       "\n",
       "    .dataframe thead th {\n",
       "        text-align: right;\n",
       "    }\n",
       "</style>\n",
       "<table border=\"1\" class=\"dataframe\">\n",
       "  <thead>\n",
       "    <tr style=\"text-align: right;\">\n",
       "      <th></th>\n",
       "      <th>Метрика</th>\n",
       "      <th>Смарт</th>\n",
       "      <th>Ультра</th>\n",
       "    </tr>\n",
       "  </thead>\n",
       "  <tbody>\n",
       "    <tr>\n",
       "      <td>0</td>\n",
       "      <td>Дисперсия</td>\n",
       "      <td>718.8</td>\n",
       "      <td>2008.5</td>\n",
       "    </tr>\n",
       "    <tr>\n",
       "      <td>1</td>\n",
       "      <td>Стандартное отклонение</td>\n",
       "      <td>26.8105</td>\n",
       "      <td>44.8168</td>\n",
       "    </tr>\n",
       "  </tbody>\n",
       "</table>\n",
       "</div>"
      ],
      "text/plain": [
       "                  Метрика    Смарт   Ультра\n",
       "0               Дисперсия    718.8   2008.5\n",
       "1  Стандартное отклонение  26.8105  44.8168"
      ]
     },
     "execution_count": 205,
     "metadata": {},
     "output_type": "execute_result"
    }
   ],
   "source": [
    "s1=smart_var1**0.5 #считаю стандартное отклонение\n",
    "u1=ultra_var1**0.5\n",
    "data1={'Метрика':['Дисперсия','Стандартное отклонение'],'Смарт':['718.8',s1],'Ультра':['2008.5',u1]}\n",
    "df1 = pd.DataFrame(data1)\n",
    "df1"
   ]
  },
  {
   "cell_type": "markdown",
   "metadata": {},
   "source": [
    "Большинство абонентов тарифа Смарт используют 20-30 смс. На тарифе ультра смс используют в два раза реже, что ожидаемо."
   ]
  },
  {
   "cell_type": "markdown",
   "metadata": {},
   "source": [
    "### Трафик"
   ]
  },
  {
   "cell_type": "code",
   "execution_count": 206,
   "metadata": {},
   "outputs": [
    {
     "data": {
      "text/plain": [
       "count     1915.000000\n",
       "mean     16266.113316\n",
       "std       5800.037364\n",
       "min          0.000000\n",
       "25%      12640.000000\n",
       "50%      16484.000000\n",
       "75%      20068.000000\n",
       "max      38610.000000\n",
       "Name: Интернет,мб, dtype: float64"
      ]
     },
     "execution_count": 206,
     "metadata": {},
     "output_type": "execute_result"
    }
   ],
   "source": [
    "tarif_smart['Интернет,мб'].describe()"
   ]
  },
  {
   "cell_type": "code",
   "execution_count": 207,
   "metadata": {},
   "outputs": [
    {
     "data": {
      "text/plain": [
       "count      752.000000\n",
       "mean     19614.590426\n",
       "std       9638.192361\n",
       "min          0.000000\n",
       "25%      11917.000000\n",
       "50%      19463.500000\n",
       "75%      26854.750000\n",
       "max      49789.000000\n",
       "Name: Интернет,мб, dtype: float64"
      ]
     },
     "execution_count": 207,
     "metadata": {},
     "output_type": "execute_result"
    }
   ],
   "source": [
    "tarif_ultra['Интернет,мб'].describe()"
   ]
  },
  {
   "cell_type": "code",
   "execution_count": 208,
   "metadata": {},
   "outputs": [
    {
     "data": {
      "image/png": "[encoded data removed]",
      "text/plain": [
       "<Figure size 432x288 with 1 Axes>"
      ]
     },
     "metadata": {
      "needs_background": "light"
     },
     "output_type": "display_data"
    }
   ],
   "source": [
    "plt.hist(tarif_smart['Интернет,мб'], bins=50, label='smart')\n",
    "plt.hist(tarif_ultra['Интернет,мб'], bins=50, label='ultra', alpha=0.7)\n",
    "plt.legend(loc='upper right')\n",
    "plt.show()"
   ]
  },
  {
   "cell_type": "code",
   "execution_count": 209,
   "metadata": {},
   "outputs": [
    {
     "data": {
      "text/plain": [
       "33640433.42027714"
      ]
     },
     "execution_count": 209,
     "metadata": {},
     "output_type": "execute_result"
    }
   ],
   "source": [
    "smart_var2 = np.var(tarif_smart['Интернет,мб'], ddof=1) #дисперсия тарифа Смарт\n",
    "smart_var2"
   ]
  },
  {
   "cell_type": "code",
   "execution_count": 210,
   "metadata": {},
   "outputs": [
    {
     "data": {
      "text/plain": [
       "92894751.98382299"
      ]
     },
     "execution_count": 210,
     "metadata": {},
     "output_type": "execute_result"
    }
   ],
   "source": [
    "ultra_var2 = np.var(tarif_ultra['Интернет,мб'], ddof=1) #дисперсия тарифа Ультра\n",
    "ultra_var2"
   ]
  },
  {
   "cell_type": "code",
   "execution_count": 211,
   "metadata": {},
   "outputs": [
    {
     "data": {
      "text/html": [
       "<div>\n",
       "<style scoped>\n",
       "    .dataframe tbody tr th:only-of-type {\n",
       "        vertical-align: middle;\n",
       "    }\n",
       "\n",
       "    .dataframe tbody tr th {\n",
       "        vertical-align: top;\n",
       "    }\n",
       "\n",
       "    .dataframe thead th {\n",
       "        text-align: right;\n",
       "    }\n",
       "</style>\n",
       "<table border=\"1\" class=\"dataframe\">\n",
       "  <thead>\n",
       "    <tr style=\"text-align: right;\">\n",
       "      <th></th>\n",
       "      <th>Метрика</th>\n",
       "      <th>Смарт</th>\n",
       "      <th>Ультра</th>\n",
       "    </tr>\n",
       "  </thead>\n",
       "  <tbody>\n",
       "    <tr>\n",
       "      <td>0</td>\n",
       "      <td>Дисперсия</td>\n",
       "      <td>33640433.4</td>\n",
       "      <td>92894751.9</td>\n",
       "    </tr>\n",
       "    <tr>\n",
       "      <td>1</td>\n",
       "      <td>Стандартное отклонение</td>\n",
       "      <td>5800.04</td>\n",
       "      <td>9638.19</td>\n",
       "    </tr>\n",
       "  </tbody>\n",
       "</table>\n",
       "</div>"
      ],
      "text/plain": [
       "                  Метрика       Смарт      Ультра\n",
       "0               Дисперсия  33640433.4  92894751.9\n",
       "1  Стандартное отклонение     5800.04     9638.19"
      ]
     },
     "execution_count": 211,
     "metadata": {},
     "output_type": "execute_result"
    }
   ],
   "source": [
    "s2=smart_var2**0.5 #считаю стандартное отклонение\n",
    "u2=ultra_var2**0.5\n",
    "data2={'Метрика':['Дисперсия','Стандартное отклонение'],'Смарт':['33640433.4',s2],'Ультра':['92894751.9',u2]}\n",
    "df2 = pd.DataFrame(data2)\n",
    "df2"
   ]
  },
  {
   "cell_type": "markdown",
   "metadata": {},
   "source": [
    "# Проверяем гипотезы"
   ]
  },
  {
   "cell_type": "markdown",
   "metadata": {},
   "source": [
    "#### Cредняя выручка пользователей тарифов «Ультра» и «Смарт» различается"
   ]
  },
  {
   "cell_type": "markdown",
   "metadata": {},
   "source": [
    "H0 (нулевая гипотеза) - средняя выручка пользователей тарифа Смарт не отличается от средней выручки пользователей тарифа Ультра\n",
    "\n",
    "Н1 (альтернативная гипотеза) - средняя выручка пользователей тарифа Смарт отличается от средней выручки пользователей тарифа Ультра."
   ]
  },
  {
   "cell_type": "code",
   "execution_count": 212,
   "metadata": {},
   "outputs": [
    {
     "name": "stdout",
     "output_type": "stream",
     "text": [
      "p-значение: 7.8999704774515e-118\n",
      "Отвергаем нулевую гипотезу\n"
     ]
    }
   ],
   "source": [
    "alpha = .05 #пороговое значение в 5%\n",
    "\n",
    "results = st.ttest_ind(                     #выборки независимые, поэтому использую ttest_ind\n",
    "    tarif_smart['Плата за месяц,руб'], \n",
    "    tarif_ultra['Плата за месяц,руб'])\n",
    "\n",
    "print('p-значение:', results.pvalue)\n",
    "\n",
    "if (results.pvalue < alpha):\n",
    "    print('Отвергаем нулевую гипотезу')\n",
    "else:\n",
    "    print('Не получилось отвергнуть нулевую гипотезу')"
   ]
  },
  {
   "cell_type": "markdown",
   "metadata": {},
   "source": [
    "Cредняя выручка пользователей тарифов \"Ультра\" и \"Смарт\" действительно различается и наша гипотеза подтвердилась."
   ]
  },
  {
   "cell_type": "markdown",
   "metadata": {},
   "source": [
    "#### Средняя выручка пользователей из Москвы отличается от выручки пользователей из других регионов"
   ]
  },
  {
   "cell_type": "markdown",
   "metadata": {},
   "source": [
    "H0 (нулевая гипотеза) - средняя выручка пользователей из Москвы не отличается от выручки пользователей из других регионов.\n",
    "\n",
    "Н1 (альтернативная гипотеза) - средняя выручка пользователей из Москвы равна средней выручки пользователей из других регионов."
   ]
  },
  {
   "cell_type": "code",
   "execution_count": 213,
   "metadata": {},
   "outputs": [
    {
     "name": "stdout",
     "output_type": "stream",
     "text": [
      "р-значение: 0.12342138090776787\n",
      "Не получилось отвергнуть нулевую гипотезу\n"
     ]
    }
   ],
   "source": [
    "msk = new3.query('Город == \"Москва\"')['Плата за месяц,руб']\n",
    "region = new3.query('Город != \"Москва\"')['Плата за месяц,руб']\n",
    "               \n",
    "alpha = .05 #пороговое значение в 5%\n",
    "\n",
    "results = st.ttest_ind(msk,region)     #выборки независимые, поэтому использую ttest_ind\n",
    "print('р-значение:', results.pvalue)\n",
    "                    \n",
    "if (results.pvalue < alpha):\n",
    "    print('Отвергаем нулевую гипотезу')\n",
    "else:\n",
    "    print('Не получилось отвергнуть нулевую гипотезу')                    "
   ]
  },
  {
   "cell_type": "markdown",
   "metadata": {},
   "source": [
    "# Общий вывод"
   ]
  },
  {
   "cell_type": "markdown",
   "metadata": {},
   "source": [
    "Из двух гипотез подтвердилась только первая - \"Cредняя выручка пользователей тарифов «Ультра» и «Смарт» различается\""
   ]
  },
  {
   "cell_type": "markdown",
   "metadata": {},
   "source": [
    "Тариф Смарт приносит 62% выручки, а Ультра 38%\n",
    "Таким образом есть дешевый тариф Смарт за 550 рублей, где пользователю не хватает интернета и количество использованных минут разговора на грани лимита.Среднему пользователю не хватает 2 Гб интернета и ему приходится дозаказывать эти 2 Гб и доплачивать за них 400 рублей, и есть тариф Ультра, стоимостью 1950 рублей, где лимитов по всем типам связи достаточно, но иногда дозаказывают в среднем 1 Гб интернета за 150 рублей."
   ]
  },
  {
   "cell_type": "code",
   "execution_count": null,
   "metadata": {},
   "outputs": [],
   "source": []
  }
 ],
 "metadata": {
  "kernelspec": {
   "display_name": "Python 3",
   "language": "python",
   "name": "python3"
  },
  "language_info": {
   "codemirror_mode": {
    "name": "ipython",
    "version": 3
   },
   "file_extension": ".py",
   "mimetype": "text/x-python",
   "name": "python",
   "nbconvert_exporter": "python",
   "pygments_lexer": "ipython3",
   "version": "3.7.6"
  }
 },
 "nbformat": 4,
 "nbformat_minor": 2
}
