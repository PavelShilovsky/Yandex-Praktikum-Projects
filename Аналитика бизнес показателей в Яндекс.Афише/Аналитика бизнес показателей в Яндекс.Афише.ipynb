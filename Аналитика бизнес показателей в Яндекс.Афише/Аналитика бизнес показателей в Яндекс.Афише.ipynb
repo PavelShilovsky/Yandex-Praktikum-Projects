{
 "cells": [
  {
   "cell_type": "markdown",
   "metadata": {},
   "source": [
    "# Аналитика в Яндекс.Афише"
   ]
  },
  {
   "cell_type": "markdown",
   "metadata": {},
   "source": [
    "###   Необходимо оптимизировать маркетинговые затраты. Для этого проанализируем данные, посмторим отчеты, посчитаем метрики и посторим графики."
   ]
  },
  {
   "cell_type": "markdown",
   "metadata": {},
   "source": [
    "Загружаем библиотеки"
   ]
  },
  {
   "cell_type": "code",
   "execution_count": 1,
   "metadata": {},
   "outputs": [],
   "source": [
    "import pandas as pd\n",
    "import matplotlib.pyplot as plt\n",
    "import numpy as np\n",
    "import seaborn as sns"
   ]
  },
  {
   "cell_type": "markdown",
   "metadata": {},
   "source": [
    "1. [Прочитаем датасеты, проверим данные на пропуски и дупликаты, посмотрим тип данных](#step1)\n",
    "\n",
    "\n",
    "2. [Продукт](#step2)\n",
    "  \n",
    "  2.1.[Посчитаем метрики](#step2.1)\n",
    "   \n",
    "   2.2.[Посчитаем Retention rate](#step2.2)\n",
    "   \n",
    "   2.3.[Вывод](#step2.3)\n",
    "\n",
    "\n",
    "3. [Продажи](#step3)\n",
    "\n",
    "  3.1 [Когда люди начинают покупать?](#step3.1)\n",
    "  \n",
    "  3.2 [Сколько раз покупают за период?](#step3.2)\n",
    "  \n",
    "  3.3 [Какой средний чек?](#step3.3)\n",
    "  \n",
    "  3.4 [Сколько денег приносят? (LTV)](#step3.4)\n",
    "  \n",
    "  3.5 [Вывод](#step3.5)\n",
    "  \n",
    "\n",
    "4. [Маркетинг](#step4)\n",
    "\n",
    "  4.1 [Сколько денег потратили? Всего / на каждый источник / по времени](#step4.1)\n",
    "  \n",
    "  4.2 [Сколько стоило привлечение одного покупателя из каждого источника?](#step4.2)\n",
    "  \n",
    "  4.3 [На сколько окупились расходы? (ROI)](#step4.3)\n",
    "  \n",
    "  4.4 [Вывод](#step4.3)\n",
    "  \n",
    "\n",
    "5. [Общий вывод](#step5)"
   ]
  },
  {
   "cell_type": "markdown",
   "metadata": {},
   "source": [
    "####  1. Прочитаем датасеты, проверим данные на пропуски и дупликаты, посмотрим тип данных  <a id=\"step1\"></a>   "
   ]
  },
  {
   "cell_type": "code",
   "execution_count": 2,
   "metadata": {},
   "outputs": [
    {
     "data": {
      "text/html": [
       "<div>\n",
       "<style scoped>\n",
       "    .dataframe tbody tr th:only-of-type {\n",
       "        vertical-align: middle;\n",
       "    }\n",
       "\n",
       "    .dataframe tbody tr th {\n",
       "        vertical-align: top;\n",
       "    }\n",
       "\n",
       "    .dataframe thead th {\n",
       "        text-align: right;\n",
       "    }\n",
       "</style>\n",
       "<table border=\"1\" class=\"dataframe\">\n",
       "  <thead>\n",
       "    <tr style=\"text-align: right;\">\n",
       "      <th></th>\n",
       "      <th>Device</th>\n",
       "      <th>End Ts</th>\n",
       "      <th>Source Id</th>\n",
       "      <th>Start Ts</th>\n",
       "      <th>Uid</th>\n",
       "    </tr>\n",
       "  </thead>\n",
       "  <tbody>\n",
       "    <tr>\n",
       "      <td>0</td>\n",
       "      <td>touch</td>\n",
       "      <td>2017-12-20 17:38:00</td>\n",
       "      <td>4</td>\n",
       "      <td>2017-12-20 17:20:00</td>\n",
       "      <td>16879256277535980062</td>\n",
       "    </tr>\n",
       "    <tr>\n",
       "      <td>1</td>\n",
       "      <td>desktop</td>\n",
       "      <td>2018-02-19 17:21:00</td>\n",
       "      <td>2</td>\n",
       "      <td>2018-02-19 16:53:00</td>\n",
       "      <td>104060357244891740</td>\n",
       "    </tr>\n",
       "    <tr>\n",
       "      <td>2</td>\n",
       "      <td>touch</td>\n",
       "      <td>2017-07-01 01:54:00</td>\n",
       "      <td>5</td>\n",
       "      <td>2017-07-01 01:54:00</td>\n",
       "      <td>7459035603376831527</td>\n",
       "    </tr>\n",
       "    <tr>\n",
       "      <td>3</td>\n",
       "      <td>desktop</td>\n",
       "      <td>2018-05-20 11:23:00</td>\n",
       "      <td>9</td>\n",
       "      <td>2018-05-20 10:59:00</td>\n",
       "      <td>16174680259334210214</td>\n",
       "    </tr>\n",
       "    <tr>\n",
       "      <td>4</td>\n",
       "      <td>desktop</td>\n",
       "      <td>2017-12-27 14:06:00</td>\n",
       "      <td>3</td>\n",
       "      <td>2017-12-27 14:06:00</td>\n",
       "      <td>9969694820036681168</td>\n",
       "    </tr>\n",
       "  </tbody>\n",
       "</table>\n",
       "</div>"
      ],
      "text/plain": [
       "    Device               End Ts  Source Id             Start Ts  \\\n",
       "0    touch  2017-12-20 17:38:00          4  2017-12-20 17:20:00   \n",
       "1  desktop  2018-02-19 17:21:00          2  2018-02-19 16:53:00   \n",
       "2    touch  2017-07-01 01:54:00          5  2017-07-01 01:54:00   \n",
       "3  desktop  2018-05-20 11:23:00          9  2018-05-20 10:59:00   \n",
       "4  desktop  2017-12-27 14:06:00          3  2017-12-27 14:06:00   \n",
       "\n",
       "                    Uid  \n",
       "0  16879256277535980062  \n",
       "1    104060357244891740  \n",
       "2   7459035603376831527  \n",
       "3  16174680259334210214  \n",
       "4   9969694820036681168  "
      ]
     },
     "execution_count": 2,
     "metadata": {},
     "output_type": "execute_result"
    }
   ],
   "source": [
    "visits = pd.read_csv('/datasets/visits_log.csv')\n",
    "orders = pd.read_csv('/datasets/orders_log.csv')\n",
    "costs = pd.read_csv('/datasets/costs.csv')\n",
    "\n",
    "visits.head()"
   ]
  },
  {
   "cell_type": "code",
   "execution_count": 3,
   "metadata": {},
   "outputs": [
    {
     "name": "stdout",
     "output_type": "stream",
     "text": [
      "<class 'pandas.core.frame.DataFrame'>\n",
      "RangeIndex: 359400 entries, 0 to 359399\n",
      "Data columns (total 5 columns):\n",
      "Device       359400 non-null object\n",
      "End Ts       359400 non-null object\n",
      "Source Id    359400 non-null int64\n",
      "Start Ts     359400 non-null object\n",
      "Uid          359400 non-null uint64\n",
      "dtypes: int64(1), object(3), uint64(1)\n",
      "memory usage: 13.7+ MB\n"
     ]
    },
    {
     "data": {
      "text/plain": [
       "0"
      ]
     },
     "execution_count": 3,
     "metadata": {},
     "output_type": "execute_result"
    }
   ],
   "source": [
    "visits.info()\n",
    "visits.duplicated().sum()"
   ]
  },
  {
   "cell_type": "markdown",
   "metadata": {},
   "source": [
    "В датафрейме visits в данных нет пропусков и дупликатов.\n",
    "Столбцы start_ts и end_ts имеют тип object, надо перевести их в дату."
   ]
  },
  {
   "cell_type": "code",
   "execution_count": 4,
   "metadata": {},
   "outputs": [
    {
     "name": "stdout",
     "output_type": "stream",
     "text": [
      "<class 'pandas.core.frame.DataFrame'>\n",
      "RangeIndex: 50415 entries, 0 to 50414\n",
      "Data columns (total 3 columns):\n",
      "Buy Ts     50415 non-null object\n",
      "Revenue    50415 non-null float64\n",
      "Uid        50415 non-null uint64\n",
      "dtypes: float64(1), object(1), uint64(1)\n",
      "memory usage: 1.2+ MB\n"
     ]
    },
    {
     "data": {
      "text/plain": [
       "0"
      ]
     },
     "execution_count": 4,
     "metadata": {},
     "output_type": "execute_result"
    }
   ],
   "source": [
    "orders.info()\n",
    "orders.duplicated().sum()"
   ]
  },
  {
   "cell_type": "markdown",
   "metadata": {},
   "source": [
    "В датафрейме orders в данных нет пропусков и дупликатов. Столбец Buy Ts имеет тип object, надо перевести его в дату."
   ]
  },
  {
   "cell_type": "code",
   "execution_count": 5,
   "metadata": {},
   "outputs": [
    {
     "name": "stdout",
     "output_type": "stream",
     "text": [
      "<class 'pandas.core.frame.DataFrame'>\n",
      "RangeIndex: 2542 entries, 0 to 2541\n",
      "Data columns (total 3 columns):\n",
      "source_id    2542 non-null int64\n",
      "dt           2542 non-null object\n",
      "costs        2542 non-null float64\n",
      "dtypes: float64(1), int64(1), object(1)\n",
      "memory usage: 59.7+ KB\n"
     ]
    },
    {
     "data": {
      "text/plain": [
       "0"
      ]
     },
     "execution_count": 5,
     "metadata": {},
     "output_type": "execute_result"
    }
   ],
   "source": [
    "costs.info()\n",
    "costs.duplicated().sum()"
   ]
  },
  {
   "cell_type": "markdown",
   "metadata": {},
   "source": [
    "В датафрейме costs в данных нет пропусков и дупликатов. Столбец dt имеет тип object, надо перевести его в дату."
   ]
  },
  {
   "cell_type": "markdown",
   "metadata": {},
   "source": [
    "Изменим тип данных в датафреймах "
   ]
  },
  {
   "cell_type": "markdown",
   "metadata": {},
   "source": [
    "visits"
   ]
  },
  {
   "cell_type": "code",
   "execution_count": 6,
   "metadata": {},
   "outputs": [
    {
     "name": "stdout",
     "output_type": "stream",
     "text": [
      "<class 'pandas.core.frame.DataFrame'>\n",
      "RangeIndex: 359400 entries, 0 to 359399\n",
      "Data columns (total 5 columns):\n",
      "device       359400 non-null object\n",
      "end_ts       359400 non-null datetime64[ns]\n",
      "source_id    359400 non-null int64\n",
      "start_ts     359400 non-null datetime64[ns]\n",
      "uid          359400 non-null uint64\n",
      "dtypes: datetime64[ns](2), int64(1), object(1), uint64(1)\n",
      "memory usage: 13.7+ MB\n"
     ]
    }
   ],
   "source": [
    "visits.columns = visits.columns.str.lower() #приводим название столбцов к нижнему регистру\n",
    "visits = visits.rename(columns={'end ts': 'end_ts', 'start ts': 'start_ts', 'source id': 'source_id'}) #заменим пробелы в названиях столбцов на подчеркивания\n",
    "\n",
    "visits['start_ts']=pd.to_datetime(visits['start_ts'])\n",
    "visits['end_ts']=pd.to_datetime(visits['end_ts'])\n",
    "\n",
    "visits.info()\n"
   ]
  },
  {
   "cell_type": "markdown",
   "metadata": {},
   "source": [
    "orders"
   ]
  },
  {
   "cell_type": "code",
   "execution_count": 7,
   "metadata": {},
   "outputs": [
    {
     "name": "stdout",
     "output_type": "stream",
     "text": [
      "<class 'pandas.core.frame.DataFrame'>\n",
      "RangeIndex: 50415 entries, 0 to 50414\n",
      "Data columns (total 3 columns):\n",
      "buy_ts     50415 non-null datetime64[ns]\n",
      "revenue    50415 non-null float64\n",
      "uid        50415 non-null uint64\n",
      "dtypes: datetime64[ns](1), float64(1), uint64(1)\n",
      "memory usage: 1.2 MB\n"
     ]
    }
   ],
   "source": [
    "orders = orders.rename(columns={'Buy Ts':'buy_ts'})\n",
    "orders.columns = orders.columns.str.lower()\n",
    "\n",
    "orders['buy_ts'] = pd.to_datetime(orders['buy_ts'])\n",
    "\n",
    "orders.info()"
   ]
  },
  {
   "cell_type": "markdown",
   "metadata": {},
   "source": [
    "costs"
   ]
  },
  {
   "cell_type": "code",
   "execution_count": 8,
   "metadata": {},
   "outputs": [
    {
     "name": "stdout",
     "output_type": "stream",
     "text": [
      "<class 'pandas.core.frame.DataFrame'>\n",
      "RangeIndex: 2542 entries, 0 to 2541\n",
      "Data columns (total 3 columns):\n",
      "source_id    2542 non-null int64\n",
      "date         2542 non-null datetime64[ns]\n",
      "costs        2542 non-null float64\n",
      "dtypes: datetime64[ns](1), float64(1), int64(1)\n",
      "memory usage: 59.7 KB\n"
     ]
    }
   ],
   "source": [
    "costs.head()\n",
    "costs = costs.rename(columns={'dt':'date'}) #поменяем название столбца на date\n",
    "costs['date'] = pd.to_datetime(costs['date'])\n",
    "costs.info()"
   ]
  },
  {
   "cell_type": "markdown",
   "metadata": {},
   "source": [
    "### 2. Продукт <a id=\"step2\"></a>  "
   ]
  },
  {
   "cell_type": "markdown",
   "metadata": {},
   "source": [
    "Чтобы узнать - Сколько людей пользуются в день, неделю, месяц? Сколько сессий в день? Сколько длится одна сессия? Как часто люди возвращаются? - обратимся в датафрейму visits"
   ]
  },
  {
   "cell_type": "code",
   "execution_count": 9,
   "metadata": {},
   "outputs": [
    {
     "data": {
      "text/html": [
       "<div>\n",
       "<style scoped>\n",
       "    .dataframe tbody tr th:only-of-type {\n",
       "        vertical-align: middle;\n",
       "    }\n",
       "\n",
       "    .dataframe tbody tr th {\n",
       "        vertical-align: top;\n",
       "    }\n",
       "\n",
       "    .dataframe thead th {\n",
       "        text-align: right;\n",
       "    }\n",
       "</style>\n",
       "<table border=\"1\" class=\"dataframe\">\n",
       "  <thead>\n",
       "    <tr style=\"text-align: right;\">\n",
       "      <th></th>\n",
       "      <th>device</th>\n",
       "      <th>end_ts</th>\n",
       "      <th>source_id</th>\n",
       "      <th>start_ts</th>\n",
       "      <th>uid</th>\n",
       "    </tr>\n",
       "  </thead>\n",
       "  <tbody>\n",
       "    <tr>\n",
       "      <td>0</td>\n",
       "      <td>touch</td>\n",
       "      <td>2017-12-20 17:38:00</td>\n",
       "      <td>4</td>\n",
       "      <td>2017-12-20 17:20:00</td>\n",
       "      <td>16879256277535980062</td>\n",
       "    </tr>\n",
       "    <tr>\n",
       "      <td>1</td>\n",
       "      <td>desktop</td>\n",
       "      <td>2018-02-19 17:21:00</td>\n",
       "      <td>2</td>\n",
       "      <td>2018-02-19 16:53:00</td>\n",
       "      <td>104060357244891740</td>\n",
       "    </tr>\n",
       "    <tr>\n",
       "      <td>2</td>\n",
       "      <td>touch</td>\n",
       "      <td>2017-07-01 01:54:00</td>\n",
       "      <td>5</td>\n",
       "      <td>2017-07-01 01:54:00</td>\n",
       "      <td>7459035603376831527</td>\n",
       "    </tr>\n",
       "    <tr>\n",
       "      <td>3</td>\n",
       "      <td>desktop</td>\n",
       "      <td>2018-05-20 11:23:00</td>\n",
       "      <td>9</td>\n",
       "      <td>2018-05-20 10:59:00</td>\n",
       "      <td>16174680259334210214</td>\n",
       "    </tr>\n",
       "    <tr>\n",
       "      <td>4</td>\n",
       "      <td>desktop</td>\n",
       "      <td>2017-12-27 14:06:00</td>\n",
       "      <td>3</td>\n",
       "      <td>2017-12-27 14:06:00</td>\n",
       "      <td>9969694820036681168</td>\n",
       "    </tr>\n",
       "  </tbody>\n",
       "</table>\n",
       "</div>"
      ],
      "text/plain": [
       "    device              end_ts  source_id            start_ts  \\\n",
       "0    touch 2017-12-20 17:38:00          4 2017-12-20 17:20:00   \n",
       "1  desktop 2018-02-19 17:21:00          2 2018-02-19 16:53:00   \n",
       "2    touch 2017-07-01 01:54:00          5 2017-07-01 01:54:00   \n",
       "3  desktop 2018-05-20 11:23:00          9 2018-05-20 10:59:00   \n",
       "4  desktop 2017-12-27 14:06:00          3 2017-12-27 14:06:00   \n",
       "\n",
       "                    uid  \n",
       "0  16879256277535980062  \n",
       "1    104060357244891740  \n",
       "2   7459035603376831527  \n",
       "3  16174680259334210214  \n",
       "4   9969694820036681168  "
      ]
     },
     "execution_count": 9,
     "metadata": {},
     "output_type": "execute_result"
    }
   ],
   "source": [
    "visits.head()"
   ]
  },
  {
   "cell_type": "markdown",
   "metadata": {},
   "source": [
    "Добавим столбцы с датой сессии, номером недели, номером месяца, продолжительностью сессии в секундах"
   ]
  },
  {
   "cell_type": "code",
   "execution_count": 10,
   "metadata": {},
   "outputs": [
    {
     "data": {
      "text/html": [
       "<div>\n",
       "<style scoped>\n",
       "    .dataframe tbody tr th:only-of-type {\n",
       "        vertical-align: middle;\n",
       "    }\n",
       "\n",
       "    .dataframe tbody tr th {\n",
       "        vertical-align: top;\n",
       "    }\n",
       "\n",
       "    .dataframe thead th {\n",
       "        text-align: right;\n",
       "    }\n",
       "</style>\n",
       "<table border=\"1\" class=\"dataframe\">\n",
       "  <thead>\n",
       "    <tr style=\"text-align: right;\">\n",
       "      <th></th>\n",
       "      <th>device</th>\n",
       "      <th>end_ts</th>\n",
       "      <th>source_id</th>\n",
       "      <th>start_ts</th>\n",
       "      <th>uid</th>\n",
       "      <th>session_date</th>\n",
       "      <th>session_week</th>\n",
       "      <th>session_month</th>\n",
       "      <th>session_year</th>\n",
       "      <th>session_duration</th>\n",
       "    </tr>\n",
       "  </thead>\n",
       "  <tbody>\n",
       "    <tr>\n",
       "      <td>0</td>\n",
       "      <td>touch</td>\n",
       "      <td>2017-12-20 17:38:00</td>\n",
       "      <td>4</td>\n",
       "      <td>2017-12-20 17:20:00</td>\n",
       "      <td>16879256277535980062</td>\n",
       "      <td>2017-12-20</td>\n",
       "      <td>51</td>\n",
       "      <td>12</td>\n",
       "      <td>2017</td>\n",
       "      <td>18</td>\n",
       "    </tr>\n",
       "    <tr>\n",
       "      <td>1</td>\n",
       "      <td>desktop</td>\n",
       "      <td>2018-02-19 17:21:00</td>\n",
       "      <td>2</td>\n",
       "      <td>2018-02-19 16:53:00</td>\n",
       "      <td>104060357244891740</td>\n",
       "      <td>2018-02-19</td>\n",
       "      <td>8</td>\n",
       "      <td>2</td>\n",
       "      <td>2018</td>\n",
       "      <td>28</td>\n",
       "    </tr>\n",
       "    <tr>\n",
       "      <td>2</td>\n",
       "      <td>touch</td>\n",
       "      <td>2017-07-01 01:54:00</td>\n",
       "      <td>5</td>\n",
       "      <td>2017-07-01 01:54:00</td>\n",
       "      <td>7459035603376831527</td>\n",
       "      <td>2017-07-01</td>\n",
       "      <td>26</td>\n",
       "      <td>7</td>\n",
       "      <td>2017</td>\n",
       "      <td>0</td>\n",
       "    </tr>\n",
       "    <tr>\n",
       "      <td>3</td>\n",
       "      <td>desktop</td>\n",
       "      <td>2018-05-20 11:23:00</td>\n",
       "      <td>9</td>\n",
       "      <td>2018-05-20 10:59:00</td>\n",
       "      <td>16174680259334210214</td>\n",
       "      <td>2018-05-20</td>\n",
       "      <td>20</td>\n",
       "      <td>5</td>\n",
       "      <td>2018</td>\n",
       "      <td>24</td>\n",
       "    </tr>\n",
       "    <tr>\n",
       "      <td>4</td>\n",
       "      <td>desktop</td>\n",
       "      <td>2017-12-27 14:06:00</td>\n",
       "      <td>3</td>\n",
       "      <td>2017-12-27 14:06:00</td>\n",
       "      <td>9969694820036681168</td>\n",
       "      <td>2017-12-27</td>\n",
       "      <td>52</td>\n",
       "      <td>12</td>\n",
       "      <td>2017</td>\n",
       "      <td>0</td>\n",
       "    </tr>\n",
       "  </tbody>\n",
       "</table>\n",
       "</div>"
      ],
      "text/plain": [
       "    device              end_ts  source_id            start_ts  \\\n",
       "0    touch 2017-12-20 17:38:00          4 2017-12-20 17:20:00   \n",
       "1  desktop 2018-02-19 17:21:00          2 2018-02-19 16:53:00   \n",
       "2    touch 2017-07-01 01:54:00          5 2017-07-01 01:54:00   \n",
       "3  desktop 2018-05-20 11:23:00          9 2018-05-20 10:59:00   \n",
       "4  desktop 2017-12-27 14:06:00          3 2017-12-27 14:06:00   \n",
       "\n",
       "                    uid session_date  session_week  session_month  \\\n",
       "0  16879256277535980062   2017-12-20            51             12   \n",
       "1    104060357244891740   2018-02-19             8              2   \n",
       "2   7459035603376831527   2017-07-01            26              7   \n",
       "3  16174680259334210214   2018-05-20            20              5   \n",
       "4   9969694820036681168   2017-12-27            52             12   \n",
       "\n",
       "   session_year  session_duration  \n",
       "0          2017                18  \n",
       "1          2018                28  \n",
       "2          2017                 0  \n",
       "3          2018                24  \n",
       "4          2017                 0  "
      ]
     },
     "execution_count": 10,
     "metadata": {},
     "output_type": "execute_result"
    }
   ],
   "source": [
    "visits['session_date'] = visits['start_ts'].dt.date\n",
    "visits['session_week'] = visits['start_ts'].dt.week\n",
    "visits['session_month'] = visits['start_ts'].dt.month\n",
    "visits['session_year'] = visits['start_ts'].dt.year\n",
    "visits['session_duration'] = visits['end_ts'] - visits['start_ts']\n",
    "visits['session_duration'] = visits['session_duration'].dt.seconds / 60 #продолжительность сессии в минутах\n",
    "visits['session_duration'] = visits['session_duration'].astype('int')\n",
    "\n",
    "visits.head()"
   ]
  },
  {
   "cell_type": "markdown",
   "metadata": {},
   "source": [
    "Посчитаем метрики DAU, WAU, MAU, ASL <a id=\"step2.1\"></a>  "
   ]
  },
  {
   "cell_type": "code",
   "execution_count": 11,
   "metadata": {},
   "outputs": [
    {
     "name": "stdout",
     "output_type": "stream",
     "text": [
      "в среднем пользователей в день 907\n",
      "в среднем пользователей в неделю 4911\n",
      "в среднем пользователей в месяц 23228\n",
      "в среднем в день 987 сессий\n"
     ]
    }
   ],
   "source": [
    "#Сколько людей пользуются в день\n",
    "DAU = visits.groupby('session_date').agg({'uid': 'nunique'}).mean()\n",
    "#Сколько людей пользуются в неделю\n",
    "WAU = visits.groupby(['session_week','session_month','session_year']).agg({'uid': 'nunique'}).mean()\n",
    "#Сколько людей пользуются в месяц\n",
    "MAU =  visits.groupby(['session_month','session_year']).agg({'uid': 'nunique'}).mean()\n",
    "#Cколько сессий в день \n",
    "SPD = visits.groupby('session_date').agg({'uid': 'count'}).mean()\n",
    "\n",
    "print('в среднем пользователей в день', int(DAU))\n",
    "print('в среднем пользователей в неделю',int(WAU))\n",
    "print('в среднем пользователей в месяц',int(MAU))\n",
    "print('в среднем в день',int(SPD),'сессий')"
   ]
  },
  {
   "cell_type": "markdown",
   "metadata": {},
   "source": [
    "<font color=\"blue\"> для WAU и MAU добавил группировку по году и месяцу </font> "
   ]
  },
  {
   "cell_type": "code",
   "execution_count": 12,
   "metadata": {},
   "outputs": [
    {
     "name": "stdout",
     "output_type": "stream",
     "text": [
      "средняя продолжительность сессии 1 минута\n"
     ]
    },
    {
     "data": {
      "image/png": "[encoded data removed]",
      "text/plain": [
       "<Figure size 432x288 with 1 Axes>"
      ]
     },
     "metadata": {
      "needs_background": "light"
     },
     "output_type": "display_data"
    }
   ],
   "source": [
    "#Cколько длится одна сессия\n",
    "visits['session_duration'].hist(bins=50)\n",
    "plt.title('Продолжительность сессии')\n",
    "plt.xlabel('Время')\n",
    "plt.ylabel('Количество сессий')\n",
    "ASL = visits['session_duration'].mode()\n",
    "print('средняя продолжительность сессии',int(ASL), 'минута')"
   ]
  },
  {
   "cell_type": "markdown",
   "metadata": {},
   "source": [
    "Посмотрим сколько сессий приходится на одного пользователя"
   ]
  },
  {
   "cell_type": "code",
   "execution_count": 13,
   "metadata": {},
   "outputs": [
    {
     "data": {
      "text/html": [
       "<div>\n",
       "<style scoped>\n",
       "    .dataframe tbody tr th:only-of-type {\n",
       "        vertical-align: middle;\n",
       "    }\n",
       "\n",
       "    .dataframe tbody tr th {\n",
       "        vertical-align: top;\n",
       "    }\n",
       "\n",
       "    .dataframe thead th {\n",
       "        text-align: right;\n",
       "    }\n",
       "</style>\n",
       "<table border=\"1\" class=\"dataframe\">\n",
       "  <thead>\n",
       "    <tr style=\"text-align: right;\">\n",
       "      <th></th>\n",
       "      <th>n_sessions</th>\n",
       "      <th>n_users</th>\n",
       "      <th>session_per_user</th>\n",
       "    </tr>\n",
       "    <tr>\n",
       "      <th>session_month</th>\n",
       "      <th></th>\n",
       "      <th></th>\n",
       "      <th></th>\n",
       "    </tr>\n",
       "  </thead>\n",
       "  <tbody>\n",
       "    <tr>\n",
       "      <td>1</td>\n",
       "      <td>36939</td>\n",
       "      <td>28716</td>\n",
       "      <td>1.286356</td>\n",
       "    </tr>\n",
       "    <tr>\n",
       "      <td>2</td>\n",
       "      <td>37182</td>\n",
       "      <td>28749</td>\n",
       "      <td>1.293332</td>\n",
       "    </tr>\n",
       "    <tr>\n",
       "      <td>3</td>\n",
       "      <td>35679</td>\n",
       "      <td>27473</td>\n",
       "      <td>1.298693</td>\n",
       "    </tr>\n",
       "    <tr>\n",
       "      <td>4</td>\n",
       "      <td>26515</td>\n",
       "      <td>21008</td>\n",
       "      <td>1.262138</td>\n",
       "    </tr>\n",
       "    <tr>\n",
       "      <td>5</td>\n",
       "      <td>26635</td>\n",
       "      <td>20701</td>\n",
       "      <td>1.286653</td>\n",
       "    </tr>\n",
       "    <tr>\n",
       "      <td>6</td>\n",
       "      <td>16505</td>\n",
       "      <td>13259</td>\n",
       "      <td>1.244815</td>\n",
       "    </tr>\n",
       "    <tr>\n",
       "      <td>7</td>\n",
       "      <td>17828</td>\n",
       "      <td>14183</td>\n",
       "      <td>1.256998</td>\n",
       "    </tr>\n",
       "    <tr>\n",
       "      <td>8</td>\n",
       "      <td>14355</td>\n",
       "      <td>11631</td>\n",
       "      <td>1.234202</td>\n",
       "    </tr>\n",
       "    <tr>\n",
       "      <td>9</td>\n",
       "      <td>23907</td>\n",
       "      <td>18975</td>\n",
       "      <td>1.259921</td>\n",
       "    </tr>\n",
       "    <tr>\n",
       "      <td>10</td>\n",
       "      <td>37903</td>\n",
       "      <td>29692</td>\n",
       "      <td>1.276539</td>\n",
       "    </tr>\n",
       "    <tr>\n",
       "      <td>11</td>\n",
       "      <td>43969</td>\n",
       "      <td>32797</td>\n",
       "      <td>1.340641</td>\n",
       "    </tr>\n",
       "    <tr>\n",
       "      <td>12</td>\n",
       "      <td>41983</td>\n",
       "      <td>31557</td>\n",
       "      <td>1.330386</td>\n",
       "    </tr>\n",
       "  </tbody>\n",
       "</table>\n",
       "</div>"
      ],
      "text/plain": [
       "               n_sessions  n_users  session_per_user\n",
       "session_month                                       \n",
       "1                   36939    28716          1.286356\n",
       "2                   37182    28749          1.293332\n",
       "3                   35679    27473          1.298693\n",
       "4                   26515    21008          1.262138\n",
       "5                   26635    20701          1.286653\n",
       "6                   16505    13259          1.244815\n",
       "7                   17828    14183          1.256998\n",
       "8                   14355    11631          1.234202\n",
       "9                   23907    18975          1.259921\n",
       "10                  37903    29692          1.276539\n",
       "11                  43969    32797          1.340641\n",
       "12                  41983    31557          1.330386"
      ]
     },
     "execution_count": 13,
     "metadata": {},
     "output_type": "execute_result"
    }
   ],
   "source": [
    "users_sessions = visits.groupby('session_month').agg({'uid':['count','nunique']})\n",
    "users_sessions.columns = ['n_sessions','n_users']\n",
    "users_sessions['session_per_user'] = users_sessions['n_sessions'] / users_sessions['n_users']\n",
    "users_sessions"
   ]
  },
  {
   "cell_type": "code",
   "execution_count": 14,
   "metadata": {},
   "outputs": [
    {
     "data": {
      "image/png": "[encoded data removed]",
      "text/plain": [
       "<Figure size 1080x360 with 1 Axes>"
      ]
     },
     "metadata": {
      "needs_background": "light"
     },
     "output_type": "display_data"
    }
   ],
   "source": [
    "users_sessions['session_per_user'].plot(figsize=(15,5))\n",
    "plt.xlabel('Месяц')\n",
    "plt.ylabel('Количество сессий')\n",
    "plt.title('График количества сессий на одного пользователя в месяц')\n",
    "plt.show()"
   ]
  },
  {
   "cell_type": "markdown",
   "metadata": {},
   "source": [
    "В месяц один рользователь заходит в приложение меньше двух раз. Что довольно мало"
   ]
  },
  {
   "cell_type": "code",
   "execution_count": 15,
   "metadata": {},
   "outputs": [
    {
     "name": "stdout",
     "output_type": "stream",
     "text": [
      "18 % пользователей недельной аудитории повторно пользовались приложением\n",
      "3 % пользователей месячной аудитории повторно пользовались приложением\n"
     ]
    }
   ],
   "source": [
    "#Регулярность использования приложения\n",
    "sticky_wau = DAU / WAU * 100\n",
    "sticky_mau = DAU / MAU * 100\n",
    "print(int(sticky_wau),'% пользователей недельной аудитории повторно пользовались приложением')\n",
    "print(int(sticky_mau),'% пользователей месячной аудитории повторно пользовались приложением')"
   ]
  },
  {
   "cell_type": "markdown",
   "metadata": {},
   "source": [
    "Построим график с количеством визитов для разных устройств"
   ]
  },
  {
   "cell_type": "code",
   "execution_count": 16,
   "metadata": {},
   "outputs": [
    {
     "data": {
      "image/png": "[encoded data removed]",
      "text/plain": [
       "<Figure size 1080x360 with 1 Axes>"
      ]
     },
     "metadata": {
      "needs_background": "light"
     },
     "output_type": "display_data"
    }
   ],
   "source": [
    "visits.pivot_table(index='session_month', columns='device', values='uid', aggfunc='nunique').plot(kind='bar',figsize=(15,5), \n",
    "            stacked=True)\n",
    "plt.xlabel('Месяц визита')\n",
    "plt.ylabel('Количество визитов')\n",
    "plt.title('График количества визитов по устройствам')\n",
    "plt.show()"
   ]
  },
  {
   "cell_type": "code",
   "execution_count": 17,
   "metadata": {},
   "outputs": [
    {
     "data": {
      "image/png": "[encoded data removed]",
      "text/plain": [
       "<Figure size 720x360 with 1 Axes>"
      ]
     },
     "metadata": {},
     "output_type": "display_data"
    }
   ],
   "source": [
    "#Круговая диаграмма с каких устройств чаще покупают\n",
    "orders_device=visits.merge(orders, on='uid', how='right')\n",
    "orders_device.pivot_table(index='device', values='buy_ts', aggfunc='count').plot(kind='pie',\n",
    "                                                                                 subplots=True, \n",
    "                                                                                 figsize=(10,5),\n",
    "                                                                                 autopct='%.1f')\n",
    "plt.title('C каких устройств чаще покупают')\n",
    "plt.legend(loc=(1,0))\n",
    "plt.show()"
   ]
  },
  {
   "cell_type": "code",
   "execution_count": 18,
   "metadata": {},
   "outputs": [
    {
     "data": {
      "image/png": "[encoded data removed]",
      "text/plain": [
       "<Figure size 720x360 with 1 Axes>"
      ]
     },
     "metadata": {},
     "output_type": "display_data"
    }
   ],
   "source": [
    "#Круговая диаграмма с каких устройств получили больше выручки\n",
    "orders_device.pivot_table(index='device', values='revenue', aggfunc='sum').plot(kind='pie',\n",
    "                                                                                 subplots=True, \n",
    "                                                                                 figsize=(10,5),\n",
    "                                                                                 autopct='%.1f')\n",
    "plt.title('C каких устройств больше выручка')\n",
    "plt.legend(loc=(1,0))\n",
    "plt.show()"
   ]
  },
  {
   "cell_type": "markdown",
   "metadata": {},
   "source": [
    "С десктопов люди покупают чаще, чем с тач девайсов. И также с декстопов приходит болше выручки. "
   ]
  },
  {
   "cell_type": "markdown",
   "metadata": {},
   "source": [
    "С компьютера люди заходят чаще чем с телефона. Реже в приложение заходят в летние месяцы, предполложительно из-за сезона отпусков."
   ]
  },
  {
   "cell_type": "markdown",
   "metadata": {},
   "source": [
    "#### Как часто люди возвращаются?"
   ]
  },
  {
   "cell_type": "markdown",
   "metadata": {},
   "source": [
    "Посчитаем Retention rate <a id=\"step2.2\"></a>  "
   ]
  },
  {
   "cell_type": "code",
   "execution_count": 19,
   "metadata": {},
   "outputs": [
    {
     "data": {
      "text/html": [
       "<div>\n",
       "<style scoped>\n",
       "    .dataframe tbody tr th:only-of-type {\n",
       "        vertical-align: middle;\n",
       "    }\n",
       "\n",
       "    .dataframe tbody tr th {\n",
       "        vertical-align: top;\n",
       "    }\n",
       "\n",
       "    .dataframe thead th {\n",
       "        text-align: right;\n",
       "    }\n",
       "</style>\n",
       "<table border=\"1\" class=\"dataframe\">\n",
       "  <thead>\n",
       "    <tr style=\"text-align: right;\">\n",
       "      <th></th>\n",
       "      <th>uid</th>\n",
       "      <th>start_ts</th>\n",
       "      <th>source_id</th>\n",
       "      <th>device</th>\n",
       "      <th>first_activity_date</th>\n",
       "      <th>activity_month</th>\n",
       "      <th>first_activity_month</th>\n",
       "    </tr>\n",
       "  </thead>\n",
       "  <tbody>\n",
       "    <tr>\n",
       "      <td>0</td>\n",
       "      <td>16879256277535980062</td>\n",
       "      <td>2017-12-20 17:20:00</td>\n",
       "      <td>4</td>\n",
       "      <td>touch</td>\n",
       "      <td>2017-12-20 17:20:00</td>\n",
       "      <td>2017-12-01</td>\n",
       "      <td>2017-12-01</td>\n",
       "    </tr>\n",
       "    <tr>\n",
       "      <td>1</td>\n",
       "      <td>104060357244891740</td>\n",
       "      <td>2018-02-19 16:53:00</td>\n",
       "      <td>2</td>\n",
       "      <td>desktop</td>\n",
       "      <td>2018-02-19 16:53:00</td>\n",
       "      <td>2018-02-01</td>\n",
       "      <td>2018-02-01</td>\n",
       "    </tr>\n",
       "    <tr>\n",
       "      <td>2</td>\n",
       "      <td>7459035603376831527</td>\n",
       "      <td>2017-07-01 01:54:00</td>\n",
       "      <td>5</td>\n",
       "      <td>touch</td>\n",
       "      <td>2017-07-01 01:54:00</td>\n",
       "      <td>2017-07-01</td>\n",
       "      <td>2017-07-01</td>\n",
       "    </tr>\n",
       "    <tr>\n",
       "      <td>3</td>\n",
       "      <td>16174680259334210214</td>\n",
       "      <td>2018-05-20 10:59:00</td>\n",
       "      <td>9</td>\n",
       "      <td>desktop</td>\n",
       "      <td>2018-03-09 20:05:00</td>\n",
       "      <td>2018-05-01</td>\n",
       "      <td>2018-03-01</td>\n",
       "    </tr>\n",
       "    <tr>\n",
       "      <td>4</td>\n",
       "      <td>9969694820036681168</td>\n",
       "      <td>2017-12-27 14:06:00</td>\n",
       "      <td>3</td>\n",
       "      <td>desktop</td>\n",
       "      <td>2017-12-27 14:06:00</td>\n",
       "      <td>2017-12-01</td>\n",
       "      <td>2017-12-01</td>\n",
       "    </tr>\n",
       "  </tbody>\n",
       "</table>\n",
       "</div>"
      ],
      "text/plain": [
       "                    uid            start_ts  source_id   device  \\\n",
       "0  16879256277535980062 2017-12-20 17:20:00          4    touch   \n",
       "1    104060357244891740 2018-02-19 16:53:00          2  desktop   \n",
       "2   7459035603376831527 2017-07-01 01:54:00          5    touch   \n",
       "3  16174680259334210214 2018-05-20 10:59:00          9  desktop   \n",
       "4   9969694820036681168 2017-12-27 14:06:00          3  desktop   \n",
       "\n",
       "  first_activity_date activity_month first_activity_month  \n",
       "0 2017-12-20 17:20:00     2017-12-01           2017-12-01  \n",
       "1 2018-02-19 16:53:00     2018-02-01           2018-02-01  \n",
       "2 2017-07-01 01:54:00     2017-07-01           2017-07-01  \n",
       "3 2018-03-09 20:05:00     2018-05-01           2018-03-01  \n",
       "4 2017-12-27 14:06:00     2017-12-01           2017-12-01  "
      ]
     },
     "execution_count": 19,
     "metadata": {},
     "output_type": "execute_result"
    }
   ],
   "source": [
    "#Пересохраним данные в новый датафрейм\n",
    "user_activity =visits[['uid','start_ts','source_id','device']]\n",
    "#создаем объект series с датой первого использования приложения\n",
    "first_activity_date = user_activity.groupby(['uid'])['start_ts'].min()\n",
    "first_activity_date.name = 'first_activity_date'\n",
    "#объеденим его с исходным датафреймом и сохраним в новый\n",
    "user_activity = user_activity.join(first_activity_date, on='uid')\n",
    "#переводим столбцы в формат даты\n",
    "user_activity['activity_month'] = user_activity['start_ts'].astype('datetime64[M]')\n",
    "user_activity['first_activity_month'] = user_activity['first_activity_date'].astype('datetime64[M]')\n",
    "\n",
    "user_activity.head()"
   ]
  },
  {
   "cell_type": "code",
   "execution_count": 20,
   "metadata": {},
   "outputs": [],
   "source": [
    "#Рассчитаем lifetime когорты\n",
    "user_activity['cohort_lifetime'] = user_activity['activity_month'] - user_activity['first_activity_month']\n",
    "#Переведем в месяц\n",
    "user_activity['cohort_lifetime'] = user_activity['cohort_lifetime'] / np.timedelta64(1,'M')\n",
    "user_activity['cohort_lifetime'] = user_activity['cohort_lifetime'].round().astype('int')"
   ]
  },
  {
   "cell_type": "code",
   "execution_count": 21,
   "metadata": {},
   "outputs": [],
   "source": [
    "#Найдем количество пользователей в каждом месяце\n",
    "cohorts = user_activity.groupby(['first_activity_month','cohort_lifetime']).agg({'uid':'nunique'}).reset_index()"
   ]
  },
  {
   "cell_type": "code",
   "execution_count": 22,
   "metadata": {},
   "outputs": [],
   "source": [
    "#Найдём исходное количество пользователей в когорте\n",
    "inital_users_count = cohorts[cohorts['cohort_lifetime'] == 0][['first_activity_month','uid']]\n",
    "inital_users_count = inital_users_count.rename(columns={'uid':'cohort_users'})\n",
    "cohorts = cohorts.merge(inital_users_count,on='first_activity_month')"
   ]
  },
  {
   "cell_type": "code",
   "execution_count": 23,
   "metadata": {},
   "outputs": [],
   "source": [
    "#Посчитаем Retention Rate\n",
    "cohorts['retention'] = cohorts['uid'] / cohorts['cohort_users']"
   ]
  },
  {
   "cell_type": "markdown",
   "metadata": {},
   "source": [
    "Построим сводную таблицу и создадим тепловую карту"
   ]
  },
  {
   "cell_type": "code",
   "execution_count": 24,
   "metadata": {},
   "outputs": [
    {
     "data": {
      "text/html": [
       "<div>\n",
       "<style scoped>\n",
       "    .dataframe tbody tr th:only-of-type {\n",
       "        vertical-align: middle;\n",
       "    }\n",
       "\n",
       "    .dataframe tbody tr th {\n",
       "        vertical-align: top;\n",
       "    }\n",
       "\n",
       "    .dataframe thead th {\n",
       "        text-align: right;\n",
       "    }\n",
       "</style>\n",
       "<table border=\"1\" class=\"dataframe\">\n",
       "  <thead>\n",
       "    <tr style=\"text-align: right;\">\n",
       "      <th>cohort_lifetime</th>\n",
       "      <th>0</th>\n",
       "      <th>1</th>\n",
       "      <th>2</th>\n",
       "      <th>3</th>\n",
       "      <th>4</th>\n",
       "      <th>5</th>\n",
       "      <th>6</th>\n",
       "      <th>7</th>\n",
       "      <th>8</th>\n",
       "      <th>9</th>\n",
       "      <th>10</th>\n",
       "      <th>11</th>\n",
       "    </tr>\n",
       "    <tr>\n",
       "      <th>first_activity_month</th>\n",
       "      <th></th>\n",
       "      <th></th>\n",
       "      <th></th>\n",
       "      <th></th>\n",
       "      <th></th>\n",
       "      <th></th>\n",
       "      <th></th>\n",
       "      <th></th>\n",
       "      <th></th>\n",
       "      <th></th>\n",
       "      <th></th>\n",
       "      <th></th>\n",
       "    </tr>\n",
       "  </thead>\n",
       "  <tbody>\n",
       "    <tr>\n",
       "      <td>2017-06-01</td>\n",
       "      <td>1.0</td>\n",
       "      <td>0.078664</td>\n",
       "      <td>0.053775</td>\n",
       "      <td>0.061392</td>\n",
       "      <td>0.068557</td>\n",
       "      <td>0.071423</td>\n",
       "      <td>0.061015</td>\n",
       "      <td>0.057772</td>\n",
       "      <td>0.052342</td>\n",
       "      <td>0.050833</td>\n",
       "      <td>0.040652</td>\n",
       "      <td>0.044951</td>\n",
       "    </tr>\n",
       "    <tr>\n",
       "      <td>2017-07-01</td>\n",
       "      <td>1.0</td>\n",
       "      <td>0.056088</td>\n",
       "      <td>0.051294</td>\n",
       "      <td>0.056164</td>\n",
       "      <td>0.058219</td>\n",
       "      <td>0.048174</td>\n",
       "      <td>0.045358</td>\n",
       "      <td>0.045738</td>\n",
       "      <td>0.038813</td>\n",
       "      <td>0.028615</td>\n",
       "      <td>0.027473</td>\n",
       "      <td>NaN</td>\n",
       "    </tr>\n",
       "    <tr>\n",
       "      <td>2017-08-01</td>\n",
       "      <td>1.0</td>\n",
       "      <td>0.076908</td>\n",
       "      <td>0.062862</td>\n",
       "      <td>0.062764</td>\n",
       "      <td>0.050093</td>\n",
       "      <td>0.044004</td>\n",
       "      <td>0.036342</td>\n",
       "      <td>0.039485</td>\n",
       "      <td>0.027895</td>\n",
       "      <td>0.026029</td>\n",
       "      <td>NaN</td>\n",
       "      <td>NaN</td>\n",
       "    </tr>\n",
       "    <tr>\n",
       "      <td>2017-09-01</td>\n",
       "      <td>1.0</td>\n",
       "      <td>0.085489</td>\n",
       "      <td>0.069205</td>\n",
       "      <td>0.050706</td>\n",
       "      <td>0.039392</td>\n",
       "      <td>0.037835</td>\n",
       "      <td>0.035860</td>\n",
       "      <td>0.024186</td>\n",
       "      <td>0.022809</td>\n",
       "      <td>NaN</td>\n",
       "      <td>NaN</td>\n",
       "      <td>NaN</td>\n",
       "    </tr>\n",
       "    <tr>\n",
       "      <td>2017-10-01</td>\n",
       "      <td>1.0</td>\n",
       "      <td>0.078608</td>\n",
       "      <td>0.052239</td>\n",
       "      <td>0.038958</td>\n",
       "      <td>0.034261</td>\n",
       "      <td>0.032221</td>\n",
       "      <td>0.021365</td>\n",
       "      <td>0.020364</td>\n",
       "      <td>NaN</td>\n",
       "      <td>NaN</td>\n",
       "      <td>NaN</td>\n",
       "      <td>NaN</td>\n",
       "    </tr>\n",
       "    <tr>\n",
       "      <td>2017-11-01</td>\n",
       "      <td>1.0</td>\n",
       "      <td>0.078281</td>\n",
       "      <td>0.044113</td>\n",
       "      <td>0.038682</td>\n",
       "      <td>0.033727</td>\n",
       "      <td>0.023415</td>\n",
       "      <td>0.021800</td>\n",
       "      <td>NaN</td>\n",
       "      <td>NaN</td>\n",
       "      <td>NaN</td>\n",
       "      <td>NaN</td>\n",
       "      <td>NaN</td>\n",
       "    </tr>\n",
       "    <tr>\n",
       "      <td>2017-12-01</td>\n",
       "      <td>1.0</td>\n",
       "      <td>0.055802</td>\n",
       "      <td>0.037993</td>\n",
       "      <td>0.031107</td>\n",
       "      <td>0.020263</td>\n",
       "      <td>0.019036</td>\n",
       "      <td>NaN</td>\n",
       "      <td>NaN</td>\n",
       "      <td>NaN</td>\n",
       "      <td>NaN</td>\n",
       "      <td>NaN</td>\n",
       "      <td>NaN</td>\n",
       "    </tr>\n",
       "    <tr>\n",
       "      <td>2018-01-01</td>\n",
       "      <td>1.0</td>\n",
       "      <td>0.059715</td>\n",
       "      <td>0.039339</td>\n",
       "      <td>0.024973</td>\n",
       "      <td>0.020244</td>\n",
       "      <td>NaN</td>\n",
       "      <td>NaN</td>\n",
       "      <td>NaN</td>\n",
       "      <td>NaN</td>\n",
       "      <td>NaN</td>\n",
       "      <td>NaN</td>\n",
       "      <td>NaN</td>\n",
       "    </tr>\n",
       "    <tr>\n",
       "      <td>2018-02-01</td>\n",
       "      <td>1.0</td>\n",
       "      <td>0.057080</td>\n",
       "      <td>0.025454</td>\n",
       "      <td>0.020093</td>\n",
       "      <td>NaN</td>\n",
       "      <td>NaN</td>\n",
       "      <td>NaN</td>\n",
       "      <td>NaN</td>\n",
       "      <td>NaN</td>\n",
       "      <td>NaN</td>\n",
       "      <td>NaN</td>\n",
       "      <td>NaN</td>\n",
       "    </tr>\n",
       "    <tr>\n",
       "      <td>2018-03-01</td>\n",
       "      <td>1.0</td>\n",
       "      <td>0.041818</td>\n",
       "      <td>0.027053</td>\n",
       "      <td>NaN</td>\n",
       "      <td>NaN</td>\n",
       "      <td>NaN</td>\n",
       "      <td>NaN</td>\n",
       "      <td>NaN</td>\n",
       "      <td>NaN</td>\n",
       "      <td>NaN</td>\n",
       "      <td>NaN</td>\n",
       "      <td>NaN</td>\n",
       "    </tr>\n",
       "    <tr>\n",
       "      <td>2018-04-01</td>\n",
       "      <td>1.0</td>\n",
       "      <td>0.048380</td>\n",
       "      <td>NaN</td>\n",
       "      <td>NaN</td>\n",
       "      <td>NaN</td>\n",
       "      <td>NaN</td>\n",
       "      <td>NaN</td>\n",
       "      <td>NaN</td>\n",
       "      <td>NaN</td>\n",
       "      <td>NaN</td>\n",
       "      <td>NaN</td>\n",
       "      <td>NaN</td>\n",
       "    </tr>\n",
       "    <tr>\n",
       "      <td>2018-05-01</td>\n",
       "      <td>1.0</td>\n",
       "      <td>NaN</td>\n",
       "      <td>NaN</td>\n",
       "      <td>NaN</td>\n",
       "      <td>NaN</td>\n",
       "      <td>NaN</td>\n",
       "      <td>NaN</td>\n",
       "      <td>NaN</td>\n",
       "      <td>NaN</td>\n",
       "      <td>NaN</td>\n",
       "      <td>NaN</td>\n",
       "      <td>NaN</td>\n",
       "    </tr>\n",
       "  </tbody>\n",
       "</table>\n",
       "</div>"
      ],
      "text/plain": [
       "cohort_lifetime        0         1         2         3         4         5   \\\n",
       "first_activity_month                                                          \n",
       "2017-06-01            1.0  0.078664  0.053775  0.061392  0.068557  0.071423   \n",
       "2017-07-01            1.0  0.056088  0.051294  0.056164  0.058219  0.048174   \n",
       "2017-08-01            1.0  0.076908  0.062862  0.062764  0.050093  0.044004   \n",
       "2017-09-01            1.0  0.085489  0.069205  0.050706  0.039392  0.037835   \n",
       "2017-10-01            1.0  0.078608  0.052239  0.038958  0.034261  0.032221   \n",
       "2017-11-01            1.0  0.078281  0.044113  0.038682  0.033727  0.023415   \n",
       "2017-12-01            1.0  0.055802  0.037993  0.031107  0.020263  0.019036   \n",
       "2018-01-01            1.0  0.059715  0.039339  0.024973  0.020244       NaN   \n",
       "2018-02-01            1.0  0.057080  0.025454  0.020093       NaN       NaN   \n",
       "2018-03-01            1.0  0.041818  0.027053       NaN       NaN       NaN   \n",
       "2018-04-01            1.0  0.048380       NaN       NaN       NaN       NaN   \n",
       "2018-05-01            1.0       NaN       NaN       NaN       NaN       NaN   \n",
       "\n",
       "cohort_lifetime             6         7         8         9         10  \\\n",
       "first_activity_month                                                     \n",
       "2017-06-01            0.061015  0.057772  0.052342  0.050833  0.040652   \n",
       "2017-07-01            0.045358  0.045738  0.038813  0.028615  0.027473   \n",
       "2017-08-01            0.036342  0.039485  0.027895  0.026029       NaN   \n",
       "2017-09-01            0.035860  0.024186  0.022809       NaN       NaN   \n",
       "2017-10-01            0.021365  0.020364       NaN       NaN       NaN   \n",
       "2017-11-01            0.021800       NaN       NaN       NaN       NaN   \n",
       "2017-12-01                 NaN       NaN       NaN       NaN       NaN   \n",
       "2018-01-01                 NaN       NaN       NaN       NaN       NaN   \n",
       "2018-02-01                 NaN       NaN       NaN       NaN       NaN   \n",
       "2018-03-01                 NaN       NaN       NaN       NaN       NaN   \n",
       "2018-04-01                 NaN       NaN       NaN       NaN       NaN   \n",
       "2018-05-01                 NaN       NaN       NaN       NaN       NaN   \n",
       "\n",
       "cohort_lifetime             11  \n",
       "first_activity_month            \n",
       "2017-06-01            0.044951  \n",
       "2017-07-01                 NaN  \n",
       "2017-08-01                 NaN  \n",
       "2017-09-01                 NaN  \n",
       "2017-10-01                 NaN  \n",
       "2017-11-01                 NaN  \n",
       "2017-12-01                 NaN  \n",
       "2018-01-01                 NaN  \n",
       "2018-02-01                 NaN  \n",
       "2018-03-01                 NaN  \n",
       "2018-04-01                 NaN  \n",
       "2018-05-01                 NaN  "
      ]
     },
     "execution_count": 24,
     "metadata": {},
     "output_type": "execute_result"
    }
   ],
   "source": [
    "retention_pivot = cohorts.pivot_table(index='first_activity_month',columns='cohort_lifetime',values='retention',aggfunc='sum')\n",
    "retention_pivot"
   ]
  },
  {
   "cell_type": "code",
   "execution_count": 25,
   "metadata": {},
   "outputs": [
    {
     "data": {
      "image/png": "[encoded data removed]",
      "text/plain": [
       "<Figure size 1224x432 with 2 Axes>"
      ]
     },
     "metadata": {
      "needs_background": "light"
     },
     "output_type": "display_data"
    }
   ],
   "source": [
    "plt.figure(figsize=(17, 6))\n",
    "plt.title('Cohorts: User Retention')\n",
    "ax = sns.heatmap(retention_pivot, annot=True, fmt='.1%', linewidths=1, cmap='GnBu',vmax=0.15)\n",
    "plt.xlabel('lifetime когорты')\n",
    "plt.ylabel('Когорты')\n",
    "ax.set_yticklabels(retention_pivot.index.strftime('%Y-%m'))\n",
    "plt.show()"
   ]
  },
  {
   "cell_type": "markdown",
   "metadata": {},
   "source": [
    "### Вывод <a id=\"step2.3\"></a>  "
   ]
  },
  {
   "cell_type": "markdown",
   "metadata": {},
   "source": [
    "Retention Rate пользователей приложения довольно низкий.На первый месяц жизни когороты остается от 4.2 до 8.5 % посетителей. С течением времени процент падает во всех когортах. Исключением являются июньская  когорта, у которых на 4й,5й,6й и 12й месяцы пользования retention вырос. Также в августовской когорте на 8й месяц retention тоже растет. \n",
    "Можно сделать вывод, что пользоватли из первой когорты чаще возвращаются, чем из последующих. Возможно, были выбраны неэффективные источники трафика или ухудшилось качество работы службы поддержки.\n",
    "\n",
    "Сколько людей пользуются в день, неделю, месяц?\n",
    "в день 907\n",
    "в неделю 5825\n",
    "в месяц 23228\n",
    "\n",
    "Сколько сессий в день?\n",
    "987\n",
    "\n",
    "Сколько длится одна сессия?\n",
    "Продолжительность большей части сессий - от 0 до 2 минут"
   ]
  },
  {
   "cell_type": "markdown",
   "metadata": {},
   "source": [
    "### 3. Продажи <a id=\"step3\"></a>  "
   ]
  },
  {
   "cell_type": "markdown",
   "metadata": {},
   "source": [
    "#### Когда люди начинают покупать? <a id=\"step3.1\"></a>  "
   ]
  },
  {
   "cell_type": "code",
   "execution_count": 26,
   "metadata": {},
   "outputs": [],
   "source": [
    "#Добавим в таблицу ordres колнку с датой первой активнсти\n",
    "visits_orders = orders.merge(first_activity_date, on = 'uid')"
   ]
  },
  {
   "cell_type": "code",
   "execution_count": 27,
   "metadata": {},
   "outputs": [
    {
     "data": {
      "text/plain": [
       "uid\n",
       "313578113262317        2018-01-01\n",
       "1575281904278712       2017-06-01\n",
       "2429014661409475       2017-10-01\n",
       "2464366381792757       2018-01-01\n",
       "2551852515556206       2017-11-01\n",
       "                          ...    \n",
       "18445147675727495770   2017-11-01\n",
       "18445407535914413204   2017-09-01\n",
       "18445601152732270159   2018-03-01\n",
       "18446156210226471712   2018-02-01\n",
       "18446167067214817906   2017-10-01\n",
       "Name: first_order_date, Length: 36523, dtype: datetime64[ns]"
      ]
     },
     "execution_count": 27,
     "metadata": {},
     "output_type": "execute_result"
    }
   ],
   "source": [
    "#Найдем день первой покупки и добавим в таблицу visits_orders\n",
    "first_order_date = visits_orders.groupby('uid')['buy_ts'].min()\n",
    "first_order_date.name = 'first_order_date'\n",
    "visits_orders = visits_orders.merge(first_order_date, on = 'uid')\n",
    "first_order_date.astype('datetime64[M]')"
   ]
  },
  {
   "cell_type": "code",
   "execution_count": 28,
   "metadata": {},
   "outputs": [],
   "source": [
    "#Сгрупперуем по uid и найдем разницу между первым заходом и первой покупкой в минутах\n",
    "first_buy_time = visits_orders.groupby('uid').agg({'first_order_date': 'min','first_activity_date': 'min'}).reset_index()\n",
    "first_buy_time['first_buy_time'] = ((first_buy_time['first_order_date'] - first_buy_time['first_activity_date']) /\n",
    "                           pd.Timedelta(1, unit='m')).astype(int)"
   ]
  },
  {
   "cell_type": "code",
   "execution_count": 29,
   "metadata": {},
   "outputs": [
    {
     "data": {
      "text/plain": [
       "count     36523.000000\n",
       "mean      24340.175834\n",
       "std       67784.774690\n",
       "min           0.000000\n",
       "25%           4.000000\n",
       "50%          16.000000\n",
       "75%        2897.000000\n",
       "max      523144.000000\n",
       "Name: first_buy_time, dtype: float64"
      ]
     },
     "execution_count": 29,
     "metadata": {},
     "output_type": "execute_result"
    }
   ],
   "source": [
    "first_buy_time['first_buy_time'].describe()"
   ]
  },
  {
   "cell_type": "code",
   "execution_count": 30,
   "metadata": {},
   "outputs": [
    {
     "data": {
      "image/png": "[encoded data removed]",
      "text/plain": [
       "<Figure size 432x288 with 1 Axes>"
      ]
     },
     "metadata": {
      "needs_background": "light"
     },
     "output_type": "display_data"
    }
   ],
   "source": [
    "#Построим гистограмму\n",
    "first_buy_time['first_buy_time'].hist(bins=50)\n",
    "plt.title('Распределение времени первого заказа')\n",
    "plt.xlabel('Количество')\n",
    "plt.ylabel('Время')\n",
    "plt.show()"
   ]
  },
  {
   "cell_type": "code",
   "execution_count": 31,
   "metadata": {},
   "outputs": [
    {
     "name": "stdout",
     "output_type": "stream",
     "text": [
      "Люди совершают покупку в среднем через 16 минут.\n"
     ]
    }
   ],
   "source": [
    "#Разброс значений очень велик, поэтому возьмем медиану\n",
    "print('Люди совершают покупку в среднем через {:.0f} минут.'\n",
    "      .format((first_buy_time['first_buy_time']).median()))"
   ]
  },
  {
   "cell_type": "markdown",
   "metadata": {},
   "source": [
    "#### Сколько раз покупают за период? <a id=\"step3.2\"></a>  "
   ]
  },
  {
   "cell_type": "code",
   "execution_count": 32,
   "metadata": {},
   "outputs": [
    {
     "data": {
      "image/png": "[encoded data removed]",
      "text/plain": [
       "<Figure size 1080x360 with 1 Axes>"
      ]
     },
     "metadata": {
      "needs_background": "light"
     },
     "output_type": "display_data"
    }
   ],
   "source": [
    "#Добавим столбец с месяцем \n",
    "orders['buy_month'] = orders['buy_ts'].astype('datetime64[M]')\n",
    "\n",
    "#Построим график\n",
    "orders.groupby('buy_month')['buy_ts'].count().plot(figsize=(15,5), grid=True)\n",
    "plt.ylabel('Месяц покупки')\n",
    "plt.xlabel('Количество покупок')\n",
    "plt.title('Количество покупок за месяц')\n",
    "plt.show()"
   ]
  },
  {
   "cell_type": "markdown",
   "metadata": {},
   "source": [
    "Больше всего покупок было совершенно в декабре 17го. Меньше всего в летние месяцы 17го. Виден всплсек на май 18го, видимо покупали те, кто остался в городе на майские праздники."
   ]
  },
  {
   "cell_type": "code",
   "execution_count": 33,
   "metadata": {},
   "outputs": [],
   "source": [
    "#Добавим в таблицу дату и месяц первой покупки и месяц покупи\n",
    "orders = orders.merge(first_order_date, on = 'uid')\n",
    "\n",
    "orders['first_order_month'] = orders['first_order_date'].astype('datetime64[M]')\n",
    "orders['order_month'] = orders['buy_ts'].astype('datetime64[M]')"
   ]
  },
  {
   "cell_type": "code",
   "execution_count": 34,
   "metadata": {},
   "outputs": [],
   "source": [
    "#Найдём количество заказов, покупателей и сумарную выручку\n",
    "orders_cohorts = (orders.groupby(['first_order_month','order_month'])\n",
    "                        .agg({'uid':['nunique','count'], 'revenue': 'sum'})\n",
    "                        .reset_index())\n",
    "\n",
    "orders_cohorts.columns = ['first_order_month','order_month','buyers_cnt','orders_cnt','revenue_sum']"
   ]
  },
  {
   "cell_type": "code",
   "execution_count": 35,
   "metadata": {},
   "outputs": [],
   "source": [
    "#Выделим месячные когорты\n",
    "orders_cohorts['cohort_lifetime'] = ((orders_cohorts['order_month'] - orders_cohorts['first_order_month']) / \n",
    "                                      np.timedelta64(1,'M')).round().astype(int)"
   ]
  },
  {
   "cell_type": "code",
   "execution_count": 36,
   "metadata": {},
   "outputs": [],
   "source": [
    "#Найдём исходное количество пользователей в когорте\n",
    "initial_buyers_count = orders_cohorts[orders_cohorts['cohort_lifetime'] == 0][['first_order_month', 'buyers_cnt']]\n",
    "initial_buyers_count = initial_buyers_count.rename(columns = {'buyers_cnt': 'cohort_buyer_cnt'})\n",
    "\n",
    "orders_cohorts = orders_cohorts.merge(initial_buyers_count, on='first_order_month')"
   ]
  },
  {
   "cell_type": "code",
   "execution_count": 37,
   "metadata": {},
   "outputs": [],
   "source": [
    "#Найдём сколько покупок приходится на одного покупателя\n",
    "orders_cohorts['order_per_user'] = orders_cohorts['orders_cnt'] / orders_cohorts['buyers_cnt']"
   ]
  },
  {
   "cell_type": "code",
   "execution_count": 38,
   "metadata": {},
   "outputs": [
    {
     "data": {
      "image/png": "[encoded data removed]",
      "text/plain": [
       "<Figure size 1224x432 with 2 Axes>"
      ]
     },
     "metadata": {
      "needs_background": "light"
     },
     "output_type": "display_data"
    }
   ],
   "source": [
    "#Построим тепловую карту\n",
    "order_per_user_pivot = orders_cohorts.pivot_table(index = 'first_order_month',\n",
    "                                                  columns = 'cohort_lifetime',\n",
    "                                                  values = 'order_per_user',\n",
    "                                                  aggfunc = 'mean')\n",
    "plt.figure(figsize=(17, 6))\n",
    "sns.set(style='white')\n",
    "plt.title('Количество покупок на одного покупателя')\n",
    "ax = sns.heatmap(order_per_user_pivot, annot=True, fmt='.1f', vmax=5, linewidths=1, linecolor='white', cmap='cool')\n",
    "plt.xlabel('lifetime когорты')\n",
    "plt.ylabel('Когорты')\n",
    "ax.set_yticklabels(order_per_user_pivot.index.strftime('%Y-%m'))\n",
    "plt.show()"
   ]
  },
  {
   "cell_type": "markdown",
   "metadata": {},
   "source": [
    "Во всех когортах после первого месяца возрастает количество покупок примерно в 1,5-2 раза, люди продолжают пользоваться сервисом. Наиболее активно совершают покупки пользователи из первой когорты."
   ]
  },
  {
   "cell_type": "markdown",
   "metadata": {},
   "source": [
    "#### Какой средний чек? <a id=\"step3.3\"></a>  "
   ]
  },
  {
   "cell_type": "code",
   "execution_count": 39,
   "metadata": {},
   "outputs": [
    {
     "data": {
      "image/png": "[encoded data removed]",
      "text/plain": [
       "<Figure size 1224x432 with 2 Axes>"
      ]
     },
     "metadata": {},
     "output_type": "display_data"
    }
   ],
   "source": [
    "#Посмотрим средний чек для когорт\n",
    "orders_cohorts['revenue_per_order'] = orders_cohorts['revenue_sum'] / orders_cohorts['orders_cnt']\n",
    "\n",
    "revenue_per_order_pivot= orders_cohorts.pivot_table(index='first_order_month', \n",
    "                                                       columns='cohort_lifetime', \n",
    "                                                       values='revenue_per_order',\n",
    "                                                       aggfunc='mean')\n",
    "plt.figure(figsize=(17,6))\n",
    "plt.title('Средний чек')\n",
    "ax=sns.heatmap(revenue_per_order_pivot, annot=True, fmt='.1f', vmax=5, linewidth=1, linecolor='white', cmap='cool')\n",
    "plt.xlabel('lifetime когорты')\n",
    "plt.ylabel('Когорты')\n",
    "ax.set_yticklabels(revenue_per_order_pivot.index.strftime('%Y-%m'))\n",
    "plt.show()"
   ]
  },
  {
   "cell_type": "code",
   "execution_count": 40,
   "metadata": {},
   "outputs": [
    {
     "data": {
      "text/plain": [
       "4.999646930477041"
      ]
     },
     "execution_count": 40,
     "metadata": {},
     "output_type": "execute_result"
    }
   ],
   "source": [
    "orders['revenue'].mean() #Общий средний чек"
   ]
  },
  {
   "cell_type": "markdown",
   "metadata": {},
   "source": [
    "Средний чек по всем продажам равен 4.99. В среднем средние чеки у всех когорт примерно одинаковы. Выделяются сентябрьская когорта и декабрьская. Возможно в эти месяцы проводились какиe-то крупные мероприятия."
   ]
  },
  {
   "cell_type": "markdown",
   "metadata": {},
   "source": [
    "#### Сколько денег приносят? (LTV) <a id=\"step3.4\"></a>  "
   ]
  },
  {
   "cell_type": "code",
   "execution_count": 41,
   "metadata": {},
   "outputs": [
    {
     "data": {
      "text/html": [
       "<div>\n",
       "<style scoped>\n",
       "    .dataframe tbody tr th:only-of-type {\n",
       "        vertical-align: middle;\n",
       "    }\n",
       "\n",
       "    .dataframe tbody tr th {\n",
       "        vertical-align: top;\n",
       "    }\n",
       "\n",
       "    .dataframe thead th {\n",
       "        text-align: right;\n",
       "    }\n",
       "</style>\n",
       "<table border=\"1\" class=\"dataframe\">\n",
       "  <thead>\n",
       "    <tr style=\"text-align: right;\">\n",
       "      <th></th>\n",
       "      <th>first_order_month</th>\n",
       "      <th>order_month</th>\n",
       "      <th>buyers_cnt</th>\n",
       "      <th>orders_cnt</th>\n",
       "      <th>revenue_sum</th>\n",
       "      <th>cohort_lifetime</th>\n",
       "      <th>cohort_buyer_cnt</th>\n",
       "      <th>order_per_user</th>\n",
       "      <th>revenue_per_order</th>\n",
       "    </tr>\n",
       "  </thead>\n",
       "  <tbody>\n",
       "    <tr>\n",
       "      <td>0</td>\n",
       "      <td>2017-06-01</td>\n",
       "      <td>2017-06-01</td>\n",
       "      <td>2023</td>\n",
       "      <td>2354</td>\n",
       "      <td>9557.49</td>\n",
       "      <td>0</td>\n",
       "      <td>2023</td>\n",
       "      <td>1.163618</td>\n",
       "      <td>4.060106</td>\n",
       "    </tr>\n",
       "    <tr>\n",
       "      <td>1</td>\n",
       "      <td>2017-06-01</td>\n",
       "      <td>2017-07-01</td>\n",
       "      <td>61</td>\n",
       "      <td>177</td>\n",
       "      <td>981.82</td>\n",
       "      <td>1</td>\n",
       "      <td>2023</td>\n",
       "      <td>2.901639</td>\n",
       "      <td>5.547006</td>\n",
       "    </tr>\n",
       "    <tr>\n",
       "      <td>2</td>\n",
       "      <td>2017-06-01</td>\n",
       "      <td>2017-08-01</td>\n",
       "      <td>50</td>\n",
       "      <td>174</td>\n",
       "      <td>885.34</td>\n",
       "      <td>2</td>\n",
       "      <td>2023</td>\n",
       "      <td>3.480000</td>\n",
       "      <td>5.088161</td>\n",
       "    </tr>\n",
       "    <tr>\n",
       "      <td>3</td>\n",
       "      <td>2017-06-01</td>\n",
       "      <td>2017-09-01</td>\n",
       "      <td>54</td>\n",
       "      <td>226</td>\n",
       "      <td>1931.30</td>\n",
       "      <td>3</td>\n",
       "      <td>2023</td>\n",
       "      <td>4.185185</td>\n",
       "      <td>8.545575</td>\n",
       "    </tr>\n",
       "    <tr>\n",
       "      <td>4</td>\n",
       "      <td>2017-06-01</td>\n",
       "      <td>2017-10-01</td>\n",
       "      <td>88</td>\n",
       "      <td>292</td>\n",
       "      <td>2068.58</td>\n",
       "      <td>4</td>\n",
       "      <td>2023</td>\n",
       "      <td>3.318182</td>\n",
       "      <td>7.084178</td>\n",
       "    </tr>\n",
       "  </tbody>\n",
       "</table>\n",
       "</div>"
      ],
      "text/plain": [
       "  first_order_month order_month  buyers_cnt  orders_cnt  revenue_sum  \\\n",
       "0        2017-06-01  2017-06-01        2023        2354      9557.49   \n",
       "1        2017-06-01  2017-07-01          61         177       981.82   \n",
       "2        2017-06-01  2017-08-01          50         174       885.34   \n",
       "3        2017-06-01  2017-09-01          54         226      1931.30   \n",
       "4        2017-06-01  2017-10-01          88         292      2068.58   \n",
       "\n",
       "   cohort_lifetime  cohort_buyer_cnt  order_per_user  revenue_per_order  \n",
       "0                0              2023        1.163618           4.060106  \n",
       "1                1              2023        2.901639           5.547006  \n",
       "2                2              2023        3.480000           5.088161  \n",
       "3                3              2023        4.185185           8.545575  \n",
       "4                4              2023        3.318182           7.084178  "
      ]
     },
     "execution_count": 41,
     "metadata": {},
     "output_type": "execute_result"
    }
   ],
   "source": [
    "#Установим маржинальность\n",
    "margin_rate = 0.5 \n",
    "orders_cohorts.head()"
   ]
  },
  {
   "cell_type": "code",
   "execution_count": 42,
   "metadata": {},
   "outputs": [
    {
     "data": {
      "text/html": [
       "<div>\n",
       "<style scoped>\n",
       "    .dataframe tbody tr th:only-of-type {\n",
       "        vertical-align: middle;\n",
       "    }\n",
       "\n",
       "    .dataframe tbody tr th {\n",
       "        vertical-align: top;\n",
       "    }\n",
       "\n",
       "    .dataframe thead th {\n",
       "        text-align: right;\n",
       "    }\n",
       "</style>\n",
       "<table border=\"1\" class=\"dataframe\">\n",
       "  <thead>\n",
       "    <tr style=\"text-align: right;\">\n",
       "      <th></th>\n",
       "      <th>first_order_month</th>\n",
       "      <th>order_month</th>\n",
       "      <th>buyers_cnt</th>\n",
       "      <th>orders_cnt</th>\n",
       "      <th>revenue_sum</th>\n",
       "      <th>cohort_lifetime</th>\n",
       "      <th>cohort_buyer_cnt</th>\n",
       "      <th>order_per_user</th>\n",
       "      <th>revenue_per_order</th>\n",
       "      <th>gp</th>\n",
       "      <th>ltv</th>\n",
       "    </tr>\n",
       "  </thead>\n",
       "  <tbody>\n",
       "    <tr>\n",
       "      <td>0</td>\n",
       "      <td>2017-06-01</td>\n",
       "      <td>2017-06-01</td>\n",
       "      <td>2023</td>\n",
       "      <td>2354</td>\n",
       "      <td>9557.49</td>\n",
       "      <td>0</td>\n",
       "      <td>2023</td>\n",
       "      <td>1.163618</td>\n",
       "      <td>4.060106</td>\n",
       "      <td>4778.745</td>\n",
       "      <td>2.362207</td>\n",
       "    </tr>\n",
       "    <tr>\n",
       "      <td>1</td>\n",
       "      <td>2017-06-01</td>\n",
       "      <td>2017-07-01</td>\n",
       "      <td>61</td>\n",
       "      <td>177</td>\n",
       "      <td>981.82</td>\n",
       "      <td>1</td>\n",
       "      <td>2023</td>\n",
       "      <td>2.901639</td>\n",
       "      <td>5.547006</td>\n",
       "      <td>490.910</td>\n",
       "      <td>8.047705</td>\n",
       "    </tr>\n",
       "    <tr>\n",
       "      <td>2</td>\n",
       "      <td>2017-06-01</td>\n",
       "      <td>2017-08-01</td>\n",
       "      <td>50</td>\n",
       "      <td>174</td>\n",
       "      <td>885.34</td>\n",
       "      <td>2</td>\n",
       "      <td>2023</td>\n",
       "      <td>3.480000</td>\n",
       "      <td>5.088161</td>\n",
       "      <td>442.670</td>\n",
       "      <td>8.853400</td>\n",
       "    </tr>\n",
       "    <tr>\n",
       "      <td>3</td>\n",
       "      <td>2017-06-01</td>\n",
       "      <td>2017-09-01</td>\n",
       "      <td>54</td>\n",
       "      <td>226</td>\n",
       "      <td>1931.30</td>\n",
       "      <td>3</td>\n",
       "      <td>2023</td>\n",
       "      <td>4.185185</td>\n",
       "      <td>8.545575</td>\n",
       "      <td>965.650</td>\n",
       "      <td>17.882407</td>\n",
       "    </tr>\n",
       "    <tr>\n",
       "      <td>4</td>\n",
       "      <td>2017-06-01</td>\n",
       "      <td>2017-10-01</td>\n",
       "      <td>88</td>\n",
       "      <td>292</td>\n",
       "      <td>2068.58</td>\n",
       "      <td>4</td>\n",
       "      <td>2023</td>\n",
       "      <td>3.318182</td>\n",
       "      <td>7.084178</td>\n",
       "      <td>1034.290</td>\n",
       "      <td>11.753295</td>\n",
       "    </tr>\n",
       "  </tbody>\n",
       "</table>\n",
       "</div>"
      ],
      "text/plain": [
       "  first_order_month order_month  buyers_cnt  orders_cnt  revenue_sum  \\\n",
       "0        2017-06-01  2017-06-01        2023        2354      9557.49   \n",
       "1        2017-06-01  2017-07-01          61         177       981.82   \n",
       "2        2017-06-01  2017-08-01          50         174       885.34   \n",
       "3        2017-06-01  2017-09-01          54         226      1931.30   \n",
       "4        2017-06-01  2017-10-01          88         292      2068.58   \n",
       "\n",
       "   cohort_lifetime  cohort_buyer_cnt  order_per_user  revenue_per_order  \\\n",
       "0                0              2023        1.163618           4.060106   \n",
       "1                1              2023        2.901639           5.547006   \n",
       "2                2              2023        3.480000           5.088161   \n",
       "3                3              2023        4.185185           8.545575   \n",
       "4                4              2023        3.318182           7.084178   \n",
       "\n",
       "         gp        ltv  \n",
       "0  4778.745   2.362207  \n",
       "1   490.910   8.047705  \n",
       "2   442.670   8.853400  \n",
       "3   965.650  17.882407  \n",
       "4  1034.290  11.753295  "
      ]
     },
     "execution_count": 42,
     "metadata": {},
     "output_type": "execute_result"
    }
   ],
   "source": [
    "orders_cohorts['gp'] = orders_cohorts['revenue_sum'] * margin_rate #Валовая прибыль\n",
    "orders_cohorts['ltv'] = orders_cohorts['gp'] / orders_cohorts['buyers_cnt'] #Сколько в среднем приносит один клиент за месяц\n",
    "orders_cohorts.head()"
   ]
  },
  {
   "cell_type": "code",
   "execution_count": null,
   "metadata": {},
   "outputs": [],
   "source": []
  },
  {
   "cell_type": "code",
   "execution_count": 43,
   "metadata": {},
   "outputs": [
    {
     "data": {
      "image/png": "[encoded data removed]",
      "text/plain": [
       "<Figure size 1224x432 with 2 Axes>"
      ]
     },
     "metadata": {},
     "output_type": "display_data"
    }
   ],
   "source": [
    "ltv_pivot = orders_cohorts.pivot_table(index='first_order_month',\n",
    "                                       columns = 'cohort_lifetime',\n",
    "                                       values = 'ltv',\n",
    "                                       aggfunc = 'mean')\n",
    "ltv_pivot['ltv_result'] = ltv_pivot.sum(1)\n",
    "\n",
    "plt.figure(figsize=(17,6))\n",
    "plt.title('LTV')\n",
    "ax=sns.heatmap(ltv_pivot.cumsum(axis=1), annot=True, fmt='.1f', vmax=5,vmin=0.05, linewidth=1, linecolor='white', cmap='cool')\n",
    "plt.xlabel('lifetime когорты')\n",
    "plt.ylabel('Когорты')\n",
    "ax.set_yticklabels(revenue_per_order_pivot.index.strftime('%Y-%m'))\n",
    "plt.show()"
   ]
  },
  {
   "cell_type": "markdown",
   "metadata": {},
   "source": [
    "#### Вывод <a id=\"step3.5\"></a>  "
   ]
  },
  {
   "cell_type": "markdown",
   "metadata": {},
   "source": [
    "Июньская и сентябрьская когорты лидируют по показателю LTV.\n",
    "Люди совершают покупку в среднем через 16 минут.\n",
    "Больше всего покупок было совершенно в декабре 17го. Меньше всего в летние месяцы 17го.\n",
    "Во всех когортах после первого месяца возрастает количество покупок примерно в 1,5-2 раза.\n",
    "Средний чек по всем продажам равен 4.99. В среднем средние чеки у всех когорт примерно одинаковы. "
   ]
  },
  {
   "cell_type": "markdown",
   "metadata": {},
   "source": [
    "### 4. Маркетинг <a id=\"step4\"></a>  "
   ]
  },
  {
   "cell_type": "markdown",
   "metadata": {},
   "source": [
    "#### Сколько денег потратили? Всего / на каждый источник / по времени <a id=\"step4.1\"></a>  "
   ]
  },
  {
   "cell_type": "code",
   "execution_count": 44,
   "metadata": {},
   "outputs": [
    {
     "name": "stdout",
     "output_type": "stream",
     "text": [
      "Всего было потрачено 329131.62\n"
     ]
    }
   ],
   "source": [
    "#Всего\n",
    "print('Всего было потрачено', costs['costs'].sum())"
   ]
  },
  {
   "cell_type": "code",
   "execution_count": 45,
   "metadata": {},
   "outputs": [
    {
     "data": {
      "text/html": [
       "<div>\n",
       "<style scoped>\n",
       "    .dataframe tbody tr th:only-of-type {\n",
       "        vertical-align: middle;\n",
       "    }\n",
       "\n",
       "    .dataframe tbody tr th {\n",
       "        vertical-align: top;\n",
       "    }\n",
       "\n",
       "    .dataframe thead th {\n",
       "        text-align: right;\n",
       "    }\n",
       "</style>\n",
       "<table border=\"1\" class=\"dataframe\">\n",
       "  <thead>\n",
       "    <tr style=\"text-align: right;\">\n",
       "      <th></th>\n",
       "      <th>costs</th>\n",
       "    </tr>\n",
       "    <tr>\n",
       "      <th>source_id</th>\n",
       "      <th></th>\n",
       "    </tr>\n",
       "  </thead>\n",
       "  <tbody>\n",
       "    <tr>\n",
       "      <td>1</td>\n",
       "      <td>20833.27</td>\n",
       "    </tr>\n",
       "    <tr>\n",
       "      <td>2</td>\n",
       "      <td>42806.04</td>\n",
       "    </tr>\n",
       "    <tr>\n",
       "      <td>3</td>\n",
       "      <td>141321.63</td>\n",
       "    </tr>\n",
       "    <tr>\n",
       "      <td>4</td>\n",
       "      <td>61073.60</td>\n",
       "    </tr>\n",
       "    <tr>\n",
       "      <td>5</td>\n",
       "      <td>51757.10</td>\n",
       "    </tr>\n",
       "    <tr>\n",
       "      <td>9</td>\n",
       "      <td>5517.49</td>\n",
       "    </tr>\n",
       "    <tr>\n",
       "      <td>10</td>\n",
       "      <td>5822.49</td>\n",
       "    </tr>\n",
       "  </tbody>\n",
       "</table>\n",
       "</div>"
      ],
      "text/plain": [
       "               costs\n",
       "source_id           \n",
       "1           20833.27\n",
       "2           42806.04\n",
       "3          141321.63\n",
       "4           61073.60\n",
       "5           51757.10\n",
       "9            5517.49\n",
       "10           5822.49"
      ]
     },
     "execution_count": 45,
     "metadata": {},
     "output_type": "execute_result"
    }
   ],
   "source": [
    "#На каждый источник\n",
    "source_costs = costs.pivot_table(index='source_id', values='costs', aggfunc='sum')\n",
    "source_costs"
   ]
  },
  {
   "cell_type": "code",
   "execution_count": 46,
   "metadata": {},
   "outputs": [
    {
     "data": {
      "image/png": "[encoded data removed]",
      "text/plain": [
       "<Figure size 1080x360 with 1 Axes>"
      ]
     },
     "metadata": {},
     "output_type": "display_data"
    }
   ],
   "source": [
    "#График затрат по источникам\n",
    "source_costs.sort_values('costs').plot(kind='barh', figsize=(15,5))\n",
    "plt.title('Затраты по источнику')\n",
    "plt.xlabel('Затраты')\n",
    "plt.ylabel('Исочник')\n",
    "plt.show()"
   ]
  },
  {
   "cell_type": "code",
   "execution_count": 47,
   "metadata": {},
   "outputs": [
    {
     "data": {
      "text/html": [
       "<div>\n",
       "<style scoped>\n",
       "    .dataframe tbody tr th:only-of-type {\n",
       "        vertical-align: middle;\n",
       "    }\n",
       "\n",
       "    .dataframe tbody tr th {\n",
       "        vertical-align: top;\n",
       "    }\n",
       "\n",
       "    .dataframe thead th {\n",
       "        text-align: right;\n",
       "    }\n",
       "</style>\n",
       "<table border=\"1\" class=\"dataframe\">\n",
       "  <thead>\n",
       "    <tr style=\"text-align: right;\">\n",
       "      <th></th>\n",
       "      <th>source_id</th>\n",
       "      <th>uid</th>\n",
       "    </tr>\n",
       "  </thead>\n",
       "  <tbody>\n",
       "    <tr>\n",
       "      <td>0</td>\n",
       "      <td>1</td>\n",
       "      <td>9469</td>\n",
       "    </tr>\n",
       "    <tr>\n",
       "      <td>1</td>\n",
       "      <td>2</td>\n",
       "      <td>17616</td>\n",
       "    </tr>\n",
       "    <tr>\n",
       "      <td>2</td>\n",
       "      <td>3</td>\n",
       "      <td>66116</td>\n",
       "    </tr>\n",
       "    <tr>\n",
       "      <td>3</td>\n",
       "      <td>4</td>\n",
       "      <td>72346</td>\n",
       "    </tr>\n",
       "    <tr>\n",
       "      <td>4</td>\n",
       "      <td>5</td>\n",
       "      <td>49237</td>\n",
       "    </tr>\n",
       "    <tr>\n",
       "      <td>5</td>\n",
       "      <td>6</td>\n",
       "      <td>2</td>\n",
       "    </tr>\n",
       "    <tr>\n",
       "      <td>6</td>\n",
       "      <td>7</td>\n",
       "      <td>32</td>\n",
       "    </tr>\n",
       "    <tr>\n",
       "      <td>7</td>\n",
       "      <td>9</td>\n",
       "      <td>6448</td>\n",
       "    </tr>\n",
       "    <tr>\n",
       "      <td>8</td>\n",
       "      <td>10</td>\n",
       "      <td>6903</td>\n",
       "    </tr>\n",
       "  </tbody>\n",
       "</table>\n",
       "</div>"
      ],
      "text/plain": [
       "   source_id    uid\n",
       "0          1   9469\n",
       "1          2  17616\n",
       "2          3  66116\n",
       "3          4  72346\n",
       "4          5  49237\n",
       "5          6      2\n",
       "6          7     32\n",
       "7          9   6448\n",
       "8         10   6903"
      ]
     },
     "execution_count": 47,
     "metadata": {},
     "output_type": "execute_result"
    }
   ],
   "source": [
    "#Посмотрим из какого источника был первый визит и сколько людей оттуда пришил\n",
    "first_visits_source = (visits.sort_values(by = ['start_ts'], ascending = True)\n",
    "                             .groupby('uid').agg({'source_id': 'first'}).reset_index()\n",
    "                             .groupby('source_id').agg({'uid': 'count'})).reset_index()\n",
    "first_visits_source"
   ]
  },
  {
   "cell_type": "markdown",
   "metadata": {},
   "source": [
    "На 3й источник было потрачено больше всего 141321. Меньше всего на 9й - 5517. \n",
    "6го, 7го и 8го в результирующей таблице нет - на них бюджет не выделялся.\n",
    "4й источник привлек больше всего людей - 72346"
   ]
  },
  {
   "cell_type": "code",
   "execution_count": 48,
   "metadata": {},
   "outputs": [
    {
     "data": {
      "image/png": "[encoded data removed]",
      "text/plain": [
       "<Figure size 1080x360 with 1 Axes>"
      ]
     },
     "metadata": {},
     "output_type": "display_data"
    }
   ],
   "source": [
    "#По времени\n",
    "costs['month_cost'] = costs['date'].astype('datetime64[M]')\n",
    "time_costs = costs.pivot_table(index='month_cost', values='costs', aggfunc='sum').sort_values('costs')\n",
    "time_costs.plot(kind='barh', figsize=(15,5)).set_yticklabels(time_costs.index.strftime('%Y-%m'))\n",
    "plt.title('График затрат от времени')\n",
    "plt.xlabel('Затраты')\n",
    "plt.ylabel('Дата')\n",
    "plt.show()"
   ]
  },
  {
   "cell_type": "code",
   "execution_count": 49,
   "metadata": {},
   "outputs": [
    {
     "data": {
      "text/html": [
       "<div>\n",
       "<style scoped>\n",
       "    .dataframe tbody tr th:only-of-type {\n",
       "        vertical-align: middle;\n",
       "    }\n",
       "\n",
       "    .dataframe tbody tr th {\n",
       "        vertical-align: top;\n",
       "    }\n",
       "\n",
       "    .dataframe thead th {\n",
       "        text-align: right;\n",
       "    }\n",
       "</style>\n",
       "<table border=\"1\" class=\"dataframe\">\n",
       "  <thead>\n",
       "    <tr style=\"text-align: right;\">\n",
       "      <th></th>\n",
       "      <th>costs</th>\n",
       "    </tr>\n",
       "    <tr>\n",
       "      <th>month_cost</th>\n",
       "      <th></th>\n",
       "    </tr>\n",
       "  </thead>\n",
       "  <tbody>\n",
       "    <tr>\n",
       "      <td>2017-08-01</td>\n",
       "      <td>14790.54</td>\n",
       "    </tr>\n",
       "    <tr>\n",
       "      <td>2017-06-01</td>\n",
       "      <td>18015.00</td>\n",
       "    </tr>\n",
       "    <tr>\n",
       "      <td>2017-07-01</td>\n",
       "      <td>18240.59</td>\n",
       "    </tr>\n",
       "    <tr>\n",
       "      <td>2018-05-01</td>\n",
       "      <td>22224.27</td>\n",
       "    </tr>\n",
       "    <tr>\n",
       "      <td>2018-04-01</td>\n",
       "      <td>22289.38</td>\n",
       "    </tr>\n",
       "    <tr>\n",
       "      <td>2017-09-01</td>\n",
       "      <td>24368.91</td>\n",
       "    </tr>\n",
       "    <tr>\n",
       "      <td>2018-03-01</td>\n",
       "      <td>30415.27</td>\n",
       "    </tr>\n",
       "    <tr>\n",
       "      <td>2018-02-01</td>\n",
       "      <td>32723.03</td>\n",
       "    </tr>\n",
       "    <tr>\n",
       "      <td>2018-01-01</td>\n",
       "      <td>33518.52</td>\n",
       "    </tr>\n",
       "    <tr>\n",
       "      <td>2017-10-01</td>\n",
       "      <td>36322.88</td>\n",
       "    </tr>\n",
       "    <tr>\n",
       "      <td>2017-11-01</td>\n",
       "      <td>37907.88</td>\n",
       "    </tr>\n",
       "    <tr>\n",
       "      <td>2017-12-01</td>\n",
       "      <td>38315.35</td>\n",
       "    </tr>\n",
       "  </tbody>\n",
       "</table>\n",
       "</div>"
      ],
      "text/plain": [
       "               costs\n",
       "month_cost          \n",
       "2017-08-01  14790.54\n",
       "2017-06-01  18015.00\n",
       "2017-07-01  18240.59\n",
       "2018-05-01  22224.27\n",
       "2018-04-01  22289.38\n",
       "2017-09-01  24368.91\n",
       "2018-03-01  30415.27\n",
       "2018-02-01  32723.03\n",
       "2018-01-01  33518.52\n",
       "2017-10-01  36322.88\n",
       "2017-11-01  37907.88\n",
       "2017-12-01  38315.35"
      ]
     },
     "execution_count": 49,
     "metadata": {},
     "output_type": "execute_result"
    }
   ],
   "source": [
    "time_costs"
   ]
  },
  {
   "cell_type": "markdown",
   "metadata": {},
   "source": [
    "в 17м году с октября по декабрь были самые большие затраты."
   ]
  },
  {
   "cell_type": "markdown",
   "metadata": {},
   "source": [
    "#### Сколько стоило привлечение одного покупателя из каждого источника? <a id=\"step4.2\"></a> "
   ]
  },
  {
   "cell_type": "code",
   "execution_count": 50,
   "metadata": {},
   "outputs": [
    {
     "data": {
      "text/html": [
       "<div>\n",
       "<style scoped>\n",
       "    .dataframe tbody tr th:only-of-type {\n",
       "        vertical-align: middle;\n",
       "    }\n",
       "\n",
       "    .dataframe tbody tr th {\n",
       "        vertical-align: top;\n",
       "    }\n",
       "\n",
       "    .dataframe thead th {\n",
       "        text-align: right;\n",
       "    }\n",
       "</style>\n",
       "<table border=\"1\" class=\"dataframe\">\n",
       "  <thead>\n",
       "    <tr style=\"text-align: right;\">\n",
       "      <th></th>\n",
       "      <th>uid</th>\n",
       "      <th>buy_month</th>\n",
       "      <th>revenue</th>\n",
       "    </tr>\n",
       "  </thead>\n",
       "  <tbody>\n",
       "    <tr>\n",
       "      <td>0</td>\n",
       "      <td>313578113262317</td>\n",
       "      <td>2018-01-01</td>\n",
       "      <td>0.55</td>\n",
       "    </tr>\n",
       "    <tr>\n",
       "      <td>1</td>\n",
       "      <td>1575281904278712</td>\n",
       "      <td>2017-06-01</td>\n",
       "      <td>1.22</td>\n",
       "    </tr>\n",
       "    <tr>\n",
       "      <td>2</td>\n",
       "      <td>1575281904278712</td>\n",
       "      <td>2017-06-01</td>\n",
       "      <td>1.83</td>\n",
       "    </tr>\n",
       "    <tr>\n",
       "      <td>3</td>\n",
       "      <td>2429014661409475</td>\n",
       "      <td>2017-10-01</td>\n",
       "      <td>73.33</td>\n",
       "    </tr>\n",
       "    <tr>\n",
       "      <td>4</td>\n",
       "      <td>2464366381792757</td>\n",
       "      <td>2018-01-01</td>\n",
       "      <td>2.44</td>\n",
       "    </tr>\n",
       "  </tbody>\n",
       "</table>\n",
       "</div>"
      ],
      "text/plain": [
       "                uid  buy_month  revenue\n",
       "0   313578113262317 2018-01-01     0.55\n",
       "1  1575281904278712 2017-06-01     1.22\n",
       "2  1575281904278712 2017-06-01     1.83\n",
       "3  2429014661409475 2017-10-01    73.33\n",
       "4  2464366381792757 2018-01-01     2.44"
      ]
     },
     "execution_count": 50,
     "metadata": {},
     "output_type": "execute_result"
    }
   ],
   "source": [
    "#Дата первой покупки\n",
    "v6=orders.groupby(['uid','buy_ts']).agg({'revenue':'sum'}).reset_index()\n",
    "v6['buy_ts']=v6['buy_ts'].astype('datetime64[M]')\n",
    "v6.columns=['uid','buy_month','revenue']\n",
    "v6.head()"
   ]
  },
  {
   "cell_type": "code",
   "execution_count": 51,
   "metadata": {},
   "outputs": [
    {
     "data": {
      "text/html": [
       "<div>\n",
       "<style scoped>\n",
       "    .dataframe tbody tr th:only-of-type {\n",
       "        vertical-align: middle;\n",
       "    }\n",
       "\n",
       "    .dataframe tbody tr th {\n",
       "        vertical-align: top;\n",
       "    }\n",
       "\n",
       "    .dataframe thead th {\n",
       "        text-align: right;\n",
       "    }\n",
       "</style>\n",
       "<table border=\"1\" class=\"dataframe\">\n",
       "  <thead>\n",
       "    <tr style=\"text-align: right;\">\n",
       "      <th></th>\n",
       "      <th>uid</th>\n",
       "      <th>first_visit_month</th>\n",
       "      <th>source_id</th>\n",
       "    </tr>\n",
       "  </thead>\n",
       "  <tbody>\n",
       "    <tr>\n",
       "      <td>0</td>\n",
       "      <td>11863502262781</td>\n",
       "      <td>2018-03-01</td>\n",
       "      <td>3</td>\n",
       "    </tr>\n",
       "    <tr>\n",
       "      <td>1</td>\n",
       "      <td>49537067089222</td>\n",
       "      <td>2018-02-01</td>\n",
       "      <td>2</td>\n",
       "    </tr>\n",
       "    <tr>\n",
       "      <td>2</td>\n",
       "      <td>297729379853735</td>\n",
       "      <td>2017-06-01</td>\n",
       "      <td>3</td>\n",
       "    </tr>\n",
       "    <tr>\n",
       "      <td>3</td>\n",
       "      <td>313578113262317</td>\n",
       "      <td>2017-09-01</td>\n",
       "      <td>2</td>\n",
       "    </tr>\n",
       "    <tr>\n",
       "      <td>4</td>\n",
       "      <td>325320750514679</td>\n",
       "      <td>2017-09-01</td>\n",
       "      <td>5</td>\n",
       "    </tr>\n",
       "  </tbody>\n",
       "</table>\n",
       "</div>"
      ],
      "text/plain": [
       "               uid first_visit_month  source_id\n",
       "0   11863502262781        2018-03-01          3\n",
       "1   49537067089222        2018-02-01          2\n",
       "2  297729379853735        2017-06-01          3\n",
       "3  313578113262317        2017-09-01          2\n",
       "4  325320750514679        2017-09-01          5"
      ]
     },
     "execution_count": 51,
     "metadata": {},
     "output_type": "execute_result"
    }
   ],
   "source": [
    "#Источник первого визита\n",
    "v61=visits.groupby('uid').agg({'start_ts':'min','source_id':'first'}).reset_index().rename(columns={'start_ts':'first_visit_month'})\n",
    "v61['first_visit_month']=v61['first_visit_month'].astype('datetime64[M]')\n",
    "v61.head()"
   ]
  },
  {
   "cell_type": "code",
   "execution_count": 52,
   "metadata": {},
   "outputs": [
    {
     "data": {
      "text/html": [
       "<div>\n",
       "<style scoped>\n",
       "    .dataframe tbody tr th:only-of-type {\n",
       "        vertical-align: middle;\n",
       "    }\n",
       "\n",
       "    .dataframe tbody tr th {\n",
       "        vertical-align: top;\n",
       "    }\n",
       "\n",
       "    .dataframe thead th {\n",
       "        text-align: right;\n",
       "    }\n",
       "</style>\n",
       "<table border=\"1\" class=\"dataframe\">\n",
       "  <thead>\n",
       "    <tr style=\"text-align: right;\">\n",
       "      <th></th>\n",
       "      <th>uid</th>\n",
       "      <th>source_id</th>\n",
       "      <th>first_buy_month</th>\n",
       "    </tr>\n",
       "  </thead>\n",
       "  <tbody>\n",
       "    <tr>\n",
       "      <td>0</td>\n",
       "      <td>313578113262317</td>\n",
       "      <td>2</td>\n",
       "      <td>2018-01-01</td>\n",
       "    </tr>\n",
       "    <tr>\n",
       "      <td>1</td>\n",
       "      <td>1575281904278712</td>\n",
       "      <td>10</td>\n",
       "      <td>2017-06-01</td>\n",
       "    </tr>\n",
       "    <tr>\n",
       "      <td>2</td>\n",
       "      <td>2429014661409475</td>\n",
       "      <td>3</td>\n",
       "      <td>2017-10-01</td>\n",
       "    </tr>\n",
       "    <tr>\n",
       "      <td>3</td>\n",
       "      <td>2464366381792757</td>\n",
       "      <td>5</td>\n",
       "      <td>2018-01-01</td>\n",
       "    </tr>\n",
       "    <tr>\n",
       "      <td>4</td>\n",
       "      <td>2551852515556206</td>\n",
       "      <td>5</td>\n",
       "      <td>2017-11-01</td>\n",
       "    </tr>\n",
       "  </tbody>\n",
       "</table>\n",
       "</div>"
      ],
      "text/plain": [
       "                uid  source_id first_buy_month\n",
       "0   313578113262317          2      2018-01-01\n",
       "1  1575281904278712         10      2017-06-01\n",
       "2  2429014661409475          3      2017-10-01\n",
       "3  2464366381792757          5      2018-01-01\n",
       "4  2551852515556206          5      2017-11-01"
      ]
     },
     "execution_count": 52,
     "metadata": {},
     "output_type": "execute_result"
    }
   ],
   "source": [
    "#Месяц первой покупки\n",
    "v62=pd.merge(v61,v6,on='uid')\n",
    "v612=v62[['uid','buy_month','source_id']].drop_duplicates()\n",
    "v612=v612.groupby(['uid','source_id']).agg({'buy_month':'min'}).reset_index().rename(columns={'buy_month':'first_buy_month'})\n",
    "v612.head()"
   ]
  },
  {
   "cell_type": "code",
   "execution_count": 53,
   "metadata": {},
   "outputs": [
    {
     "data": {
      "text/html": [
       "<div>\n",
       "<style scoped>\n",
       "    .dataframe tbody tr th:only-of-type {\n",
       "        vertical-align: middle;\n",
       "    }\n",
       "\n",
       "    .dataframe tbody tr th {\n",
       "        vertical-align: top;\n",
       "    }\n",
       "\n",
       "    .dataframe thead th {\n",
       "        text-align: right;\n",
       "    }\n",
       "</style>\n",
       "<table border=\"1\" class=\"dataframe\">\n",
       "  <thead>\n",
       "    <tr style=\"text-align: right;\">\n",
       "      <th></th>\n",
       "      <th>first_buy_month</th>\n",
       "      <th>source_id</th>\n",
       "      <th>n_buyers</th>\n",
       "    </tr>\n",
       "  </thead>\n",
       "  <tbody>\n",
       "    <tr>\n",
       "      <td>0</td>\n",
       "      <td>2017-06-01</td>\n",
       "      <td>1</td>\n",
       "      <td>203</td>\n",
       "    </tr>\n",
       "    <tr>\n",
       "      <td>1</td>\n",
       "      <td>2017-06-01</td>\n",
       "      <td>2</td>\n",
       "      <td>271</td>\n",
       "    </tr>\n",
       "    <tr>\n",
       "      <td>2</td>\n",
       "      <td>2017-06-01</td>\n",
       "      <td>3</td>\n",
       "      <td>574</td>\n",
       "    </tr>\n",
       "    <tr>\n",
       "      <td>3</td>\n",
       "      <td>2017-06-01</td>\n",
       "      <td>4</td>\n",
       "      <td>417</td>\n",
       "    </tr>\n",
       "    <tr>\n",
       "      <td>4</td>\n",
       "      <td>2017-06-01</td>\n",
       "      <td>5</td>\n",
       "      <td>368</td>\n",
       "    </tr>\n",
       "  </tbody>\n",
       "</table>\n",
       "</div>"
      ],
      "text/plain": [
       "  first_buy_month  source_id  n_buyers\n",
       "0      2017-06-01          1       203\n",
       "1      2017-06-01          2       271\n",
       "2      2017-06-01          3       574\n",
       "3      2017-06-01          4       417\n",
       "4      2017-06-01          5       368"
      ]
     },
     "execution_count": 53,
     "metadata": {},
     "output_type": "execute_result"
    }
   ],
   "source": [
    "#Количество новых покупателей\n",
    "v63=v612.groupby(['first_buy_month','source_id']).agg({'uid':'nunique'}).reset_index().rename(columns={'uid':'n_buyers'})\n",
    "v63.head()"
   ]
  },
  {
   "cell_type": "code",
   "execution_count": 54,
   "metadata": {},
   "outputs": [
    {
     "data": {
      "text/html": [
       "<div>\n",
       "<style scoped>\n",
       "    .dataframe tbody tr th:only-of-type {\n",
       "        vertical-align: middle;\n",
       "    }\n",
       "\n",
       "    .dataframe tbody tr th {\n",
       "        vertical-align: top;\n",
       "    }\n",
       "\n",
       "    .dataframe thead th {\n",
       "        text-align: right;\n",
       "    }\n",
       "</style>\n",
       "<table border=\"1\" class=\"dataframe\">\n",
       "  <thead>\n",
       "    <tr style=\"text-align: right;\">\n",
       "      <th></th>\n",
       "      <th>first_buy_month</th>\n",
       "      <th>buy_month</th>\n",
       "      <th>source_id</th>\n",
       "      <th>revenue</th>\n",
       "    </tr>\n",
       "  </thead>\n",
       "  <tbody>\n",
       "    <tr>\n",
       "      <td>0</td>\n",
       "      <td>2017-06-01</td>\n",
       "      <td>2017-06-01</td>\n",
       "      <td>1</td>\n",
       "      <td>1168.45</td>\n",
       "    </tr>\n",
       "    <tr>\n",
       "      <td>1</td>\n",
       "      <td>2017-06-01</td>\n",
       "      <td>2017-06-01</td>\n",
       "      <td>2</td>\n",
       "      <td>1551.76</td>\n",
       "    </tr>\n",
       "    <tr>\n",
       "      <td>2</td>\n",
       "      <td>2017-06-01</td>\n",
       "      <td>2017-06-01</td>\n",
       "      <td>3</td>\n",
       "      <td>2466.71</td>\n",
       "    </tr>\n",
       "    <tr>\n",
       "      <td>3</td>\n",
       "      <td>2017-06-01</td>\n",
       "      <td>2017-06-01</td>\n",
       "      <td>4</td>\n",
       "      <td>2039.64</td>\n",
       "    </tr>\n",
       "    <tr>\n",
       "      <td>4</td>\n",
       "      <td>2017-06-01</td>\n",
       "      <td>2017-06-01</td>\n",
       "      <td>5</td>\n",
       "      <td>1787.68</td>\n",
       "    </tr>\n",
       "  </tbody>\n",
       "</table>\n",
       "</div>"
      ],
      "text/plain": [
       "  first_buy_month  buy_month  source_id  revenue\n",
       "0      2017-06-01 2017-06-01          1  1168.45\n",
       "1      2017-06-01 2017-06-01          2  1551.76\n",
       "2      2017-06-01 2017-06-01          3  2466.71\n",
       "3      2017-06-01 2017-06-01          4  2039.64\n",
       "4      2017-06-01 2017-06-01          5  1787.68"
      ]
     },
     "execution_count": 54,
     "metadata": {},
     "output_type": "execute_result"
    }
   ],
   "source": [
    "#Таблица с группировкой по месяцу первой покупки, источкнику и суммой выручкии\n",
    "v622=v62[['uid','source_id','buy_month','revenue']]\n",
    "v622=pd.merge(v622,v612,on=['uid','source_id'])\n",
    "v623=v622.groupby(['first_buy_month','buy_month','source_id']).agg({'revenue':'sum'}).reset_index()\n",
    "v623.head()"
   ]
  },
  {
   "cell_type": "code",
   "execution_count": 55,
   "metadata": {},
   "outputs": [
    {
     "data": {
      "text/html": [
       "<div>\n",
       "<style scoped>\n",
       "    .dataframe tbody tr th:only-of-type {\n",
       "        vertical-align: middle;\n",
       "    }\n",
       "\n",
       "    .dataframe tbody tr th {\n",
       "        vertical-align: top;\n",
       "    }\n",
       "\n",
       "    .dataframe thead th {\n",
       "        text-align: right;\n",
       "    }\n",
       "</style>\n",
       "<table border=\"1\" class=\"dataframe\">\n",
       "  <thead>\n",
       "    <tr style=\"text-align: right;\">\n",
       "      <th></th>\n",
       "      <th>first_buy_month</th>\n",
       "      <th>source_id</th>\n",
       "      <th>n_buyers</th>\n",
       "      <th>buy_month</th>\n",
       "      <th>revenue</th>\n",
       "    </tr>\n",
       "  </thead>\n",
       "  <tbody>\n",
       "    <tr>\n",
       "      <td>0</td>\n",
       "      <td>2017-06-01</td>\n",
       "      <td>1</td>\n",
       "      <td>203</td>\n",
       "      <td>2017-06-01</td>\n",
       "      <td>1168.45</td>\n",
       "    </tr>\n",
       "    <tr>\n",
       "      <td>1</td>\n",
       "      <td>2017-06-01</td>\n",
       "      <td>1</td>\n",
       "      <td>203</td>\n",
       "      <td>2017-07-01</td>\n",
       "      <td>362.94</td>\n",
       "    </tr>\n",
       "    <tr>\n",
       "      <td>2</td>\n",
       "      <td>2017-06-01</td>\n",
       "      <td>1</td>\n",
       "      <td>203</td>\n",
       "      <td>2017-08-01</td>\n",
       "      <td>153.72</td>\n",
       "    </tr>\n",
       "    <tr>\n",
       "      <td>3</td>\n",
       "      <td>2017-06-01</td>\n",
       "      <td>1</td>\n",
       "      <td>203</td>\n",
       "      <td>2017-09-01</td>\n",
       "      <td>695.88</td>\n",
       "    </tr>\n",
       "    <tr>\n",
       "      <td>4</td>\n",
       "      <td>2017-06-01</td>\n",
       "      <td>1</td>\n",
       "      <td>203</td>\n",
       "      <td>2017-10-01</td>\n",
       "      <td>760.74</td>\n",
       "    </tr>\n",
       "  </tbody>\n",
       "</table>\n",
       "</div>"
      ],
      "text/plain": [
       "  first_buy_month  source_id  n_buyers  buy_month  revenue\n",
       "0      2017-06-01          1       203 2017-06-01  1168.45\n",
       "1      2017-06-01          1       203 2017-07-01   362.94\n",
       "2      2017-06-01          1       203 2017-08-01   153.72\n",
       "3      2017-06-01          1       203 2017-09-01   695.88\n",
       "4      2017-06-01          1       203 2017-10-01   760.74"
      ]
     },
     "execution_count": 55,
     "metadata": {},
     "output_type": "execute_result"
    }
   ],
   "source": [
    "v64=pd.merge(v63,v623,on=['first_buy_month','source_id'])\n",
    "v64.head()"
   ]
  },
  {
   "cell_type": "code",
   "execution_count": 56,
   "metadata": {},
   "outputs": [
    {
     "data": {
      "text/html": [
       "<div>\n",
       "<style scoped>\n",
       "    .dataframe tbody tr th:only-of-type {\n",
       "        vertical-align: middle;\n",
       "    }\n",
       "\n",
       "    .dataframe tbody tr th {\n",
       "        vertical-align: top;\n",
       "    }\n",
       "\n",
       "    .dataframe thead th {\n",
       "        text-align: right;\n",
       "    }\n",
       "</style>\n",
       "<table border=\"1\" class=\"dataframe\">\n",
       "  <thead>\n",
       "    <tr style=\"text-align: right;\">\n",
       "      <th></th>\n",
       "      <th>buy_month</th>\n",
       "      <th>source_id</th>\n",
       "      <th>costs</th>\n",
       "    </tr>\n",
       "  </thead>\n",
       "  <tbody>\n",
       "    <tr>\n",
       "      <td>0</td>\n",
       "      <td>2017-06</td>\n",
       "      <td>1</td>\n",
       "      <td>1125.61</td>\n",
       "    </tr>\n",
       "    <tr>\n",
       "      <td>1</td>\n",
       "      <td>2017-06</td>\n",
       "      <td>2</td>\n",
       "      <td>2427.38</td>\n",
       "    </tr>\n",
       "    <tr>\n",
       "      <td>2</td>\n",
       "      <td>2017-06</td>\n",
       "      <td>3</td>\n",
       "      <td>7731.65</td>\n",
       "    </tr>\n",
       "    <tr>\n",
       "      <td>3</td>\n",
       "      <td>2017-06</td>\n",
       "      <td>4</td>\n",
       "      <td>3514.80</td>\n",
       "    </tr>\n",
       "    <tr>\n",
       "      <td>4</td>\n",
       "      <td>2017-06</td>\n",
       "      <td>5</td>\n",
       "      <td>2616.12</td>\n",
       "    </tr>\n",
       "  </tbody>\n",
       "</table>\n",
       "</div>"
      ],
      "text/plain": [
       "  buy_month  source_id    costs\n",
       "0   2017-06          1  1125.61\n",
       "1   2017-06          2  2427.38\n",
       "2   2017-06          3  7731.65\n",
       "3   2017-06          4  3514.80\n",
       "4   2017-06          5  2616.12"
      ]
     },
     "execution_count": 56,
     "metadata": {},
     "output_type": "execute_result"
    }
   ],
   "source": [
    "monthly_cost=costs.groupby(['month_cost','source_id'])['costs'].sum().reset_index().rename(columns={'month_cost':'buy_month'})\n",
    "monthly_cost['buy_month']=monthly_cost['buy_month'].dt.strftime('%Y-%m')\n",
    "monthly_cost.head()"
   ]
  },
  {
   "cell_type": "code",
   "execution_count": 57,
   "metadata": {},
   "outputs": [
    {
     "data": {
      "text/html": [
       "<div>\n",
       "<style scoped>\n",
       "    .dataframe tbody tr th:only-of-type {\n",
       "        vertical-align: middle;\n",
       "    }\n",
       "\n",
       "    .dataframe tbody tr th {\n",
       "        vertical-align: top;\n",
       "    }\n",
       "\n",
       "    .dataframe thead th {\n",
       "        text-align: right;\n",
       "    }\n",
       "</style>\n",
       "<table border=\"1\" class=\"dataframe\">\n",
       "  <thead>\n",
       "    <tr style=\"text-align: right;\">\n",
       "      <th></th>\n",
       "      <th>first_buy_month</th>\n",
       "      <th>source_id</th>\n",
       "      <th>n_buyers</th>\n",
       "      <th>buy_month</th>\n",
       "      <th>revenue</th>\n",
       "    </tr>\n",
       "  </thead>\n",
       "  <tbody>\n",
       "    <tr>\n",
       "      <td>0</td>\n",
       "      <td>2017-06-01</td>\n",
       "      <td>1</td>\n",
       "      <td>203</td>\n",
       "      <td>2017-06-01</td>\n",
       "      <td>1168.45</td>\n",
       "    </tr>\n",
       "    <tr>\n",
       "      <td>1</td>\n",
       "      <td>2017-06-01</td>\n",
       "      <td>1</td>\n",
       "      <td>203</td>\n",
       "      <td>2017-07-01</td>\n",
       "      <td>362.94</td>\n",
       "    </tr>\n",
       "    <tr>\n",
       "      <td>2</td>\n",
       "      <td>2017-06-01</td>\n",
       "      <td>1</td>\n",
       "      <td>203</td>\n",
       "      <td>2017-08-01</td>\n",
       "      <td>153.72</td>\n",
       "    </tr>\n",
       "    <tr>\n",
       "      <td>3</td>\n",
       "      <td>2017-06-01</td>\n",
       "      <td>1</td>\n",
       "      <td>203</td>\n",
       "      <td>2017-09-01</td>\n",
       "      <td>695.88</td>\n",
       "    </tr>\n",
       "    <tr>\n",
       "      <td>4</td>\n",
       "      <td>2017-06-01</td>\n",
       "      <td>1</td>\n",
       "      <td>203</td>\n",
       "      <td>2017-10-01</td>\n",
       "      <td>760.74</td>\n",
       "    </tr>\n",
       "  </tbody>\n",
       "</table>\n",
       "</div>"
      ],
      "text/plain": [
       "  first_buy_month  source_id  n_buyers  buy_month  revenue\n",
       "0      2017-06-01          1       203 2017-06-01  1168.45\n",
       "1      2017-06-01          1       203 2017-07-01   362.94\n",
       "2      2017-06-01          1       203 2017-08-01   153.72\n",
       "3      2017-06-01          1       203 2017-09-01   695.88\n",
       "4      2017-06-01          1       203 2017-10-01   760.74"
      ]
     },
     "execution_count": 57,
     "metadata": {},
     "output_type": "execute_result"
    }
   ],
   "source": [
    "v7_report=v64\n",
    "v7_report['first_buy_month']=v7_report['first_buy_month'].astype('datetime64[M]')\n",
    "v7_report['buy_month']=v7_report['buy_month'].astype('datetime64[M]')\n",
    "v7_report.head()"
   ]
  },
  {
   "cell_type": "code",
   "execution_count": 58,
   "metadata": {},
   "outputs": [
    {
     "data": {
      "text/html": [
       "<div>\n",
       "<style scoped>\n",
       "    .dataframe tbody tr th:only-of-type {\n",
       "        vertical-align: middle;\n",
       "    }\n",
       "\n",
       "    .dataframe tbody tr th {\n",
       "        vertical-align: top;\n",
       "    }\n",
       "\n",
       "    .dataframe thead th {\n",
       "        text-align: right;\n",
       "    }\n",
       "</style>\n",
       "<table border=\"1\" class=\"dataframe\">\n",
       "  <thead>\n",
       "    <tr style=\"text-align: right;\">\n",
       "      <th></th>\n",
       "      <th>first_buy_month</th>\n",
       "      <th>source_id</th>\n",
       "      <th>n_buyers</th>\n",
       "      <th>buy_month</th>\n",
       "      <th>revenue</th>\n",
       "      <th>gp</th>\n",
       "      <th>age</th>\n",
       "      <th>ltv</th>\n",
       "    </tr>\n",
       "  </thead>\n",
       "  <tbody>\n",
       "    <tr>\n",
       "      <td>0</td>\n",
       "      <td>2017-06-01</td>\n",
       "      <td>1</td>\n",
       "      <td>203</td>\n",
       "      <td>2017-06-01</td>\n",
       "      <td>1168.45</td>\n",
       "      <td>584.225</td>\n",
       "      <td>0</td>\n",
       "      <td>2.877956</td>\n",
       "    </tr>\n",
       "    <tr>\n",
       "      <td>1</td>\n",
       "      <td>2017-06-01</td>\n",
       "      <td>1</td>\n",
       "      <td>203</td>\n",
       "      <td>2017-07-01</td>\n",
       "      <td>362.94</td>\n",
       "      <td>181.470</td>\n",
       "      <td>1</td>\n",
       "      <td>0.893941</td>\n",
       "    </tr>\n",
       "    <tr>\n",
       "      <td>2</td>\n",
       "      <td>2017-06-01</td>\n",
       "      <td>1</td>\n",
       "      <td>203</td>\n",
       "      <td>2017-08-01</td>\n",
       "      <td>153.72</td>\n",
       "      <td>76.860</td>\n",
       "      <td>2</td>\n",
       "      <td>0.378621</td>\n",
       "    </tr>\n",
       "    <tr>\n",
       "      <td>3</td>\n",
       "      <td>2017-06-01</td>\n",
       "      <td>1</td>\n",
       "      <td>203</td>\n",
       "      <td>2017-09-01</td>\n",
       "      <td>695.88</td>\n",
       "      <td>347.940</td>\n",
       "      <td>3</td>\n",
       "      <td>1.713990</td>\n",
       "    </tr>\n",
       "    <tr>\n",
       "      <td>4</td>\n",
       "      <td>2017-06-01</td>\n",
       "      <td>1</td>\n",
       "      <td>203</td>\n",
       "      <td>2017-10-01</td>\n",
       "      <td>760.74</td>\n",
       "      <td>380.370</td>\n",
       "      <td>4</td>\n",
       "      <td>1.873744</td>\n",
       "    </tr>\n",
       "  </tbody>\n",
       "</table>\n",
       "</div>"
      ],
      "text/plain": [
       "  first_buy_month  source_id  n_buyers  buy_month  revenue       gp  age  \\\n",
       "0      2017-06-01          1       203 2017-06-01  1168.45  584.225    0   \n",
       "1      2017-06-01          1       203 2017-07-01   362.94  181.470    1   \n",
       "2      2017-06-01          1       203 2017-08-01   153.72   76.860    2   \n",
       "3      2017-06-01          1       203 2017-09-01   695.88  347.940    3   \n",
       "4      2017-06-01          1       203 2017-10-01   760.74  380.370    4   \n",
       "\n",
       "        ltv  \n",
       "0  2.877956  \n",
       "1  0.893941  \n",
       "2  0.378621  \n",
       "3  1.713990  \n",
       "4  1.873744  "
      ]
     },
     "execution_count": 58,
     "metadata": {},
     "output_type": "execute_result"
    }
   ],
   "source": [
    "v7_report['gp']=v7_report['revenue']*margin_rate\n",
    "v7_report['age']=(v7_report['buy_month']-v7_report['first_buy_month'])/np.timedelta64(1,'M')\n",
    "v7_report['age']=v7_report['age'].round().astype('int')\n",
    "v7_report['ltv']=v7_report['gp']/v7_report['n_buyers']\n",
    "v7_report.head()"
   ]
  },
  {
   "cell_type": "code",
   "execution_count": 59,
   "metadata": {},
   "outputs": [
    {
     "data": {
      "text/html": [
       "<div>\n",
       "<style scoped>\n",
       "    .dataframe tbody tr th:only-of-type {\n",
       "        vertical-align: middle;\n",
       "    }\n",
       "\n",
       "    .dataframe tbody tr th {\n",
       "        vertical-align: top;\n",
       "    }\n",
       "\n",
       "    .dataframe thead th {\n",
       "        text-align: right;\n",
       "    }\n",
       "</style>\n",
       "<table border=\"1\" class=\"dataframe\">\n",
       "  <thead>\n",
       "    <tr style=\"text-align: right;\">\n",
       "      <th></th>\n",
       "      <th>first_buy_month</th>\n",
       "      <th>source_id</th>\n",
       "      <th>costs</th>\n",
       "    </tr>\n",
       "  </thead>\n",
       "  <tbody>\n",
       "    <tr>\n",
       "      <td>0</td>\n",
       "      <td>2017-06-01</td>\n",
       "      <td>1</td>\n",
       "      <td>1125.61</td>\n",
       "    </tr>\n",
       "    <tr>\n",
       "      <td>1</td>\n",
       "      <td>2017-06-01</td>\n",
       "      <td>2</td>\n",
       "      <td>2427.38</td>\n",
       "    </tr>\n",
       "    <tr>\n",
       "      <td>2</td>\n",
       "      <td>2017-06-01</td>\n",
       "      <td>3</td>\n",
       "      <td>7731.65</td>\n",
       "    </tr>\n",
       "    <tr>\n",
       "      <td>3</td>\n",
       "      <td>2017-06-01</td>\n",
       "      <td>4</td>\n",
       "      <td>3514.80</td>\n",
       "    </tr>\n",
       "    <tr>\n",
       "      <td>4</td>\n",
       "      <td>2017-06-01</td>\n",
       "      <td>5</td>\n",
       "      <td>2616.12</td>\n",
       "    </tr>\n",
       "  </tbody>\n",
       "</table>\n",
       "</div>"
      ],
      "text/plain": [
       "  first_buy_month  source_id    costs\n",
       "0      2017-06-01          1  1125.61\n",
       "1      2017-06-01          2  2427.38\n",
       "2      2017-06-01          3  7731.65\n",
       "3      2017-06-01          4  3514.80\n",
       "4      2017-06-01          5  2616.12"
      ]
     },
     "execution_count": 59,
     "metadata": {},
     "output_type": "execute_result"
    }
   ],
   "source": [
    "monthly_cost['buy_month']=monthly_cost['buy_month'].astype('datetime64[M]')\n",
    "monthly_cost.columns=['first_buy_month','source_id','costs']\n",
    "monthly_cost.head()"
   ]
  },
  {
   "cell_type": "code",
   "execution_count": 60,
   "metadata": {},
   "outputs": [
    {
     "data": {
      "text/html": [
       "<div>\n",
       "<style scoped>\n",
       "    .dataframe tbody tr th:only-of-type {\n",
       "        vertical-align: middle;\n",
       "    }\n",
       "\n",
       "    .dataframe tbody tr th {\n",
       "        vertical-align: top;\n",
       "    }\n",
       "\n",
       "    .dataframe thead th {\n",
       "        text-align: right;\n",
       "    }\n",
       "</style>\n",
       "<table border=\"1\" class=\"dataframe\">\n",
       "  <thead>\n",
       "    <tr style=\"text-align: right;\">\n",
       "      <th></th>\n",
       "      <th>first_buy_month</th>\n",
       "      <th>source_id</th>\n",
       "      <th>n_buyers</th>\n",
       "      <th>buy_month</th>\n",
       "      <th>revenue</th>\n",
       "      <th>gp</th>\n",
       "      <th>age</th>\n",
       "      <th>ltv</th>\n",
       "      <th>costs</th>\n",
       "      <th>cac</th>\n",
       "      <th>romi</th>\n",
       "    </tr>\n",
       "  </thead>\n",
       "  <tbody>\n",
       "    <tr>\n",
       "      <td>0</td>\n",
       "      <td>2017-06-01</td>\n",
       "      <td>1</td>\n",
       "      <td>203</td>\n",
       "      <td>2017-06-01</td>\n",
       "      <td>1168.45</td>\n",
       "      <td>584.225</td>\n",
       "      <td>0</td>\n",
       "      <td>2.877956</td>\n",
       "      <td>1125.61</td>\n",
       "      <td>5.544877</td>\n",
       "      <td>0.519030</td>\n",
       "    </tr>\n",
       "    <tr>\n",
       "      <td>1</td>\n",
       "      <td>2017-06-01</td>\n",
       "      <td>1</td>\n",
       "      <td>203</td>\n",
       "      <td>2017-07-01</td>\n",
       "      <td>362.94</td>\n",
       "      <td>181.470</td>\n",
       "      <td>1</td>\n",
       "      <td>0.893941</td>\n",
       "      <td>1125.61</td>\n",
       "      <td>5.544877</td>\n",
       "      <td>0.161219</td>\n",
       "    </tr>\n",
       "    <tr>\n",
       "      <td>2</td>\n",
       "      <td>2017-06-01</td>\n",
       "      <td>1</td>\n",
       "      <td>203</td>\n",
       "      <td>2017-08-01</td>\n",
       "      <td>153.72</td>\n",
       "      <td>76.860</td>\n",
       "      <td>2</td>\n",
       "      <td>0.378621</td>\n",
       "      <td>1125.61</td>\n",
       "      <td>5.544877</td>\n",
       "      <td>0.068283</td>\n",
       "    </tr>\n",
       "    <tr>\n",
       "      <td>3</td>\n",
       "      <td>2017-06-01</td>\n",
       "      <td>1</td>\n",
       "      <td>203</td>\n",
       "      <td>2017-09-01</td>\n",
       "      <td>695.88</td>\n",
       "      <td>347.940</td>\n",
       "      <td>3</td>\n",
       "      <td>1.713990</td>\n",
       "      <td>1125.61</td>\n",
       "      <td>5.544877</td>\n",
       "      <td>0.309112</td>\n",
       "    </tr>\n",
       "    <tr>\n",
       "      <td>4</td>\n",
       "      <td>2017-06-01</td>\n",
       "      <td>1</td>\n",
       "      <td>203</td>\n",
       "      <td>2017-10-01</td>\n",
       "      <td>760.74</td>\n",
       "      <td>380.370</td>\n",
       "      <td>4</td>\n",
       "      <td>1.873744</td>\n",
       "      <td>1125.61</td>\n",
       "      <td>5.544877</td>\n",
       "      <td>0.337923</td>\n",
       "    </tr>\n",
       "  </tbody>\n",
       "</table>\n",
       "</div>"
      ],
      "text/plain": [
       "  first_buy_month  source_id  n_buyers  buy_month  revenue       gp  age  \\\n",
       "0      2017-06-01          1       203 2017-06-01  1168.45  584.225    0   \n",
       "1      2017-06-01          1       203 2017-07-01   362.94  181.470    1   \n",
       "2      2017-06-01          1       203 2017-08-01   153.72   76.860    2   \n",
       "3      2017-06-01          1       203 2017-09-01   695.88  347.940    3   \n",
       "4      2017-06-01          1       203 2017-10-01   760.74  380.370    4   \n",
       "\n",
       "        ltv    costs       cac      romi  \n",
       "0  2.877956  1125.61  5.544877  0.519030  \n",
       "1  0.893941  1125.61  5.544877  0.161219  \n",
       "2  0.378621  1125.61  5.544877  0.068283  \n",
       "3  1.713990  1125.61  5.544877  0.309112  \n",
       "4  1.873744  1125.61  5.544877  0.337923  "
      ]
     },
     "execution_count": 60,
     "metadata": {},
     "output_type": "execute_result"
    }
   ],
   "source": [
    "#Добавляем в таблицу САС и ROMI\n",
    "report_new=v7_report.merge(monthly_cost,on=['source_id','first_buy_month'])\n",
    "report_new['cac']=report_new['costs']/report_new['n_buyers']\n",
    "report_new['romi']=report_new['ltv']/report_new['cac']\n",
    "report_new.head()"
   ]
  },
  {
   "cell_type": "code",
   "execution_count": null,
   "metadata": {},
   "outputs": [],
   "source": []
  },
  {
   "cell_type": "code",
   "execution_count": 61,
   "metadata": {},
   "outputs": [
    {
     "data": {
      "image/png": "[encoded data removed]",
      "text/plain": [
       "<Figure size 1080x360 with 1 Axes>"
      ]
     },
     "metadata": {},
     "output_type": "display_data"
    }
   ],
   "source": [
    "report_pivot=report_new.pivot_table(index='first_buy_month',columns='source_id',values='cac')\n",
    "report_pivot.plot(figsize=(15,5))\n",
    "plt.title('CAC')\n",
    "plt.xlabel('Месяц')\n",
    "plt.ylabel('cac')\n",
    "plt.show()"
   ]
  },
  {
   "cell_type": "code",
   "execution_count": 67,
   "metadata": {},
   "outputs": [],
   "source": [
    "#Средний САС по источникам\n",
    "report_new2=report_new.groupby('source_id').agg({'n_buyers': 'sum', 'costs':'sum'}).reset_index()"
   ]
  },
  {
   "cell_type": "code",
   "execution_count": 69,
   "metadata": {},
   "outputs": [
    {
     "data": {
      "text/html": [
       "<div>\n",
       "<style scoped>\n",
       "    .dataframe tbody tr th:only-of-type {\n",
       "        vertical-align: middle;\n",
       "    }\n",
       "\n",
       "    .dataframe tbody tr th {\n",
       "        vertical-align: top;\n",
       "    }\n",
       "\n",
       "    .dataframe thead th {\n",
       "        text-align: right;\n",
       "    }\n",
       "</style>\n",
       "<table border=\"1\" class=\"dataframe\">\n",
       "  <thead>\n",
       "    <tr style=\"text-align: right;\">\n",
       "      <th></th>\n",
       "      <th>source_id</th>\n",
       "      <th>n_buyers</th>\n",
       "      <th>costs</th>\n",
       "      <th>cac</th>\n",
       "    </tr>\n",
       "  </thead>\n",
       "  <tbody>\n",
       "    <tr>\n",
       "      <td>0</td>\n",
       "      <td>1</td>\n",
       "      <td>22844</td>\n",
       "      <td>127585.19</td>\n",
       "      <td>5.585063</td>\n",
       "    </tr>\n",
       "    <tr>\n",
       "      <td>1</td>\n",
       "      <td>2</td>\n",
       "      <td>26403</td>\n",
       "      <td>263847.09</td>\n",
       "      <td>9.993072</td>\n",
       "    </tr>\n",
       "    <tr>\n",
       "      <td>2</td>\n",
       "      <td>3</td>\n",
       "      <td>55323</td>\n",
       "      <td>868903.37</td>\n",
       "      <td>15.706006</td>\n",
       "    </tr>\n",
       "    <tr>\n",
       "      <td>3</td>\n",
       "      <td>4</td>\n",
       "      <td>57666</td>\n",
       "      <td>378008.44</td>\n",
       "      <td>6.555135</td>\n",
       "    </tr>\n",
       "    <tr>\n",
       "      <td>4</td>\n",
       "      <td>5</td>\n",
       "      <td>42875</td>\n",
       "      <td>317923.30</td>\n",
       "      <td>7.415121</td>\n",
       "    </tr>\n",
       "    <tr>\n",
       "      <td>5</td>\n",
       "      <td>9</td>\n",
       "      <td>8905</td>\n",
       "      <td>32658.70</td>\n",
       "      <td>3.667456</td>\n",
       "    </tr>\n",
       "    <tr>\n",
       "      <td>6</td>\n",
       "      <td>10</td>\n",
       "      <td>4971</td>\n",
       "      <td>24553.91</td>\n",
       "      <td>4.939431</td>\n",
       "    </tr>\n",
       "  </tbody>\n",
       "</table>\n",
       "</div>"
      ],
      "text/plain": [
       "   source_id  n_buyers      costs        cac\n",
       "0          1     22844  127585.19   5.585063\n",
       "1          2     26403  263847.09   9.993072\n",
       "2          3     55323  868903.37  15.706006\n",
       "3          4     57666  378008.44   6.555135\n",
       "4          5     42875  317923.30   7.415121\n",
       "5          9      8905   32658.70   3.667456\n",
       "6         10      4971   24553.91   4.939431"
      ]
     },
     "execution_count": 69,
     "metadata": {},
     "output_type": "execute_result"
    }
   ],
   "source": [
    "report_new2['cac']=report_new2['costs']/report_new2['n_buyers']\n",
    "report_new2"
   ]
  },
  {
   "cell_type": "code",
   "execution_count": 73,
   "metadata": {},
   "outputs": [
    {
     "data": {
      "image/png": "[encoded data removed]",
      "text/plain": [
       "<Figure size 1080x360 with 1 Axes>"
      ]
     },
     "metadata": {},
     "output_type": "display_data"
    }
   ],
   "source": [
    "report_new2.pivot_table(index='source_id', values='cac').plot(kind='bar', figsize=(15, 5))\n",
    "plt.title('САС по источникам')\n",
    "plt.xlabel('Источник')\n",
    "plt.ylabel('Затраты')\n",
    "plt.show()"
   ]
  },
  {
   "cell_type": "code",
   "execution_count": 77,
   "metadata": {},
   "outputs": [
    {
     "data": {
      "text/html": [
       "<div>\n",
       "<style scoped>\n",
       "    .dataframe tbody tr th:only-of-type {\n",
       "        vertical-align: middle;\n",
       "    }\n",
       "\n",
       "    .dataframe tbody tr th {\n",
       "        vertical-align: top;\n",
       "    }\n",
       "\n",
       "    .dataframe thead th {\n",
       "        text-align: right;\n",
       "    }\n",
       "</style>\n",
       "<table border=\"1\" class=\"dataframe\">\n",
       "  <thead>\n",
       "    <tr style=\"text-align: right;\">\n",
       "      <th></th>\n",
       "      <th>source_id</th>\n",
       "      <th>ltv</th>\n",
       "    </tr>\n",
       "  </thead>\n",
       "  <tbody>\n",
       "    <tr>\n",
       "      <td>0</td>\n",
       "      <td>1</td>\n",
       "      <td>5.747309</td>\n",
       "    </tr>\n",
       "    <tr>\n",
       "      <td>1</td>\n",
       "      <td>2</td>\n",
       "      <td>7.597323</td>\n",
       "    </tr>\n",
       "    <tr>\n",
       "      <td>2</td>\n",
       "      <td>3</td>\n",
       "      <td>2.478050</td>\n",
       "    </tr>\n",
       "    <tr>\n",
       "      <td>3</td>\n",
       "      <td>4</td>\n",
       "      <td>2.841848</td>\n",
       "    </tr>\n",
       "    <tr>\n",
       "      <td>4</td>\n",
       "      <td>5</td>\n",
       "      <td>3.111648</td>\n",
       "    </tr>\n",
       "    <tr>\n",
       "      <td>5</td>\n",
       "      <td>9</td>\n",
       "      <td>2.672613</td>\n",
       "    </tr>\n",
       "    <tr>\n",
       "      <td>6</td>\n",
       "      <td>10</td>\n",
       "      <td>1.721611</td>\n",
       "    </tr>\n",
       "  </tbody>\n",
       "</table>\n",
       "</div>"
      ],
      "text/plain": [
       "   source_id       ltv\n",
       "0          1  5.747309\n",
       "1          2  7.597323\n",
       "2          3  2.478050\n",
       "3          4  2.841848\n",
       "4          5  3.111648\n",
       "5          9  2.672613\n",
       "6         10  1.721611"
      ]
     },
     "execution_count": 77,
     "metadata": {},
     "output_type": "execute_result"
    }
   ],
   "source": [
    "#Окупаемость источников\n",
    "report_new3=report_new.groupby(['first_buy_month','source_id']).agg({'ltv': 'sum'}).reset_index()\n",
    "report_new4=report_new3.groupby('source_id').agg({'ltv':'mean'}).reset_index()\n",
    "report_new4"
   ]
  },
  {
   "cell_type": "code",
   "execution_count": 80,
   "metadata": {},
   "outputs": [
    {
     "data": {
      "text/html": [
       "<div>\n",
       "<style scoped>\n",
       "    .dataframe tbody tr th:only-of-type {\n",
       "        vertical-align: middle;\n",
       "    }\n",
       "\n",
       "    .dataframe tbody tr th {\n",
       "        vertical-align: top;\n",
       "    }\n",
       "\n",
       "    .dataframe thead th {\n",
       "        text-align: right;\n",
       "    }\n",
       "</style>\n",
       "<table border=\"1\" class=\"dataframe\">\n",
       "  <thead>\n",
       "    <tr style=\"text-align: right;\">\n",
       "      <th></th>\n",
       "      <th>source_id</th>\n",
       "      <th>n_buyers</th>\n",
       "      <th>costs</th>\n",
       "      <th>cac</th>\n",
       "      <th>ltv</th>\n",
       "      <th>romi</th>\n",
       "    </tr>\n",
       "  </thead>\n",
       "  <tbody>\n",
       "    <tr>\n",
       "      <td>0</td>\n",
       "      <td>1</td>\n",
       "      <td>22844</td>\n",
       "      <td>127585.19</td>\n",
       "      <td>5.585063</td>\n",
       "      <td>5.747309</td>\n",
       "      <td>1.029050</td>\n",
       "    </tr>\n",
       "    <tr>\n",
       "      <td>1</td>\n",
       "      <td>2</td>\n",
       "      <td>26403</td>\n",
       "      <td>263847.09</td>\n",
       "      <td>9.993072</td>\n",
       "      <td>7.597323</td>\n",
       "      <td>0.760259</td>\n",
       "    </tr>\n",
       "    <tr>\n",
       "      <td>2</td>\n",
       "      <td>3</td>\n",
       "      <td>55323</td>\n",
       "      <td>868903.37</td>\n",
       "      <td>15.706006</td>\n",
       "      <td>2.478050</td>\n",
       "      <td>0.157777</td>\n",
       "    </tr>\n",
       "    <tr>\n",
       "      <td>3</td>\n",
       "      <td>4</td>\n",
       "      <td>57666</td>\n",
       "      <td>378008.44</td>\n",
       "      <td>6.555135</td>\n",
       "      <td>2.841848</td>\n",
       "      <td>0.433530</td>\n",
       "    </tr>\n",
       "    <tr>\n",
       "      <td>4</td>\n",
       "      <td>5</td>\n",
       "      <td>42875</td>\n",
       "      <td>317923.30</td>\n",
       "      <td>7.415121</td>\n",
       "      <td>3.111648</td>\n",
       "      <td>0.419635</td>\n",
       "    </tr>\n",
       "    <tr>\n",
       "      <td>5</td>\n",
       "      <td>9</td>\n",
       "      <td>8905</td>\n",
       "      <td>32658.70</td>\n",
       "      <td>3.667456</td>\n",
       "      <td>2.672613</td>\n",
       "      <td>0.728738</td>\n",
       "    </tr>\n",
       "    <tr>\n",
       "      <td>6</td>\n",
       "      <td>10</td>\n",
       "      <td>4971</td>\n",
       "      <td>24553.91</td>\n",
       "      <td>4.939431</td>\n",
       "      <td>1.721611</td>\n",
       "      <td>0.348544</td>\n",
       "    </tr>\n",
       "  </tbody>\n",
       "</table>\n",
       "</div>"
      ],
      "text/plain": [
       "   source_id  n_buyers      costs        cac       ltv      romi\n",
       "0          1     22844  127585.19   5.585063  5.747309  1.029050\n",
       "1          2     26403  263847.09   9.993072  7.597323  0.760259\n",
       "2          3     55323  868903.37  15.706006  2.478050  0.157777\n",
       "3          4     57666  378008.44   6.555135  2.841848  0.433530\n",
       "4          5     42875  317923.30   7.415121  3.111648  0.419635\n",
       "5          9      8905   32658.70   3.667456  2.672613  0.728738\n",
       "6         10      4971   24553.91   4.939431  1.721611  0.348544"
      ]
     },
     "execution_count": 80,
     "metadata": {},
     "output_type": "execute_result"
    }
   ],
   "source": [
    "report_new5=pd.merge(report_new2,report_new4, on='source_id')\n",
    "report_new5['romi']=report_new5['ltv']/report_new5['cac']\n",
    "report_new5"
   ]
  },
  {
   "cell_type": "code",
   "execution_count": 87,
   "metadata": {},
   "outputs": [
    {
     "name": "stdout",
     "output_type": "stream",
     "text": [
      "Всего потратили -  2013480\n"
     ]
    }
   ],
   "source": [
    "print('Всего потратили - ', int(report_new['costs'].sum()))"
   ]
  },
  {
   "cell_type": "markdown",
   "metadata": {},
   "source": [
    "Полностью окупается только 1й источник. \n",
    "\n",
    "За ним идут 2й и 9й\n",
    "\n",
    "Самые большие затраты были на 3й источник"
   ]
  },
  {
   "cell_type": "markdown",
   "metadata": {},
   "source": [
    "#### На сколько окупились расходы?\n",
    "Рассчитаем ROMI"
   ]
  },
  {
   "cell_type": "code",
   "execution_count": 66,
   "metadata": {},
   "outputs": [
    {
     "data": {
      "image/png": "[encoded data removed]",
      "text/plain": [
       "<Figure size 1224x432 with 2 Axes>"
      ]
     },
     "metadata": {},
     "output_type": "display_data"
    }
   ],
   "source": [
    "romi = report_new.pivot_table(index = 'first_buy_month',\n",
    "                                        columns = 'age',\n",
    "                                        values = 'romi',\n",
    "                                        aggfunc = 'mean')\n",
    "plt.figure(figsize=(17,6))\n",
    "plt.title('ROMI')\n",
    "ax=sns.heatmap(romi.cumsum(axis=1), annot=True, fmt='.2f', vmax=0.5, vmin=0.2, linewidth=1, linecolor='white', cmap='GnBu')\n",
    "plt.xlabel('lifetime когорты')\n",
    "plt.ylabel('Когорты')\n",
    "ax.set_yticklabels(romi.index.strftime('%Y-%m'))\n",
    "plt.show()"
   ]
  },
  {
   "cell_type": "markdown",
   "metadata": {},
   "source": [
    "Только июньская когорта окупилась на 10й месяц\n"
   ]
  },
  {
   "cell_type": "markdown",
   "metadata": {},
   "source": [
    "#### Вывод <a id=\"step4.4\"></a> "
   ]
  },
  {
   "cell_type": "markdown",
   "metadata": {},
   "source": [
    "\n",
    "\n",
    "На 3й источник было потрачено больше всего - 868903.\n",
    "\n",
    "Меньше всего на 9й - 32658.  4й источник привлек больше всего людей - 57666\n",
    "\n",
    "3й источник оказался самым дорогим по стоимости привлечения клиента - 15.7\n",
    "\n",
    "9й источник оказался самым дешевым - 3.66 \n",
    "\n",
    "\n",
    "\n",
    "\n",
    "\n",
    "Только июньская когорта окупилась на 10й месяц"
   ]
  },
  {
   "cell_type": "markdown",
   "metadata": {},
   "source": [
    "### 5. Общий вывод <a id=\"step5\"></a> "
   ]
  },
  {
   "cell_type": "markdown",
   "metadata": {},
   "source": [
    "Сервисом Яндекс-Афиша люди предпочитают в 2,5 раза больше с desktop устройств, чем с touch устиройств.\n",
    "Наиболее актвно сервисои пользуются с ноября по март. Сессия в среднем длится 1 минуту, а первую покупку совершают, через 16 мин после первого захода.\n",
    "\n",
    "Источники:\n",
    "\n",
    "3й и 2й  источник самые дорогие в привлечении одного клиента. Расходы на эти источники стоит сократить или убрать.\n",
    "\n",
    "Полностью окупился только 1й источник. Также источники 2 и 9 близки к окупаемости - их romi 0,76 и 0,72 соответсвенно.\n",
    "Я бы рекомендовал маркетологам обратить внимание именно на них.\n",
    "\n",
    "\n",
    "Средний чек по всем продажам равен 4.99. Выделяются сентябрьская когорта и декабрьская - у них средний чек больше. Возможно в эти месяцы проводились какиe-то крупные мероприятия.\n",
    "\n",
    "Больше всего покупок было совершенно в декабре 17го. Меньше всего в летние месяцы 17го. Виден всплсек на май 18го, видимо покупали те, кто остался в городе на майские праздники.\n",
    "\n",
    "Коэффициент удержания:\n",
    "\n",
    "Retention Rate в первый месяц убывает по когортам с течением времени. Если для когорты пользователей, пришедших в июне 2017 Retention Rate в первый месяц составляет 7,9%, то для пользователей, пришедших в апреле 2018 — уже 4,8%. Так, за 11 месяцев коэффициент удержания упал на 3,1%. Это говорит, что с каждой новой когортой поведение покупателей меняется. Возможно, были выбраны неэффективные источники трафика.\n",
    "\n",
    "Сколько людей пользуются в день, неделю, месяц? в день 907 в неделю 5825 в месяц 23228\n",
    "\n",
    "Сколько сессий в день? 987\n",
    "\n",
    "Сколько длится одна сессия? Продолжительность большей части сессий - от 0 до 2 минут"
   ]
  },
  {
   "cell_type": "code",
   "execution_count": null,
   "metadata": {},
   "outputs": [],
   "source": []
  }
 ],
 "metadata": {
  "kernelspec": {
   "display_name": "Python 3",
   "language": "python",
   "name": "python3"
  },
  "language_info": {
   "codemirror_mode": {
    "name": "ipython",
    "version": 3
   },
   "file_extension": ".py",
   "mimetype": "text/x-python",
   "name": "python",
   "nbconvert_exporter": "python",
   "pygments_lexer": "ipython3",
   "version": "3.7.6"
  }
 },
 "nbformat": 4,
 "nbformat_minor": 2
}
